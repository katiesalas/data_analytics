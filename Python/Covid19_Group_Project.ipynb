{
  "nbformat": 4,
  "nbformat_minor": 0,
  "metadata": {
    "colab": {
      "name": "Covid19_Group_Project.ipynb",
      "provenance": [],
      "collapsed_sections": [],
      "include_colab_link": true
    },
    "kernelspec": {
      "name": "python3",
      "display_name": "Python 3"
    }
  },
  "cells": [
    {
      "cell_type": "markdown",
      "metadata": {
        "id": "view-in-github",
        "colab_type": "text"
      },
      "source": [
        "<a href=\"https://colab.research.google.com/github/katiesalas/data_analytics_2/blob/main/Covid19_Group_Project.ipynb\" target=\"_parent\"><img src=\"https://colab.research.google.com/assets/colab-badge.svg\" alt=\"Open In Colab\"/></a>"
      ]
    },
    {
      "cell_type": "markdown",
      "metadata": {
        "id": "BdjWzOCJscBX"
      },
      "source": [
        "Hong Zhao, Katie Salas, Fahema Nabi"
      ]
    },
    {
      "cell_type": "code",
      "metadata": {
        "id": "Lf2KWn7cXdDX"
      },
      "source": [
        "import pandas as pd\n",
        "import numpy as np\n",
        "import matplotlib.pyplot as plt\n",
        "import seaborn as sns"
      ],
      "execution_count": null,
      "outputs": []
    },
    {
      "cell_type": "code",
      "metadata": {
        "id": "eSWRz4RbYiYU"
      },
      "source": [
        "df = pd.read_csv('https://raw.githubusercontent.com/nytimes/covid-19-data/master/us-states.csv')"
      ],
      "execution_count": null,
      "outputs": []
    },
    {
      "cell_type": "code",
      "metadata": {
        "id": "itdS0VlWY9Ui",
        "colab": {
          "base_uri": "https://localhost:8080/",
          "height": 197
        },
        "outputId": "c7ce8019-6af5-45e2-989e-58036dd1731e"
      },
      "source": [
        "df.head()"
      ],
      "execution_count": null,
      "outputs": [
        {
          "output_type": "execute_result",
          "data": {
            "text/html": [
              "<div>\n",
              "<style scoped>\n",
              "    .dataframe tbody tr th:only-of-type {\n",
              "        vertical-align: middle;\n",
              "    }\n",
              "\n",
              "    .dataframe tbody tr th {\n",
              "        vertical-align: top;\n",
              "    }\n",
              "\n",
              "    .dataframe thead th {\n",
              "        text-align: right;\n",
              "    }\n",
              "</style>\n",
              "<table border=\"1\" class=\"dataframe\">\n",
              "  <thead>\n",
              "    <tr style=\"text-align: right;\">\n",
              "      <th></th>\n",
              "      <th>date</th>\n",
              "      <th>state</th>\n",
              "      <th>fips</th>\n",
              "      <th>cases</th>\n",
              "      <th>deaths</th>\n",
              "    </tr>\n",
              "  </thead>\n",
              "  <tbody>\n",
              "    <tr>\n",
              "      <th>0</th>\n",
              "      <td>2020-01-21</td>\n",
              "      <td>Washington</td>\n",
              "      <td>53</td>\n",
              "      <td>1</td>\n",
              "      <td>0</td>\n",
              "    </tr>\n",
              "    <tr>\n",
              "      <th>1</th>\n",
              "      <td>2020-01-22</td>\n",
              "      <td>Washington</td>\n",
              "      <td>53</td>\n",
              "      <td>1</td>\n",
              "      <td>0</td>\n",
              "    </tr>\n",
              "    <tr>\n",
              "      <th>2</th>\n",
              "      <td>2020-01-23</td>\n",
              "      <td>Washington</td>\n",
              "      <td>53</td>\n",
              "      <td>1</td>\n",
              "      <td>0</td>\n",
              "    </tr>\n",
              "    <tr>\n",
              "      <th>3</th>\n",
              "      <td>2020-01-24</td>\n",
              "      <td>Illinois</td>\n",
              "      <td>17</td>\n",
              "      <td>1</td>\n",
              "      <td>0</td>\n",
              "    </tr>\n",
              "    <tr>\n",
              "      <th>4</th>\n",
              "      <td>2020-01-24</td>\n",
              "      <td>Washington</td>\n",
              "      <td>53</td>\n",
              "      <td>1</td>\n",
              "      <td>0</td>\n",
              "    </tr>\n",
              "  </tbody>\n",
              "</table>\n",
              "</div>"
            ],
            "text/plain": [
              "         date       state  fips  cases  deaths\n",
              "0  2020-01-21  Washington    53      1       0\n",
              "1  2020-01-22  Washington    53      1       0\n",
              "2  2020-01-23  Washington    53      1       0\n",
              "3  2020-01-24    Illinois    17      1       0\n",
              "4  2020-01-24  Washington    53      1       0"
            ]
          },
          "metadata": {
            "tags": []
          },
          "execution_count": 9
        }
      ]
    },
    {
      "cell_type": "code",
      "metadata": {
        "id": "CFseirM0abYN"
      },
      "source": [
        "sd_df = df[df['state'] == 'South Dakota']\n"
      ],
      "execution_count": null,
      "outputs": []
    },
    {
      "cell_type": "code",
      "metadata": {
        "id": "i73LanU2abSt",
        "colab": {
          "base_uri": "https://localhost:8080/",
          "height": 204
        },
        "outputId": "9506fc0a-55d4-4c1f-8f20-ee9da4e058e4"
      },
      "source": [
        "sd_df.head()"
      ],
      "execution_count": null,
      "outputs": [
        {
          "output_type": "execute_result",
          "data": {
            "text/html": [
              "<div>\n",
              "<style scoped>\n",
              "    .dataframe tbody tr th:only-of-type {\n",
              "        vertical-align: middle;\n",
              "    }\n",
              "\n",
              "    .dataframe tbody tr th {\n",
              "        vertical-align: top;\n",
              "    }\n",
              "\n",
              "    .dataframe thead th {\n",
              "        text-align: right;\n",
              "    }\n",
              "</style>\n",
              "<table border=\"1\" class=\"dataframe\">\n",
              "  <thead>\n",
              "    <tr style=\"text-align: right;\">\n",
              "      <th></th>\n",
              "      <th>date</th>\n",
              "      <th>state</th>\n",
              "      <th>fips</th>\n",
              "      <th>cases</th>\n",
              "      <th>deaths</th>\n",
              "    </tr>\n",
              "  </thead>\n",
              "  <tbody>\n",
              "    <tr>\n",
              "      <th>486</th>\n",
              "      <td>2020-03-10</td>\n",
              "      <td>South Dakota</td>\n",
              "      <td>46</td>\n",
              "      <td>5</td>\n",
              "      <td>1</td>\n",
              "    </tr>\n",
              "    <tr>\n",
              "      <th>530</th>\n",
              "      <td>2020-03-11</td>\n",
              "      <td>South Dakota</td>\n",
              "      <td>46</td>\n",
              "      <td>8</td>\n",
              "      <td>1</td>\n",
              "    </tr>\n",
              "    <tr>\n",
              "      <th>577</th>\n",
              "      <td>2020-03-12</td>\n",
              "      <td>South Dakota</td>\n",
              "      <td>46</td>\n",
              "      <td>8</td>\n",
              "      <td>1</td>\n",
              "    </tr>\n",
              "    <tr>\n",
              "      <th>628</th>\n",
              "      <td>2020-03-13</td>\n",
              "      <td>South Dakota</td>\n",
              "      <td>46</td>\n",
              "      <td>9</td>\n",
              "      <td>1</td>\n",
              "    </tr>\n",
              "    <tr>\n",
              "      <th>679</th>\n",
              "      <td>2020-03-14</td>\n",
              "      <td>South Dakota</td>\n",
              "      <td>46</td>\n",
              "      <td>9</td>\n",
              "      <td>1</td>\n",
              "    </tr>\n",
              "  </tbody>\n",
              "</table>\n",
              "</div>"
            ],
            "text/plain": [
              "           date         state  fips  cases  deaths\n",
              "486  2020-03-10  South Dakota    46      5       1\n",
              "530  2020-03-11  South Dakota    46      8       1\n",
              "577  2020-03-12  South Dakota    46      8       1\n",
              "628  2020-03-13  South Dakota    46      9       1\n",
              "679  2020-03-14  South Dakota    46      9       1"
            ]
          },
          "metadata": {
            "tags": []
          },
          "execution_count": 140
        }
      ]
    },
    {
      "cell_type": "code",
      "metadata": {
        "id": "rMWBk1WKabOu",
        "colab": {
          "base_uri": "https://localhost:8080/"
        },
        "outputId": "3be6fb2b-41a6-46ca-e9a0-1f40d0af7188"
      },
      "source": [
        "sd_df.shape"
      ],
      "execution_count": null,
      "outputs": [
        {
          "output_type": "execute_result",
          "data": {
            "text/plain": [
              "(309, 5)"
            ]
          },
          "metadata": {
            "tags": []
          },
          "execution_count": 141
        }
      ]
    },
    {
      "cell_type": "code",
      "metadata": {
        "id": "sM1lWI3LabLQ",
        "colab": {
          "base_uri": "https://localhost:8080/",
          "height": 204
        },
        "outputId": "db68a79c-0b6a-4be8-9769-a5748bdf3765"
      },
      "source": [
        "sd_df.tail()"
      ],
      "execution_count": null,
      "outputs": [
        {
          "output_type": "execute_result",
          "data": {
            "text/html": [
              "<div>\n",
              "<style scoped>\n",
              "    .dataframe tbody tr th:only-of-type {\n",
              "        vertical-align: middle;\n",
              "    }\n",
              "\n",
              "    .dataframe tbody tr th {\n",
              "        vertical-align: top;\n",
              "    }\n",
              "\n",
              "    .dataframe thead th {\n",
              "        text-align: right;\n",
              "    }\n",
              "</style>\n",
              "<table border=\"1\" class=\"dataframe\">\n",
              "  <thead>\n",
              "    <tr style=\"text-align: right;\">\n",
              "      <th></th>\n",
              "      <th>date</th>\n",
              "      <th>state</th>\n",
              "      <th>fips</th>\n",
              "      <th>cases</th>\n",
              "      <th>deaths</th>\n",
              "    </tr>\n",
              "  </thead>\n",
              "  <tbody>\n",
              "    <tr>\n",
              "      <th>17163</th>\n",
              "      <td>2021-01-08</td>\n",
              "      <td>South Dakota</td>\n",
              "      <td>46</td>\n",
              "      <td>102580</td>\n",
              "      <td>1556</td>\n",
              "    </tr>\n",
              "    <tr>\n",
              "      <th>17218</th>\n",
              "      <td>2021-01-09</td>\n",
              "      <td>South Dakota</td>\n",
              "      <td>46</td>\n",
              "      <td>102901</td>\n",
              "      <td>1570</td>\n",
              "    </tr>\n",
              "    <tr>\n",
              "      <th>17273</th>\n",
              "      <td>2021-01-10</td>\n",
              "      <td>South Dakota</td>\n",
              "      <td>46</td>\n",
              "      <td>103318</td>\n",
              "      <td>1585</td>\n",
              "    </tr>\n",
              "    <tr>\n",
              "      <th>17328</th>\n",
              "      <td>2021-01-11</td>\n",
              "      <td>South Dakota</td>\n",
              "      <td>46</td>\n",
              "      <td>103499</td>\n",
              "      <td>1585</td>\n",
              "    </tr>\n",
              "    <tr>\n",
              "      <th>17383</th>\n",
              "      <td>2021-01-12</td>\n",
              "      <td>South Dakota</td>\n",
              "      <td>46</td>\n",
              "      <td>103743</td>\n",
              "      <td>1585</td>\n",
              "    </tr>\n",
              "  </tbody>\n",
              "</table>\n",
              "</div>"
            ],
            "text/plain": [
              "             date         state  fips   cases  deaths\n",
              "17163  2021-01-08  South Dakota    46  102580    1556\n",
              "17218  2021-01-09  South Dakota    46  102901    1570\n",
              "17273  2021-01-10  South Dakota    46  103318    1585\n",
              "17328  2021-01-11  South Dakota    46  103499    1585\n",
              "17383  2021-01-12  South Dakota    46  103743    1585"
            ]
          },
          "metadata": {
            "tags": []
          },
          "execution_count": 142
        }
      ]
    },
    {
      "cell_type": "code",
      "metadata": {
        "id": "4UzcFimuaa27",
        "colab": {
          "base_uri": "https://localhost:8080/",
          "height": 204
        },
        "outputId": "cc8ef8cf-29f2-4d98-d950-e69b461732ef"
      },
      "source": [
        "#first death in SD\n",
        "first_sd_death = sd_df[sd_df['deaths']!=0]\n",
        "first_sd_death.head()"
      ],
      "execution_count": null,
      "outputs": [
        {
          "output_type": "execute_result",
          "data": {
            "text/html": [
              "<div>\n",
              "<style scoped>\n",
              "    .dataframe tbody tr th:only-of-type {\n",
              "        vertical-align: middle;\n",
              "    }\n",
              "\n",
              "    .dataframe tbody tr th {\n",
              "        vertical-align: top;\n",
              "    }\n",
              "\n",
              "    .dataframe thead th {\n",
              "        text-align: right;\n",
              "    }\n",
              "</style>\n",
              "<table border=\"1\" class=\"dataframe\">\n",
              "  <thead>\n",
              "    <tr style=\"text-align: right;\">\n",
              "      <th></th>\n",
              "      <th>date</th>\n",
              "      <th>state</th>\n",
              "      <th>fips</th>\n",
              "      <th>cases</th>\n",
              "      <th>deaths</th>\n",
              "    </tr>\n",
              "  </thead>\n",
              "  <tbody>\n",
              "    <tr>\n",
              "      <th>486</th>\n",
              "      <td>2020-03-10</td>\n",
              "      <td>South Dakota</td>\n",
              "      <td>46</td>\n",
              "      <td>5</td>\n",
              "      <td>1</td>\n",
              "    </tr>\n",
              "    <tr>\n",
              "      <th>530</th>\n",
              "      <td>2020-03-11</td>\n",
              "      <td>South Dakota</td>\n",
              "      <td>46</td>\n",
              "      <td>8</td>\n",
              "      <td>1</td>\n",
              "    </tr>\n",
              "    <tr>\n",
              "      <th>577</th>\n",
              "      <td>2020-03-12</td>\n",
              "      <td>South Dakota</td>\n",
              "      <td>46</td>\n",
              "      <td>8</td>\n",
              "      <td>1</td>\n",
              "    </tr>\n",
              "    <tr>\n",
              "      <th>628</th>\n",
              "      <td>2020-03-13</td>\n",
              "      <td>South Dakota</td>\n",
              "      <td>46</td>\n",
              "      <td>9</td>\n",
              "      <td>1</td>\n",
              "    </tr>\n",
              "    <tr>\n",
              "      <th>679</th>\n",
              "      <td>2020-03-14</td>\n",
              "      <td>South Dakota</td>\n",
              "      <td>46</td>\n",
              "      <td>9</td>\n",
              "      <td>1</td>\n",
              "    </tr>\n",
              "  </tbody>\n",
              "</table>\n",
              "</div>"
            ],
            "text/plain": [
              "           date         state  fips  cases  deaths\n",
              "486  2020-03-10  South Dakota    46      5       1\n",
              "530  2020-03-11  South Dakota    46      8       1\n",
              "577  2020-03-12  South Dakota    46      8       1\n",
              "628  2020-03-13  South Dakota    46      9       1\n",
              "679  2020-03-14  South Dakota    46      9       1"
            ]
          },
          "metadata": {
            "tags": []
          },
          "execution_count": 143
        }
      ]
    },
    {
      "cell_type": "code",
      "metadata": {
        "id": "uMI7gN8daax4",
        "colab": {
          "base_uri": "https://localhost:8080/"
        },
        "outputId": "22e6bc05-3df0-434a-ca87-e03cf18aa54c"
      },
      "source": [
        "#total number of cases\n",
        "sd_df['cases'].max()"
      ],
      "execution_count": null,
      "outputs": [
        {
          "output_type": "execute_result",
          "data": {
            "text/plain": [
              "103743"
            ]
          },
          "metadata": {
            "tags": []
          },
          "execution_count": 144
        }
      ]
    },
    {
      "cell_type": "code",
      "metadata": {
        "id": "Q9gnXx4Vaasz",
        "colab": {
          "base_uri": "https://localhost:8080/"
        },
        "outputId": "30f81c05-21c7-4820-8813-a84f9644c9cc"
      },
      "source": [
        "# not a correct way of calculating total count bcoz data is cumulative\n",
        "sd_df['cases'].sum()"
      ],
      "execution_count": null,
      "outputs": [
        {
          "output_type": "execute_result",
          "data": {
            "text/plain": [
              "8440834"
            ]
          },
          "metadata": {
            "tags": []
          },
          "execution_count": 145
        }
      ]
    },
    {
      "cell_type": "code",
      "metadata": {
        "id": "Laqt0Vf0aan9",
        "colab": {
          "base_uri": "https://localhost:8080/"
        },
        "outputId": "842c0e6e-f4a0-463d-e9e5-7c91482fa8b4"
      },
      "source": [
        "#new cases for SD\n",
        "type(sd_df['cases'])\n",
        "\n",
        "newcase = []\n",
        "previuos_case = 0\n",
        "for index, row in sd_df.iterrows():\n",
        "  current_case = row['cases']\n",
        "  newcase_count = current_case - previuos_case\n",
        "  previuos_case = current_case\n",
        "  newcase.append(newcase_count)\n",
        "print(newcase_count)"
      ],
      "execution_count": null,
      "outputs": [
        {
          "output_type": "stream",
          "text": [
            "244\n"
          ],
          "name": "stdout"
        }
      ]
    },
    {
      "cell_type": "code",
      "metadata": {
        "id": "UMtb8Ju6aakg",
        "colab": {
          "base_uri": "https://localhost:8080/"
        },
        "outputId": "b0bde4eb-1c6d-441c-c91c-cae1995937d0"
      },
      "source": [
        "sd_df['new_cases'] = newcase"
      ],
      "execution_count": null,
      "outputs": [
        {
          "output_type": "stream",
          "text": [
            "/usr/local/lib/python3.6/dist-packages/ipykernel_launcher.py:1: SettingWithCopyWarning: \n",
            "A value is trying to be set on a copy of a slice from a DataFrame.\n",
            "Try using .loc[row_indexer,col_indexer] = value instead\n",
            "\n",
            "See the caveats in the documentation: https://pandas.pydata.org/pandas-docs/stable/user_guide/indexing.html#returning-a-view-versus-a-copy\n",
            "  \"\"\"Entry point for launching an IPython kernel.\n"
          ],
          "name": "stderr"
        }
      ]
    },
    {
      "cell_type": "markdown",
      "metadata": {
        "id": "6Byaw9B3b5TQ"
      },
      "source": [
        "/usr/local/lib/python3.6/dist-packages/ipykernel_launcher.py:1: SettingWithCopyWarning: \n",
        "A value is trying to be set on a copy of a slice from a DataFrame.\n",
        "Try using .loc[row_indexer,col_indexer] = value instead\n",
        "\n",
        "See the caveats in the documentation: https://pandas.pydata.org/pandas-docs/stable/user_guide/indexing.html#returning-a-view-versus-a-copy\n",
        "  \"\"\"Entry point for launching an IPython kernel."
      ]
    },
    {
      "cell_type": "code",
      "metadata": {
        "id": "j0mUIHkBaahT",
        "colab": {
          "base_uri": "https://localhost:8080/",
          "height": 359
        },
        "outputId": "e66950cc-9752-4ec6-8d23-413b0da69d12"
      },
      "source": [
        "sd_df.head(10)"
      ],
      "execution_count": null,
      "outputs": [
        {
          "output_type": "execute_result",
          "data": {
            "text/html": [
              "<div>\n",
              "<style scoped>\n",
              "    .dataframe tbody tr th:only-of-type {\n",
              "        vertical-align: middle;\n",
              "    }\n",
              "\n",
              "    .dataframe tbody tr th {\n",
              "        vertical-align: top;\n",
              "    }\n",
              "\n",
              "    .dataframe thead th {\n",
              "        text-align: right;\n",
              "    }\n",
              "</style>\n",
              "<table border=\"1\" class=\"dataframe\">\n",
              "  <thead>\n",
              "    <tr style=\"text-align: right;\">\n",
              "      <th></th>\n",
              "      <th>date</th>\n",
              "      <th>state</th>\n",
              "      <th>fips</th>\n",
              "      <th>cases</th>\n",
              "      <th>deaths</th>\n",
              "      <th>new_cases</th>\n",
              "    </tr>\n",
              "  </thead>\n",
              "  <tbody>\n",
              "    <tr>\n",
              "      <th>486</th>\n",
              "      <td>2020-03-10</td>\n",
              "      <td>South Dakota</td>\n",
              "      <td>46</td>\n",
              "      <td>5</td>\n",
              "      <td>1</td>\n",
              "      <td>5</td>\n",
              "    </tr>\n",
              "    <tr>\n",
              "      <th>530</th>\n",
              "      <td>2020-03-11</td>\n",
              "      <td>South Dakota</td>\n",
              "      <td>46</td>\n",
              "      <td>8</td>\n",
              "      <td>1</td>\n",
              "      <td>3</td>\n",
              "    </tr>\n",
              "    <tr>\n",
              "      <th>577</th>\n",
              "      <td>2020-03-12</td>\n",
              "      <td>South Dakota</td>\n",
              "      <td>46</td>\n",
              "      <td>8</td>\n",
              "      <td>1</td>\n",
              "      <td>0</td>\n",
              "    </tr>\n",
              "    <tr>\n",
              "      <th>628</th>\n",
              "      <td>2020-03-13</td>\n",
              "      <td>South Dakota</td>\n",
              "      <td>46</td>\n",
              "      <td>9</td>\n",
              "      <td>1</td>\n",
              "      <td>1</td>\n",
              "    </tr>\n",
              "    <tr>\n",
              "      <th>679</th>\n",
              "      <td>2020-03-14</td>\n",
              "      <td>South Dakota</td>\n",
              "      <td>46</td>\n",
              "      <td>9</td>\n",
              "      <td>1</td>\n",
              "      <td>0</td>\n",
              "    </tr>\n",
              "    <tr>\n",
              "      <th>732</th>\n",
              "      <td>2020-03-15</td>\n",
              "      <td>South Dakota</td>\n",
              "      <td>46</td>\n",
              "      <td>9</td>\n",
              "      <td>1</td>\n",
              "      <td>0</td>\n",
              "    </tr>\n",
              "    <tr>\n",
              "      <th>785</th>\n",
              "      <td>2020-03-16</td>\n",
              "      <td>South Dakota</td>\n",
              "      <td>46</td>\n",
              "      <td>10</td>\n",
              "      <td>1</td>\n",
              "      <td>1</td>\n",
              "    </tr>\n",
              "    <tr>\n",
              "      <th>838</th>\n",
              "      <td>2020-03-17</td>\n",
              "      <td>South Dakota</td>\n",
              "      <td>46</td>\n",
              "      <td>11</td>\n",
              "      <td>1</td>\n",
              "      <td>1</td>\n",
              "    </tr>\n",
              "    <tr>\n",
              "      <th>892</th>\n",
              "      <td>2020-03-18</td>\n",
              "      <td>South Dakota</td>\n",
              "      <td>46</td>\n",
              "      <td>11</td>\n",
              "      <td>1</td>\n",
              "      <td>0</td>\n",
              "    </tr>\n",
              "    <tr>\n",
              "      <th>946</th>\n",
              "      <td>2020-03-19</td>\n",
              "      <td>South Dakota</td>\n",
              "      <td>46</td>\n",
              "      <td>14</td>\n",
              "      <td>1</td>\n",
              "      <td>3</td>\n",
              "    </tr>\n",
              "  </tbody>\n",
              "</table>\n",
              "</div>"
            ],
            "text/plain": [
              "           date         state  fips  cases  deaths  new_cases\n",
              "486  2020-03-10  South Dakota    46      5       1          5\n",
              "530  2020-03-11  South Dakota    46      8       1          3\n",
              "577  2020-03-12  South Dakota    46      8       1          0\n",
              "628  2020-03-13  South Dakota    46      9       1          1\n",
              "679  2020-03-14  South Dakota    46      9       1          0\n",
              "732  2020-03-15  South Dakota    46      9       1          0\n",
              "785  2020-03-16  South Dakota    46     10       1          1\n",
              "838  2020-03-17  South Dakota    46     11       1          1\n",
              "892  2020-03-18  South Dakota    46     11       1          0\n",
              "946  2020-03-19  South Dakota    46     14       1          3"
            ]
          },
          "metadata": {
            "tags": []
          },
          "execution_count": 148
        }
      ]
    },
    {
      "cell_type": "code",
      "metadata": {
        "id": "ihNTPc49aae2",
        "colab": {
          "base_uri": "https://localhost:8080/"
        },
        "outputId": "bb8e0fc0-ecbe-446d-9e4c-5822361750f5"
      },
      "source": [
        "sd_df['new_cases'].sum()"
      ],
      "execution_count": null,
      "outputs": [
        {
          "output_type": "execute_result",
          "data": {
            "text/plain": [
              "103743"
            ]
          },
          "metadata": {
            "tags": []
          },
          "execution_count": 149
        }
      ]
    },
    {
      "cell_type": "code",
      "metadata": {
        "id": "c-MoyZuiaacZ"
      },
      "source": [
        "sd_cases = sd_df['cases']\n",
        "sd_deaths = sd_df['deaths']\n",
        "sd_dates = sd_df['date']\n",
        "sd_new_cases = sd_df['new_cases']"
      ],
      "execution_count": null,
      "outputs": []
    },
    {
      "cell_type": "code",
      "metadata": {
        "id": "AV6VgPr4aaaG",
        "colab": {
          "base_uri": "https://localhost:8080/"
        },
        "outputId": "52677ff9-c91c-406d-dc6d-b761e696b58c"
      },
      "source": [
        "type(sd_new_cases)"
      ],
      "execution_count": null,
      "outputs": [
        {
          "output_type": "execute_result",
          "data": {
            "text/plain": [
              "pandas.core.series.Series"
            ]
          },
          "metadata": {
            "tags": []
          },
          "execution_count": 151
        }
      ]
    },
    {
      "cell_type": "code",
      "metadata": {
        "id": "HWFLRioAaaX2",
        "colab": {
          "base_uri": "https://localhost:8080/",
          "height": 282
        },
        "outputId": "b5a776ec-c981-4d39-c6cf-bd434d6888cc"
      },
      "source": [
        "sd_df['new_cases'].plot(kind='line')"
      ],
      "execution_count": null,
      "outputs": [
        {
          "output_type": "execute_result",
          "data": {
            "text/plain": [
              "<matplotlib.axes._subplots.AxesSubplot at 0x7f6beb72a860>"
            ]
          },
          "metadata": {
            "tags": []
          },
          "execution_count": 152
        },
        {
          "output_type": "display_data",
          "data": {
            "image/png": "[encoded data removed]",
            "text/plain": [
              "<Figure size 432x288 with 1 Axes>"
            ]
          },
          "metadata": {
            "tags": [],
            "needs_background": "light"
          }
        }
      ]
    },
    {
      "cell_type": "code",
      "metadata": {
        "id": "jFFr5IpuaaVj",
        "colab": {
          "base_uri": "https://localhost:8080/",
          "height": 408
        },
        "outputId": "18075e70-5e2e-4b59-9061-ff42017e3b1e"
      },
      "source": [
        "sd_df.loc[:, 'date'] = pd.to_datetime(sd_df.loc[:, 'date'])\n",
        "\n",
        "sd_df['month'] = sd_df['date'].dt.month\n",
        "\n",
        "sd_df.head()"
      ],
      "execution_count": null,
      "outputs": [
        {
          "output_type": "stream",
          "text": [
            "/usr/local/lib/python3.6/dist-packages/pandas/core/indexing.py:1743: SettingWithCopyWarning: \n",
            "A value is trying to be set on a copy of a slice from a DataFrame.\n",
            "Try using .loc[row_indexer,col_indexer] = value instead\n",
            "\n",
            "See the caveats in the documentation: https://pandas.pydata.org/pandas-docs/stable/user_guide/indexing.html#returning-a-view-versus-a-copy\n",
            "  isetter(ilocs[0], value)\n",
            "/usr/local/lib/python3.6/dist-packages/ipykernel_launcher.py:3: SettingWithCopyWarning: \n",
            "A value is trying to be set on a copy of a slice from a DataFrame.\n",
            "Try using .loc[row_indexer,col_indexer] = value instead\n",
            "\n",
            "See the caveats in the documentation: https://pandas.pydata.org/pandas-docs/stable/user_guide/indexing.html#returning-a-view-versus-a-copy\n",
            "  This is separate from the ipykernel package so we can avoid doing imports until\n"
          ],
          "name": "stderr"
        },
        {
          "output_type": "execute_result",
          "data": {
            "text/html": [
              "<div>\n",
              "<style scoped>\n",
              "    .dataframe tbody tr th:only-of-type {\n",
              "        vertical-align: middle;\n",
              "    }\n",
              "\n",
              "    .dataframe tbody tr th {\n",
              "        vertical-align: top;\n",
              "    }\n",
              "\n",
              "    .dataframe thead th {\n",
              "        text-align: right;\n",
              "    }\n",
              "</style>\n",
              "<table border=\"1\" class=\"dataframe\">\n",
              "  <thead>\n",
              "    <tr style=\"text-align: right;\">\n",
              "      <th></th>\n",
              "      <th>date</th>\n",
              "      <th>state</th>\n",
              "      <th>fips</th>\n",
              "      <th>cases</th>\n",
              "      <th>deaths</th>\n",
              "      <th>new_cases</th>\n",
              "      <th>month</th>\n",
              "    </tr>\n",
              "  </thead>\n",
              "  <tbody>\n",
              "    <tr>\n",
              "      <th>486</th>\n",
              "      <td>2020-03-10</td>\n",
              "      <td>South Dakota</td>\n",
              "      <td>46</td>\n",
              "      <td>5</td>\n",
              "      <td>1</td>\n",
              "      <td>5</td>\n",
              "      <td>3</td>\n",
              "    </tr>\n",
              "    <tr>\n",
              "      <th>530</th>\n",
              "      <td>2020-03-11</td>\n",
              "      <td>South Dakota</td>\n",
              "      <td>46</td>\n",
              "      <td>8</td>\n",
              "      <td>1</td>\n",
              "      <td>3</td>\n",
              "      <td>3</td>\n",
              "    </tr>\n",
              "    <tr>\n",
              "      <th>577</th>\n",
              "      <td>2020-03-12</td>\n",
              "      <td>South Dakota</td>\n",
              "      <td>46</td>\n",
              "      <td>8</td>\n",
              "      <td>1</td>\n",
              "      <td>0</td>\n",
              "      <td>3</td>\n",
              "    </tr>\n",
              "    <tr>\n",
              "      <th>628</th>\n",
              "      <td>2020-03-13</td>\n",
              "      <td>South Dakota</td>\n",
              "      <td>46</td>\n",
              "      <td>9</td>\n",
              "      <td>1</td>\n",
              "      <td>1</td>\n",
              "      <td>3</td>\n",
              "    </tr>\n",
              "    <tr>\n",
              "      <th>679</th>\n",
              "      <td>2020-03-14</td>\n",
              "      <td>South Dakota</td>\n",
              "      <td>46</td>\n",
              "      <td>9</td>\n",
              "      <td>1</td>\n",
              "      <td>0</td>\n",
              "      <td>3</td>\n",
              "    </tr>\n",
              "  </tbody>\n",
              "</table>\n",
              "</div>"
            ],
            "text/plain": [
              "          date         state  fips  cases  deaths  new_cases  month\n",
              "486 2020-03-10  South Dakota    46      5       1          5      3\n",
              "530 2020-03-11  South Dakota    46      8       1          3      3\n",
              "577 2020-03-12  South Dakota    46      8       1          0      3\n",
              "628 2020-03-13  South Dakota    46      9       1          1      3\n",
              "679 2020-03-14  South Dakota    46      9       1          0      3"
            ]
          },
          "metadata": {
            "tags": []
          },
          "execution_count": 153
        }
      ]
    },
    {
      "cell_type": "code",
      "metadata": {
        "id": "RygsmLaZighy",
        "colab": {
          "base_uri": "https://localhost:8080/",
          "height": 419
        },
        "outputId": "6efe30b6-7b33-4c9a-b383-19bbce3a5d92"
      },
      "source": [
        "sd_df.loc[(sd_df['month'] == 8) |\\\n",
        "          (sd_df['month'] == 9)]"
      ],
      "execution_count": null,
      "outputs": [
        {
          "output_type": "execute_result",
          "data": {
            "text/html": [
              "<div>\n",
              "<style scoped>\n",
              "    .dataframe tbody tr th:only-of-type {\n",
              "        vertical-align: middle;\n",
              "    }\n",
              "\n",
              "    .dataframe tbody tr th {\n",
              "        vertical-align: top;\n",
              "    }\n",
              "\n",
              "    .dataframe thead th {\n",
              "        text-align: right;\n",
              "    }\n",
              "</style>\n",
              "<table border=\"1\" class=\"dataframe\">\n",
              "  <thead>\n",
              "    <tr style=\"text-align: right;\">\n",
              "      <th></th>\n",
              "      <th>date</th>\n",
              "      <th>state</th>\n",
              "      <th>fips</th>\n",
              "      <th>cases</th>\n",
              "      <th>deaths</th>\n",
              "      <th>new_cases</th>\n",
              "      <th>month</th>\n",
              "    </tr>\n",
              "  </thead>\n",
              "  <tbody>\n",
              "    <tr>\n",
              "      <th>8363</th>\n",
              "      <td>2020-08-01</td>\n",
              "      <td>South Dakota</td>\n",
              "      <td>46</td>\n",
              "      <td>8867</td>\n",
              "      <td>134</td>\n",
              "      <td>103</td>\n",
              "      <td>8</td>\n",
              "    </tr>\n",
              "    <tr>\n",
              "      <th>8418</th>\n",
              "      <td>2020-08-02</td>\n",
              "      <td>South Dakota</td>\n",
              "      <td>46</td>\n",
              "      <td>8955</td>\n",
              "      <td>135</td>\n",
              "      <td>88</td>\n",
              "      <td>8</td>\n",
              "    </tr>\n",
              "    <tr>\n",
              "      <th>8473</th>\n",
              "      <td>2020-08-03</td>\n",
              "      <td>South Dakota</td>\n",
              "      <td>46</td>\n",
              "      <td>9020</td>\n",
              "      <td>135</td>\n",
              "      <td>65</td>\n",
              "      <td>8</td>\n",
              "    </tr>\n",
              "    <tr>\n",
              "      <th>8528</th>\n",
              "      <td>2020-08-04</td>\n",
              "      <td>South Dakota</td>\n",
              "      <td>46</td>\n",
              "      <td>9079</td>\n",
              "      <td>136</td>\n",
              "      <td>59</td>\n",
              "      <td>8</td>\n",
              "    </tr>\n",
              "    <tr>\n",
              "      <th>8583</th>\n",
              "      <td>2020-08-05</td>\n",
              "      <td>South Dakota</td>\n",
              "      <td>46</td>\n",
              "      <td>9168</td>\n",
              "      <td>137</td>\n",
              "      <td>89</td>\n",
              "      <td>8</td>\n",
              "    </tr>\n",
              "    <tr>\n",
              "      <th>...</th>\n",
              "      <td>...</td>\n",
              "      <td>...</td>\n",
              "      <td>...</td>\n",
              "      <td>...</td>\n",
              "      <td>...</td>\n",
              "      <td>...</td>\n",
              "      <td>...</td>\n",
              "    </tr>\n",
              "    <tr>\n",
              "      <th>11443</th>\n",
              "      <td>2020-09-26</td>\n",
              "      <td>South Dakota</td>\n",
              "      <td>46</td>\n",
              "      <td>21133</td>\n",
              "      <td>218</td>\n",
              "      <td>579</td>\n",
              "      <td>9</td>\n",
              "    </tr>\n",
              "    <tr>\n",
              "      <th>11498</th>\n",
              "      <td>2020-09-27</td>\n",
              "      <td>South Dakota</td>\n",
              "      <td>46</td>\n",
              "      <td>21541</td>\n",
              "      <td>218</td>\n",
              "      <td>408</td>\n",
              "      <td>9</td>\n",
              "    </tr>\n",
              "    <tr>\n",
              "      <th>11553</th>\n",
              "      <td>2020-09-28</td>\n",
              "      <td>South Dakota</td>\n",
              "      <td>46</td>\n",
              "      <td>21738</td>\n",
              "      <td>218</td>\n",
              "      <td>197</td>\n",
              "      <td>9</td>\n",
              "    </tr>\n",
              "    <tr>\n",
              "      <th>11608</th>\n",
              "      <td>2020-09-29</td>\n",
              "      <td>South Dakota</td>\n",
              "      <td>46</td>\n",
              "      <td>21997</td>\n",
              "      <td>223</td>\n",
              "      <td>259</td>\n",
              "      <td>9</td>\n",
              "    </tr>\n",
              "    <tr>\n",
              "      <th>11663</th>\n",
              "      <td>2020-09-30</td>\n",
              "      <td>South Dakota</td>\n",
              "      <td>46</td>\n",
              "      <td>22389</td>\n",
              "      <td>223</td>\n",
              "      <td>392</td>\n",
              "      <td>9</td>\n",
              "    </tr>\n",
              "  </tbody>\n",
              "</table>\n",
              "<p>61 rows × 7 columns</p>\n",
              "</div>"
            ],
            "text/plain": [
              "            date         state  fips  cases  deaths  new_cases  month\n",
              "8363  2020-08-01  South Dakota    46   8867     134        103      8\n",
              "8418  2020-08-02  South Dakota    46   8955     135         88      8\n",
              "8473  2020-08-03  South Dakota    46   9020     135         65      8\n",
              "8528  2020-08-04  South Dakota    46   9079     136         59      8\n",
              "8583  2020-08-05  South Dakota    46   9168     137         89      8\n",
              "...          ...           ...   ...    ...     ...        ...    ...\n",
              "11443 2020-09-26  South Dakota    46  21133     218        579      9\n",
              "11498 2020-09-27  South Dakota    46  21541     218        408      9\n",
              "11553 2020-09-28  South Dakota    46  21738     218        197      9\n",
              "11608 2020-09-29  South Dakota    46  21997     223        259      9\n",
              "11663 2020-09-30  South Dakota    46  22389     223        392      9\n",
              "\n",
              "[61 rows x 7 columns]"
            ]
          },
          "metadata": {
            "tags": []
          },
          "execution_count": 154
        }
      ]
    },
    {
      "cell_type": "code",
      "metadata": {
        "id": "9L8EdbOvigdw"
      },
      "source": [
        "aug_sep = sd_df.loc[(sd_df['month'] == 8) |\\\n",
        "                    (sd_df['month'] == 9)].reset_index()"
      ],
      "execution_count": null,
      "outputs": []
    },
    {
      "cell_type": "code",
      "metadata": {
        "colab": {
          "base_uri": "https://localhost:8080/",
          "height": 343
        },
        "id": "M9JXxBOlgc9G",
        "outputId": "f3948eba-5f85-4a7e-d14b-6054871449f0"
      },
      "source": [
        "dates = aug_sep.loc[:, 'date']\n",
        "new_cases = aug_sep.loc[:, 'new_cases']\n",
        "\n",
        "plt.plot(dates, new_cases)\n",
        "plt.title(\"August to September New Cases\")\n",
        "plt.xlabel('Dates')\n",
        "plt.ylabel('New Cases')\n",
        "plt.xticks(rotation=90)\n",
        "plt.grid(axis='x')\n",
        "plt.show()"
      ],
      "execution_count": null,
      "outputs": [
        {
          "output_type": "display_data",
          "data": {
            "image/png": "[encoded data removed]",
            "text/plain": [
              "<Figure size 432x288 with 1 Axes>"
            ]
          },
          "metadata": {
            "tags": [],
            "needs_background": "light"
          }
        }
      ]
    },
    {
      "cell_type": "code",
      "metadata": {
        "id": "bM5QEWTmigZy",
        "colab": {
          "base_uri": "https://localhost:8080/",
          "height": 343
        },
        "outputId": "8785ca14-048c-4d14-c072-7aec9eeb50f3"
      },
      "source": [
        "plt.bar(dates, new_cases)\n",
        "plt.title(\"August to September New Cases\")\n",
        "plt.xlabel('Dates')\n",
        "plt.ylabel('New Cases')\n",
        "plt.xticks(rotation=90)\n",
        "plt.show()"
      ],
      "execution_count": null,
      "outputs": [
        {
          "output_type": "display_data",
          "data": {
            "image/png": "[encoded data removed]",
            "text/plain": [
              "<Figure size 432x288 with 1 Axes>"
            ]
          },
          "metadata": {
            "tags": [],
            "needs_background": "light"
          }
        }
      ]
    },
    {
      "cell_type": "code",
      "metadata": {
        "id": "vH7gLR3pigKd",
        "colab": {
          "base_uri": "https://localhost:8080/",
          "height": 295
        },
        "outputId": "6f335fcb-64ec-4833-e369-7dbea51438a6"
      },
      "source": [
        "sd_cases = sd_df['cases']\n",
        "sd_deaths = sd_df['deaths']\n",
        "sd_dates = sd_df['date']\n",
        "sd_new_cases = sd_df['new_cases']\n",
        "\n",
        "days = range(len(sd_df.iloc[:, 0])) \n",
        "\n",
        "plt.plot(days, sd_cases)\n",
        "plt.title('South Dakota Covid Total Cases')\n",
        "plt.xlabel('Day   01-03-2020  to  03-05-2021')\n",
        "plt.ylabel('Million Cases')\n",
        "plt.show()\n"
      ],
      "execution_count": null,
      "outputs": [
        {
          "output_type": "display_data",
          "data": {
            "image/png": "[encoded data removed]",
            "text/plain": [
              "<Figure size 432x288 with 1 Axes>"
            ]
          },
          "metadata": {
            "tags": [],
            "needs_background": "light"
          }
        }
      ]
    },
    {
      "cell_type": "code",
      "metadata": {
        "id": "7LYae3Lliw0w",
        "colab": {
          "base_uri": "https://localhost:8080/",
          "height": 295
        },
        "outputId": "45abc379-200b-40bd-e211-e6e24f67bd54"
      },
      "source": [
        "\n",
        "\n",
        "plt.plot(days, sd_df['deaths'], color='orange')\n",
        "plt.title('South Dakota Covid Total Deaths')\n",
        "plt.xlabel('Day   01-03-2020  to  03-05-2021')\n",
        "plt.ylabel('Deaths')\n",
        "plt.show()"
      ],
      "execution_count": null,
      "outputs": [
        {
          "output_type": "display_data",
          "data": {
            "image/png": "[encoded data removed]",
            "text/plain": [
              "<Figure size 432x288 with 1 Axes>"
            ]
          },
          "metadata": {
            "tags": [],
            "needs_background": "light"
          }
        }
      ]
    },
    {
      "cell_type": "code",
      "metadata": {
        "id": "6-GbVgtijBkF",
        "colab": {
          "base_uri": "https://localhost:8080/",
          "height": 295
        },
        "outputId": "01aa9083-8a74-4f7d-9476-353c15d36da4"
      },
      "source": [
        "plt.plot(days, sd_df['cases'], label='cases')\n",
        "\n",
        "plt.plot(days, sd_df['deaths'], label='deaths')\n",
        "\n",
        "plt.title('South Dakota Covid Total Cases & Deaths')\n",
        "plt.xlabel('Day   01-03-2020  to  03-05-2021')\n",
        "plt.ylabel('Million')\n",
        "plt.legend()\n",
        "\n",
        "plt.show()"
      ],
      "execution_count": null,
      "outputs": [
        {
          "output_type": "display_data",
          "data": {
            "image/png": "[encoded data removed]",
            "text/plain": [
              "<Figure size 432x288 with 1 Axes>"
            ]
          },
          "metadata": {
            "tags": [],
            "needs_background": "light"
          }
        }
      ]
    },
    {
      "cell_type": "code",
      "metadata": {
        "colab": {
          "base_uri": "https://localhost:8080/",
          "height": 204
        },
        "id": "Q00Lg9vNYFeG",
        "outputId": "b80fb760-c485-4ac3-a345-fa671699a935"
      },
      "source": [
        "sd_df.head()"
      ],
      "execution_count": null,
      "outputs": [
        {
          "output_type": "execute_result",
          "data": {
            "text/html": [
              "<div>\n",
              "<style scoped>\n",
              "    .dataframe tbody tr th:only-of-type {\n",
              "        vertical-align: middle;\n",
              "    }\n",
              "\n",
              "    .dataframe tbody tr th {\n",
              "        vertical-align: top;\n",
              "    }\n",
              "\n",
              "    .dataframe thead th {\n",
              "        text-align: right;\n",
              "    }\n",
              "</style>\n",
              "<table border=\"1\" class=\"dataframe\">\n",
              "  <thead>\n",
              "    <tr style=\"text-align: right;\">\n",
              "      <th></th>\n",
              "      <th>date</th>\n",
              "      <th>state</th>\n",
              "      <th>fips</th>\n",
              "      <th>cases</th>\n",
              "      <th>deaths</th>\n",
              "      <th>new_cases</th>\n",
              "      <th>month</th>\n",
              "    </tr>\n",
              "  </thead>\n",
              "  <tbody>\n",
              "    <tr>\n",
              "      <th>486</th>\n",
              "      <td>2020-03-10</td>\n",
              "      <td>South Dakota</td>\n",
              "      <td>46</td>\n",
              "      <td>5</td>\n",
              "      <td>1</td>\n",
              "      <td>5</td>\n",
              "      <td>3</td>\n",
              "    </tr>\n",
              "    <tr>\n",
              "      <th>530</th>\n",
              "      <td>2020-03-11</td>\n",
              "      <td>South Dakota</td>\n",
              "      <td>46</td>\n",
              "      <td>8</td>\n",
              "      <td>1</td>\n",
              "      <td>3</td>\n",
              "      <td>3</td>\n",
              "    </tr>\n",
              "    <tr>\n",
              "      <th>577</th>\n",
              "      <td>2020-03-12</td>\n",
              "      <td>South Dakota</td>\n",
              "      <td>46</td>\n",
              "      <td>8</td>\n",
              "      <td>1</td>\n",
              "      <td>0</td>\n",
              "      <td>3</td>\n",
              "    </tr>\n",
              "    <tr>\n",
              "      <th>628</th>\n",
              "      <td>2020-03-13</td>\n",
              "      <td>South Dakota</td>\n",
              "      <td>46</td>\n",
              "      <td>9</td>\n",
              "      <td>1</td>\n",
              "      <td>1</td>\n",
              "      <td>3</td>\n",
              "    </tr>\n",
              "    <tr>\n",
              "      <th>679</th>\n",
              "      <td>2020-03-14</td>\n",
              "      <td>South Dakota</td>\n",
              "      <td>46</td>\n",
              "      <td>9</td>\n",
              "      <td>1</td>\n",
              "      <td>0</td>\n",
              "      <td>3</td>\n",
              "    </tr>\n",
              "  </tbody>\n",
              "</table>\n",
              "</div>"
            ],
            "text/plain": [
              "          date         state  fips  cases  deaths  new_cases  month\n",
              "486 2020-03-10  South Dakota    46      5       1          5      3\n",
              "530 2020-03-11  South Dakota    46      8       1          3      3\n",
              "577 2020-03-12  South Dakota    46      8       1          0      3\n",
              "628 2020-03-13  South Dakota    46      9       1          1      3\n",
              "679 2020-03-14  South Dakota    46      9       1          0      3"
            ]
          },
          "metadata": {
            "tags": []
          },
          "execution_count": 161
        }
      ]
    },
    {
      "cell_type": "code",
      "metadata": {
        "id": "dk_JdxaYY0rO"
      },
      "source": [
        "days = range(len(sd_df.iloc[:,0]))"
      ],
      "execution_count": null,
      "outputs": []
    },
    {
      "cell_type": "code",
      "metadata": {
        "id": "FGSusXdFjbvq",
        "colab": {
          "base_uri": "https://localhost:8080/",
          "height": 295
        },
        "outputId": "86708a9c-4074-4f0e-d10b-d87456c26918"
      },
      "source": [
        "plt.plot(days, sd_cases)\n",
        "plt.title('South Dakota Covid Total Cases')\n",
        "plt.xlabel('Day:   08-03-2020  to  present')\n",
        "plt.ylabel('Million Cases')\n",
        "plt.show()"
      ],
      "execution_count": null,
      "outputs": [
        {
          "output_type": "display_data",
          "data": {
            "image/png": "[encoded data removed]",
            "text/plain": [
              "<Figure size 432x288 with 1 Axes>"
            ]
          },
          "metadata": {
            "tags": [],
            "needs_background": "light"
          }
        }
      ]
    },
    {
      "cell_type": "code",
      "metadata": {
        "id": "rPO_EX3Djbp5",
        "colab": {
          "base_uri": "https://localhost:8080/",
          "height": 204
        },
        "outputId": "660a4797-b6e8-4768-d03b-bf4ab4b04b5e"
      },
      "source": [
        "sd_df.head()"
      ],
      "execution_count": null,
      "outputs": [
        {
          "output_type": "execute_result",
          "data": {
            "text/html": [
              "<div>\n",
              "<style scoped>\n",
              "    .dataframe tbody tr th:only-of-type {\n",
              "        vertical-align: middle;\n",
              "    }\n",
              "\n",
              "    .dataframe tbody tr th {\n",
              "        vertical-align: top;\n",
              "    }\n",
              "\n",
              "    .dataframe thead th {\n",
              "        text-align: right;\n",
              "    }\n",
              "</style>\n",
              "<table border=\"1\" class=\"dataframe\">\n",
              "  <thead>\n",
              "    <tr style=\"text-align: right;\">\n",
              "      <th></th>\n",
              "      <th>date</th>\n",
              "      <th>state</th>\n",
              "      <th>fips</th>\n",
              "      <th>cases</th>\n",
              "      <th>deaths</th>\n",
              "      <th>new_cases</th>\n",
              "      <th>month</th>\n",
              "    </tr>\n",
              "  </thead>\n",
              "  <tbody>\n",
              "    <tr>\n",
              "      <th>486</th>\n",
              "      <td>2020-03-10</td>\n",
              "      <td>South Dakota</td>\n",
              "      <td>46</td>\n",
              "      <td>5</td>\n",
              "      <td>1</td>\n",
              "      <td>5</td>\n",
              "      <td>3</td>\n",
              "    </tr>\n",
              "    <tr>\n",
              "      <th>530</th>\n",
              "      <td>2020-03-11</td>\n",
              "      <td>South Dakota</td>\n",
              "      <td>46</td>\n",
              "      <td>8</td>\n",
              "      <td>1</td>\n",
              "      <td>3</td>\n",
              "      <td>3</td>\n",
              "    </tr>\n",
              "    <tr>\n",
              "      <th>577</th>\n",
              "      <td>2020-03-12</td>\n",
              "      <td>South Dakota</td>\n",
              "      <td>46</td>\n",
              "      <td>8</td>\n",
              "      <td>1</td>\n",
              "      <td>0</td>\n",
              "      <td>3</td>\n",
              "    </tr>\n",
              "    <tr>\n",
              "      <th>628</th>\n",
              "      <td>2020-03-13</td>\n",
              "      <td>South Dakota</td>\n",
              "      <td>46</td>\n",
              "      <td>9</td>\n",
              "      <td>1</td>\n",
              "      <td>1</td>\n",
              "      <td>3</td>\n",
              "    </tr>\n",
              "    <tr>\n",
              "      <th>679</th>\n",
              "      <td>2020-03-14</td>\n",
              "      <td>South Dakota</td>\n",
              "      <td>46</td>\n",
              "      <td>9</td>\n",
              "      <td>1</td>\n",
              "      <td>0</td>\n",
              "      <td>3</td>\n",
              "    </tr>\n",
              "  </tbody>\n",
              "</table>\n",
              "</div>"
            ],
            "text/plain": [
              "          date         state  fips  cases  deaths  new_cases  month\n",
              "486 2020-03-10  South Dakota    46      5       1          5      3\n",
              "530 2020-03-11  South Dakota    46      8       1          3      3\n",
              "577 2020-03-12  South Dakota    46      8       1          0      3\n",
              "628 2020-03-13  South Dakota    46      9       1          1      3\n",
              "679 2020-03-14  South Dakota    46      9       1          0      3"
            ]
          },
          "metadata": {
            "tags": []
          },
          "execution_count": 164
        }
      ]
    },
    {
      "cell_type": "code",
      "metadata": {
        "colab": {
          "base_uri": "https://localhost:8080/",
          "height": 521
        },
        "id": "env5ZtgZm3fa",
        "outputId": "0a59583c-a608-4cec-c673-1d01a10831a5"
      },
      "source": [
        "sd_df['month_year'] = sd_df['date'].dt.to_period('M')\n",
        "sd_df"
      ],
      "execution_count": null,
      "outputs": [
        {
          "output_type": "stream",
          "text": [
            "/usr/local/lib/python3.6/dist-packages/ipykernel_launcher.py:1: SettingWithCopyWarning: \n",
            "A value is trying to be set on a copy of a slice from a DataFrame.\n",
            "Try using .loc[row_indexer,col_indexer] = value instead\n",
            "\n",
            "See the caveats in the documentation: https://pandas.pydata.org/pandas-docs/stable/user_guide/indexing.html#returning-a-view-versus-a-copy\n",
            "  \"\"\"Entry point for launching an IPython kernel.\n"
          ],
          "name": "stderr"
        },
        {
          "output_type": "execute_result",
          "data": {
            "text/html": [
              "<div>\n",
              "<style scoped>\n",
              "    .dataframe tbody tr th:only-of-type {\n",
              "        vertical-align: middle;\n",
              "    }\n",
              "\n",
              "    .dataframe tbody tr th {\n",
              "        vertical-align: top;\n",
              "    }\n",
              "\n",
              "    .dataframe thead th {\n",
              "        text-align: right;\n",
              "    }\n",
              "</style>\n",
              "<table border=\"1\" class=\"dataframe\">\n",
              "  <thead>\n",
              "    <tr style=\"text-align: right;\">\n",
              "      <th></th>\n",
              "      <th>date</th>\n",
              "      <th>state</th>\n",
              "      <th>fips</th>\n",
              "      <th>cases</th>\n",
              "      <th>deaths</th>\n",
              "      <th>new_cases</th>\n",
              "      <th>month</th>\n",
              "      <th>month_year</th>\n",
              "    </tr>\n",
              "  </thead>\n",
              "  <tbody>\n",
              "    <tr>\n",
              "      <th>486</th>\n",
              "      <td>2020-03-10</td>\n",
              "      <td>South Dakota</td>\n",
              "      <td>46</td>\n",
              "      <td>5</td>\n",
              "      <td>1</td>\n",
              "      <td>5</td>\n",
              "      <td>3</td>\n",
              "      <td>2020-03</td>\n",
              "    </tr>\n",
              "    <tr>\n",
              "      <th>530</th>\n",
              "      <td>2020-03-11</td>\n",
              "      <td>South Dakota</td>\n",
              "      <td>46</td>\n",
              "      <td>8</td>\n",
              "      <td>1</td>\n",
              "      <td>3</td>\n",
              "      <td>3</td>\n",
              "      <td>2020-03</td>\n",
              "    </tr>\n",
              "    <tr>\n",
              "      <th>577</th>\n",
              "      <td>2020-03-12</td>\n",
              "      <td>South Dakota</td>\n",
              "      <td>46</td>\n",
              "      <td>8</td>\n",
              "      <td>1</td>\n",
              "      <td>0</td>\n",
              "      <td>3</td>\n",
              "      <td>2020-03</td>\n",
              "    </tr>\n",
              "    <tr>\n",
              "      <th>628</th>\n",
              "      <td>2020-03-13</td>\n",
              "      <td>South Dakota</td>\n",
              "      <td>46</td>\n",
              "      <td>9</td>\n",
              "      <td>1</td>\n",
              "      <td>1</td>\n",
              "      <td>3</td>\n",
              "      <td>2020-03</td>\n",
              "    </tr>\n",
              "    <tr>\n",
              "      <th>679</th>\n",
              "      <td>2020-03-14</td>\n",
              "      <td>South Dakota</td>\n",
              "      <td>46</td>\n",
              "      <td>9</td>\n",
              "      <td>1</td>\n",
              "      <td>0</td>\n",
              "      <td>3</td>\n",
              "      <td>2020-03</td>\n",
              "    </tr>\n",
              "    <tr>\n",
              "      <th>...</th>\n",
              "      <td>...</td>\n",
              "      <td>...</td>\n",
              "      <td>...</td>\n",
              "      <td>...</td>\n",
              "      <td>...</td>\n",
              "      <td>...</td>\n",
              "      <td>...</td>\n",
              "      <td>...</td>\n",
              "    </tr>\n",
              "    <tr>\n",
              "      <th>17163</th>\n",
              "      <td>2021-01-08</td>\n",
              "      <td>South Dakota</td>\n",
              "      <td>46</td>\n",
              "      <td>102580</td>\n",
              "      <td>1556</td>\n",
              "      <td>448</td>\n",
              "      <td>1</td>\n",
              "      <td>2021-01</td>\n",
              "    </tr>\n",
              "    <tr>\n",
              "      <th>17218</th>\n",
              "      <td>2021-01-09</td>\n",
              "      <td>South Dakota</td>\n",
              "      <td>46</td>\n",
              "      <td>102901</td>\n",
              "      <td>1570</td>\n",
              "      <td>321</td>\n",
              "      <td>1</td>\n",
              "      <td>2021-01</td>\n",
              "    </tr>\n",
              "    <tr>\n",
              "      <th>17273</th>\n",
              "      <td>2021-01-10</td>\n",
              "      <td>South Dakota</td>\n",
              "      <td>46</td>\n",
              "      <td>103318</td>\n",
              "      <td>1585</td>\n",
              "      <td>417</td>\n",
              "      <td>1</td>\n",
              "      <td>2021-01</td>\n",
              "    </tr>\n",
              "    <tr>\n",
              "      <th>17328</th>\n",
              "      <td>2021-01-11</td>\n",
              "      <td>South Dakota</td>\n",
              "      <td>46</td>\n",
              "      <td>103499</td>\n",
              "      <td>1585</td>\n",
              "      <td>181</td>\n",
              "      <td>1</td>\n",
              "      <td>2021-01</td>\n",
              "    </tr>\n",
              "    <tr>\n",
              "      <th>17383</th>\n",
              "      <td>2021-01-12</td>\n",
              "      <td>South Dakota</td>\n",
              "      <td>46</td>\n",
              "      <td>103743</td>\n",
              "      <td>1585</td>\n",
              "      <td>244</td>\n",
              "      <td>1</td>\n",
              "      <td>2021-01</td>\n",
              "    </tr>\n",
              "  </tbody>\n",
              "</table>\n",
              "<p>309 rows × 8 columns</p>\n",
              "</div>"
            ],
            "text/plain": [
              "            date         state  fips  ...  new_cases  month  month_year\n",
              "486   2020-03-10  South Dakota    46  ...          5      3     2020-03\n",
              "530   2020-03-11  South Dakota    46  ...          3      3     2020-03\n",
              "577   2020-03-12  South Dakota    46  ...          0      3     2020-03\n",
              "628   2020-03-13  South Dakota    46  ...          1      3     2020-03\n",
              "679   2020-03-14  South Dakota    46  ...          0      3     2020-03\n",
              "...          ...           ...   ...  ...        ...    ...         ...\n",
              "17163 2021-01-08  South Dakota    46  ...        448      1     2021-01\n",
              "17218 2021-01-09  South Dakota    46  ...        321      1     2021-01\n",
              "17273 2021-01-10  South Dakota    46  ...        417      1     2021-01\n",
              "17328 2021-01-11  South Dakota    46  ...        181      1     2021-01\n",
              "17383 2021-01-12  South Dakota    46  ...        244      1     2021-01\n",
              "\n",
              "[309 rows x 8 columns]"
            ]
          },
          "metadata": {
            "tags": []
          },
          "execution_count": 165
        }
      ]
    },
    {
      "cell_type": "code",
      "metadata": {
        "colab": {
          "base_uri": "https://localhost:8080/",
          "height": 390
        },
        "id": "G8xF_Md7m_e1",
        "outputId": "e14f41e8-92a5-42e1-caea-b9d276c8e869"
      },
      "source": [
        "sd_df.groupby('month_year')['new_cases'].sum().reset_index()"
      ],
      "execution_count": null,
      "outputs": [
        {
          "output_type": "execute_result",
          "data": {
            "text/html": [
              "<div>\n",
              "<style scoped>\n",
              "    .dataframe tbody tr th:only-of-type {\n",
              "        vertical-align: middle;\n",
              "    }\n",
              "\n",
              "    .dataframe tbody tr th {\n",
              "        vertical-align: top;\n",
              "    }\n",
              "\n",
              "    .dataframe thead th {\n",
              "        text-align: right;\n",
              "    }\n",
              "</style>\n",
              "<table border=\"1\" class=\"dataframe\">\n",
              "  <thead>\n",
              "    <tr style=\"text-align: right;\">\n",
              "      <th></th>\n",
              "      <th>month_year</th>\n",
              "      <th>new_cases</th>\n",
              "    </tr>\n",
              "  </thead>\n",
              "  <tbody>\n",
              "    <tr>\n",
              "      <th>0</th>\n",
              "      <td>2020-03</td>\n",
              "      <td>107</td>\n",
              "    </tr>\n",
              "    <tr>\n",
              "      <th>1</th>\n",
              "      <td>2020-04</td>\n",
              "      <td>2343</td>\n",
              "    </tr>\n",
              "    <tr>\n",
              "      <th>2</th>\n",
              "      <td>2020-05</td>\n",
              "      <td>2543</td>\n",
              "    </tr>\n",
              "    <tr>\n",
              "      <th>3</th>\n",
              "      <td>2020-06</td>\n",
              "      <td>1771</td>\n",
              "    </tr>\n",
              "    <tr>\n",
              "      <th>4</th>\n",
              "      <td>2020-07</td>\n",
              "      <td>2000</td>\n",
              "    </tr>\n",
              "    <tr>\n",
              "      <th>5</th>\n",
              "      <td>2020-08</td>\n",
              "      <td>4745</td>\n",
              "    </tr>\n",
              "    <tr>\n",
              "      <th>6</th>\n",
              "      <td>2020-09</td>\n",
              "      <td>8880</td>\n",
              "    </tr>\n",
              "    <tr>\n",
              "      <th>7</th>\n",
              "      <td>2020-10</td>\n",
              "      <td>23603</td>\n",
              "    </tr>\n",
              "    <tr>\n",
              "      <th>8</th>\n",
              "      <td>2020-11</td>\n",
              "      <td>34472</td>\n",
              "    </tr>\n",
              "    <tr>\n",
              "      <th>9</th>\n",
              "      <td>2020-12</td>\n",
              "      <td>18700</td>\n",
              "    </tr>\n",
              "    <tr>\n",
              "      <th>10</th>\n",
              "      <td>2021-01</td>\n",
              "      <td>4579</td>\n",
              "    </tr>\n",
              "  </tbody>\n",
              "</table>\n",
              "</div>"
            ],
            "text/plain": [
              "   month_year  new_cases\n",
              "0     2020-03        107\n",
              "1     2020-04       2343\n",
              "2     2020-05       2543\n",
              "3     2020-06       1771\n",
              "4     2020-07       2000\n",
              "5     2020-08       4745\n",
              "6     2020-09       8880\n",
              "7     2020-10      23603\n",
              "8     2020-11      34472\n",
              "9     2020-12      18700\n",
              "10    2021-01       4579"
            ]
          },
          "metadata": {
            "tags": []
          },
          "execution_count": 166
        }
      ]
    },
    {
      "cell_type": "code",
      "metadata": {
        "colab": {
          "base_uri": "https://localhost:8080/",
          "height": 327
        },
        "id": "AWAzAD8nnum0",
        "outputId": "c69561c4-d386-4226-ce25-68406ce5629c"
      },
      "source": [
        "sum_months = sd_df.groupby('month_year')['new_cases'].sum().reset_index()\n",
        "\n",
        "sum_months.drop(index=10, inplace=True)\n",
        "\n",
        "months = sum_months.loc[:, 'month_year'].dt.strftime('%Y-%m')\n",
        "cases = sum_months.loc[:, 'new_cases']\n",
        "\n",
        "plt.bar(months, cases)\n",
        "plt.title(\"Total New Cases by Month\")\n",
        "plt.xlabel('Month')\n",
        "plt.ylabel('Total New Cases')\n",
        "plt.xticks(rotation=90)\n",
        "plt.show()"
      ],
      "execution_count": null,
      "outputs": [
        {
          "output_type": "display_data",
          "data": {
            "image/png": "[encoded data removed]",
            "text/plain": [
              "<Figure size 432x288 with 1 Axes>"
            ]
          },
          "metadata": {
            "tags": [],
            "needs_background": "light"
          }
        }
      ]
    },
    {
      "cell_type": "code",
      "metadata": {
        "colab": {
          "base_uri": "https://localhost:8080/",
          "height": 327
        },
        "id": "h-G9QfWSphCb",
        "outputId": "7ff8533d-ff00-4d60-dc91-e5efe4df0887"
      },
      "source": [
        "mean_months = sd_df.groupby('month_year')['new_cases'].mean().reset_index()\n",
        "\n",
        "mean_months.drop(index=10, inplace=True)\n",
        "\n",
        "months = mean_months.loc[:, 'month_year'].dt.strftime('%Y-%m')\n",
        "cases = mean_months.loc[:, 'new_cases']\n",
        "\n",
        "plt.bar(months, cases)\n",
        "plt.title(\"Daily Averge New Cases by Month\")\n",
        "plt.xlabel('Month')\n",
        "plt.ylabel('Averge New Cases')\n",
        "plt.xticks(rotation=90)\n",
        "plt.show()"
      ],
      "execution_count": null,
      "outputs": [
        {
          "output_type": "display_data",
          "data": {
            "image/png": "[encoded data removed]",
            "text/plain": [
              "<Figure size 432x288 with 1 Axes>"
            ]
          },
          "metadata": {
            "tags": [],
            "needs_background": "light"
          }
        }
      ]
    },
    {
      "cell_type": "code",
      "metadata": {
        "id": "KLX4UrEwigAZ",
        "colab": {
          "base_uri": "https://localhost:8080/",
          "height": 385
        },
        "outputId": "00bbec82-df47-4346-d804-97819c735411"
      },
      "source": [
        "import seaborn as sns\n",
        "\n",
        "sns.displot(sd_deaths, kde=True)\\\n",
        ".set(title='Daily New Cases Distribution')\n",
        "plt.show()"
      ],
      "execution_count": null,
      "outputs": [
        {
          "output_type": "display_data",
          "data": {
            "image/png": "[encoded data removed]",
            "text/plain": [
              "<Figure size 360x360 with 1 Axes>"
            ]
          },
          "metadata": {
            "tags": [],
            "needs_background": "light"
          }
        }
      ]
    },
    {
      "cell_type": "markdown",
      "metadata": {
        "id": "fxvmzv85bU9i"
      },
      "source": [
        "# Last 30 Days"
      ]
    },
    {
      "cell_type": "code",
      "metadata": {
        "id": "0J3Txdorbchc"
      },
      "source": [
        "sd_cases_30 = sd_df['cases'][-31:-1]\n",
        "sd_deaths_30 = sd_df['deaths'] [-31:-1]\n",
        "sd_dates_30 = sd_df['date'][-31:-1]\n",
        "sd_new_cases_30 = sd_df['new_cases'][-31:-1]"
      ],
      "execution_count": null,
      "outputs": []
    },
    {
      "cell_type": "code",
      "metadata": {
        "id": "0pj1ebo2aaS0",
        "colab": {
          "base_uri": "https://localhost:8080/",
          "height": 476
        },
        "outputId": "b684447b-8082-4d9e-badf-041565110714"
      },
      "source": [
        "plt.figure(figsize=(15,7))\n",
        "plt.bar(x=sd_dates_30, height=sd_new_cases_30, color='red')\n",
        "plt.xticks(rotation=90)\n",
        "plt.show()"
      ],
      "execution_count": null,
      "outputs": [
        {
          "output_type": "display_data",
          "data": {
            "image/png": "[encoded data removed]",
            "text/plain": [
              "<Figure size 1080x504 with 1 Axes>"
            ]
          },
          "metadata": {
            "tags": [],
            "needs_background": "light"
          }
        }
      ]
    },
    {
      "cell_type": "code",
      "metadata": {
        "id": "Zfs3xGK4aaQT",
        "colab": {
          "base_uri": "https://localhost:8080/",
          "height": 476
        },
        "outputId": "fe00afac-ecef-4468-c935-96868b364d8c"
      },
      "source": [
        "plt.figure(figsize=(15,7))\n",
        "plt.bar(x=sd_dates_30, height=sd_deaths_30, color='blue')\n",
        "plt.xticks(rotation=90)\n",
        "plt.show()"
      ],
      "execution_count": null,
      "outputs": [
        {
          "output_type": "display_data",
          "data": {
            "image/png": "[encoded data removed]",
            "text/plain": [
              "<Figure size 1080x504 with 1 Axes>"
            ]
          },
          "metadata": {
            "tags": [],
            "needs_background": "light"
          }
        }
      ]
    },
    {
      "cell_type": "markdown",
      "metadata": {
        "id": "sNCwb1XPa4YF"
      },
      "source": [
        "# Comparing with different States\n"
      ]
    },
    {
      "cell_type": "code",
      "metadata": {
        "id": "IRQ1vJhaaaNR"
      },
      "source": [
        "states = ['Florida', 'New York','Oklahoma', 'South Dakota', 'Michigan']"
      ],
      "execution_count": null,
      "outputs": []
    },
    {
      "cell_type": "code",
      "metadata": {
        "id": "wMyriOccaaIB",
        "colab": {
          "base_uri": "https://localhost:8080/",
          "height": 475
        },
        "outputId": "f83552c3-513a-4fe3-e729-11a4b35ebe4d"
      },
      "source": [
        "plt.figure(figsize=(15,7))\n",
        "for state in states:\n",
        "  df_st = df[(df['state']==state) & (df['date']>='2020-08-07') & (df['date']<'2020-09-30')]\n",
        "  plt.plot(df_st['date'],\n",
        "           df_st['cases'],\n",
        "           linewidth=2\n",
        "           )\n",
        "  plt.xticks(rotation=90)\n",
        "plt.legend(states)\n",
        "plt.show()\n"
      ],
      "execution_count": null,
      "outputs": [
        {
          "output_type": "display_data",
          "data": {
            "image/png": "[encoded data removed]",
            "text/plain": [
              "<Figure size 1080x504 with 1 Axes>"
            ]
          },
          "metadata": {
            "tags": [],
            "needs_background": "light"
          }
        }
      ]
    },
    {
      "cell_type": "code",
      "metadata": {
        "id": "oECpPqSM3MWc"
      },
      "source": [
        ""
      ],
      "execution_count": null,
      "outputs": []
    },
    {
      "cell_type": "markdown",
      "metadata": {
        "id": "pgtQ4JXhsBpD"
      },
      "source": [
        "## Conclusions: \n",
        "- South Dakota’s total covid cases started spiking around September which allows us to assume that there was an event in the summer that caused people to gather and increase covid cases.\n",
        "- South Dakota hit it’s worst point in the pandemic in November with the highest number of total new cases and highest daily average new cases.\n",
        "- While South Dakota seems to be being hit hard by covid, they are actually doing better compared to states like Florida, New York, and Arizona.\n",
        "- It appears that states on the coasts, such as New York and Florida, are dealing with more cases than states within the country, such as South Dakota and Oklahoma.\n",
        "- Covid cases started going up much more around October and November which could mean that because of the holidays there was a spike.\n"
      ]
    }
  ]
}
