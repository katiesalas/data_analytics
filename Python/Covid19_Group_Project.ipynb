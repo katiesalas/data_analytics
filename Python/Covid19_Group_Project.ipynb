{
  "nbformat": 4,
  "nbformat_minor": 0,
  "metadata": {
    "colab": {
      "name": "Covid19_Group_Project.ipynb",
      "provenance": [],
      "collapsed_sections": [],
      "include_colab_link": true
    },
    "kernelspec": {
      "name": "python3",
      "display_name": "Python 3"
    }
  },
  "cells": [
    {
      "cell_type": "markdown",
      "metadata": {
        "id": "view-in-github",
        "colab_type": "text"
      },
      "source": [
        "<a href=\"https://colab.research.google.com/github/katiesalas/data_analytics_2/blob/main/Covid19_Group_Project.ipynb\" target=\"_parent\"><img src=\"https://colab.research.google.com/assets/colab-badge.svg\" alt=\"Open In Colab\"/></a>"
      ]
    },
    {
      "cell_type": "markdown",
      "metadata": {
        "id": "BdjWzOCJscBX"
      },
      "source": [
        "Hong Zhao, Katie Salas, Fahema Nabi\n",
        "\n",
        "> Indented block\n",
        "\n"
      ]
    },
    {
      "cell_type": "code",
      "metadata": {
        "id": "Lf2KWn7cXdDX"
      },
      "source": [
        "import pandas as pd\n",
        "import numpy as np\n",
        "import matplotlib.pyplot as plt\n",
        "import seaborn as sns"
      ],
      "execution_count": null,
      "outputs": []
    },
    {
      "cell_type": "code",
      "metadata": {
        "id": "eSWRz4RbYiYU"
      },
      "source": [
        "df = pd.read_csv('https://raw.githubusercontent.com/nytimes/covid-19-data/master/us-states.csv')"
      ],
      "execution_count": null,
      "outputs": []
    },
    {
      "cell_type": "code",
      "metadata": {
        "id": "itdS0VlWY9Ui",
        "colab": {
          "base_uri": "https://localhost:8080/",
          "height": 206
        },
        "outputId": "9da7eacf-919f-4da3-826d-b79845da8052"
      },
      "source": [
        "df.head()"
      ],
      "execution_count": null,
      "outputs": [
        {
          "output_type": "execute_result",
          "data": {
            "text/html": [
              "<div>\n",
              "<style scoped>\n",
              "    .dataframe tbody tr th:only-of-type {\n",
              "        vertical-align: middle;\n",
              "    }\n",
              "\n",
              "    .dataframe tbody tr th {\n",
              "        vertical-align: top;\n",
              "    }\n",
              "\n",
              "    .dataframe thead th {\n",
              "        text-align: right;\n",
              "    }\n",
              "</style>\n",
              "<table border=\"1\" class=\"dataframe\">\n",
              "  <thead>\n",
              "    <tr style=\"text-align: right;\">\n",
              "      <th></th>\n",
              "      <th>date</th>\n",
              "      <th>state</th>\n",
              "      <th>fips</th>\n",
              "      <th>cases</th>\n",
              "      <th>deaths</th>\n",
              "    </tr>\n",
              "  </thead>\n",
              "  <tbody>\n",
              "    <tr>\n",
              "      <th>0</th>\n",
              "      <td>2020-01-21</td>\n",
              "      <td>Washington</td>\n",
              "      <td>53</td>\n",
              "      <td>1</td>\n",
              "      <td>0</td>\n",
              "    </tr>\n",
              "    <tr>\n",
              "      <th>1</th>\n",
              "      <td>2020-01-22</td>\n",
              "      <td>Washington</td>\n",
              "      <td>53</td>\n",
              "      <td>1</td>\n",
              "      <td>0</td>\n",
              "    </tr>\n",
              "    <tr>\n",
              "      <th>2</th>\n",
              "      <td>2020-01-23</td>\n",
              "      <td>Washington</td>\n",
              "      <td>53</td>\n",
              "      <td>1</td>\n",
              "      <td>0</td>\n",
              "    </tr>\n",
              "    <tr>\n",
              "      <th>3</th>\n",
              "      <td>2020-01-24</td>\n",
              "      <td>Illinois</td>\n",
              "      <td>17</td>\n",
              "      <td>1</td>\n",
              "      <td>0</td>\n",
              "    </tr>\n",
              "    <tr>\n",
              "      <th>4</th>\n",
              "      <td>2020-01-24</td>\n",
              "      <td>Washington</td>\n",
              "      <td>53</td>\n",
              "      <td>1</td>\n",
              "      <td>0</td>\n",
              "    </tr>\n",
              "  </tbody>\n",
              "</table>\n",
              "</div>"
            ],
            "text/plain": [
              "         date       state  fips  cases  deaths\n",
              "0  2020-01-21  Washington    53      1       0\n",
              "1  2020-01-22  Washington    53      1       0\n",
              "2  2020-01-23  Washington    53      1       0\n",
              "3  2020-01-24    Illinois    17      1       0\n",
              "4  2020-01-24  Washington    53      1       0"
            ]
          },
          "metadata": {
            "tags": []
          },
          "execution_count": 3
        }
      ]
    },
    {
      "cell_type": "code",
      "metadata": {
        "id": "CFseirM0abYN"
      },
      "source": [
        "sd_df = df[df['state'] == 'South Dakota']\n"
      ],
      "execution_count": null,
      "outputs": []
    },
    {
      "cell_type": "code",
      "metadata": {
        "id": "i73LanU2abSt",
        "colab": {
          "base_uri": "https://localhost:8080/",
          "height": 206
        },
        "outputId": "4f11bfb9-0fbf-417d-dc61-a50f2453168b"
      },
      "source": [
        "sd_df.head()"
      ],
      "execution_count": null,
      "outputs": [
        {
          "output_type": "execute_result",
          "data": {
            "text/html": [
              "<div>\n",
              "<style scoped>\n",
              "    .dataframe tbody tr th:only-of-type {\n",
              "        vertical-align: middle;\n",
              "    }\n",
              "\n",
              "    .dataframe tbody tr th {\n",
              "        vertical-align: top;\n",
              "    }\n",
              "\n",
              "    .dataframe thead th {\n",
              "        text-align: right;\n",
              "    }\n",
              "</style>\n",
              "<table border=\"1\" class=\"dataframe\">\n",
              "  <thead>\n",
              "    <tr style=\"text-align: right;\">\n",
              "      <th></th>\n",
              "      <th>date</th>\n",
              "      <th>state</th>\n",
              "      <th>fips</th>\n",
              "      <th>cases</th>\n",
              "      <th>deaths</th>\n",
              "    </tr>\n",
              "  </thead>\n",
              "  <tbody>\n",
              "    <tr>\n",
              "      <th>486</th>\n",
              "      <td>2020-03-10</td>\n",
              "      <td>South Dakota</td>\n",
              "      <td>46</td>\n",
              "      <td>5</td>\n",
              "      <td>1</td>\n",
              "    </tr>\n",
              "    <tr>\n",
              "      <th>530</th>\n",
              "      <td>2020-03-11</td>\n",
              "      <td>South Dakota</td>\n",
              "      <td>46</td>\n",
              "      <td>8</td>\n",
              "      <td>1</td>\n",
              "    </tr>\n",
              "    <tr>\n",
              "      <th>577</th>\n",
              "      <td>2020-03-12</td>\n",
              "      <td>South Dakota</td>\n",
              "      <td>46</td>\n",
              "      <td>8</td>\n",
              "      <td>1</td>\n",
              "    </tr>\n",
              "    <tr>\n",
              "      <th>628</th>\n",
              "      <td>2020-03-13</td>\n",
              "      <td>South Dakota</td>\n",
              "      <td>46</td>\n",
              "      <td>9</td>\n",
              "      <td>1</td>\n",
              "    </tr>\n",
              "    <tr>\n",
              "      <th>679</th>\n",
              "      <td>2020-03-14</td>\n",
              "      <td>South Dakota</td>\n",
              "      <td>46</td>\n",
              "      <td>9</td>\n",
              "      <td>1</td>\n",
              "    </tr>\n",
              "  </tbody>\n",
              "</table>\n",
              "</div>"
            ],
            "text/plain": [
              "           date         state  fips  cases  deaths\n",
              "486  2020-03-10  South Dakota    46      5       1\n",
              "530  2020-03-11  South Dakota    46      8       1\n",
              "577  2020-03-12  South Dakota    46      8       1\n",
              "628  2020-03-13  South Dakota    46      9       1\n",
              "679  2020-03-14  South Dakota    46      9       1"
            ]
          },
          "metadata": {
            "tags": []
          },
          "execution_count": 5
        }
      ]
    },
    {
      "cell_type": "code",
      "metadata": {
        "id": "rMWBk1WKabOu",
        "colab": {
          "base_uri": "https://localhost:8080/"
        },
        "outputId": "1238b866-5145-41eb-8314-2afe97e86543"
      },
      "source": [
        "sd_df.shape"
      ],
      "execution_count": null,
      "outputs": [
        {
          "output_type": "execute_result",
          "data": {
            "text/plain": [
              "(312, 5)"
            ]
          },
          "metadata": {
            "tags": []
          },
          "execution_count": 6
        }
      ]
    },
    {
      "cell_type": "code",
      "metadata": {
        "id": "sM1lWI3LabLQ",
        "colab": {
          "base_uri": "https://localhost:8080/",
          "height": 206
        },
        "outputId": "2136a4e2-a297-4901-a72f-010a7e72804e"
      },
      "source": [
        "sd_df.tail()"
      ],
      "execution_count": null,
      "outputs": [
        {
          "output_type": "execute_result",
          "data": {
            "text/html": [
              "<div>\n",
              "<style scoped>\n",
              "    .dataframe tbody tr th:only-of-type {\n",
              "        vertical-align: middle;\n",
              "    }\n",
              "\n",
              "    .dataframe tbody tr th {\n",
              "        vertical-align: top;\n",
              "    }\n",
              "\n",
              "    .dataframe thead th {\n",
              "        text-align: right;\n",
              "    }\n",
              "</style>\n",
              "<table border=\"1\" class=\"dataframe\">\n",
              "  <thead>\n",
              "    <tr style=\"text-align: right;\">\n",
              "      <th></th>\n",
              "      <th>date</th>\n",
              "      <th>state</th>\n",
              "      <th>fips</th>\n",
              "      <th>cases</th>\n",
              "      <th>deaths</th>\n",
              "    </tr>\n",
              "  </thead>\n",
              "  <tbody>\n",
              "    <tr>\n",
              "      <th>17328</th>\n",
              "      <td>2021-01-11</td>\n",
              "      <td>South Dakota</td>\n",
              "      <td>46</td>\n",
              "      <td>103499</td>\n",
              "      <td>1585</td>\n",
              "    </tr>\n",
              "    <tr>\n",
              "      <th>17383</th>\n",
              "      <td>2021-01-12</td>\n",
              "      <td>South Dakota</td>\n",
              "      <td>46</td>\n",
              "      <td>103743</td>\n",
              "      <td>1585</td>\n",
              "    </tr>\n",
              "    <tr>\n",
              "      <th>17438</th>\n",
              "      <td>2021-01-13</td>\n",
              "      <td>South Dakota</td>\n",
              "      <td>46</td>\n",
              "      <td>104195</td>\n",
              "      <td>1604</td>\n",
              "    </tr>\n",
              "    <tr>\n",
              "      <th>17493</th>\n",
              "      <td>2021-01-14</td>\n",
              "      <td>South Dakota</td>\n",
              "      <td>46</td>\n",
              "      <td>104512</td>\n",
              "      <td>1614</td>\n",
              "    </tr>\n",
              "    <tr>\n",
              "      <th>17548</th>\n",
              "      <td>2021-01-15</td>\n",
              "      <td>South Dakota</td>\n",
              "      <td>46</td>\n",
              "      <td>104937</td>\n",
              "      <td>1629</td>\n",
              "    </tr>\n",
              "  </tbody>\n",
              "</table>\n",
              "</div>"
            ],
            "text/plain": [
              "             date         state  fips   cases  deaths\n",
              "17328  2021-01-11  South Dakota    46  103499    1585\n",
              "17383  2021-01-12  South Dakota    46  103743    1585\n",
              "17438  2021-01-13  South Dakota    46  104195    1604\n",
              "17493  2021-01-14  South Dakota    46  104512    1614\n",
              "17548  2021-01-15  South Dakota    46  104937    1629"
            ]
          },
          "metadata": {
            "tags": []
          },
          "execution_count": 7
        }
      ]
    },
    {
      "cell_type": "code",
      "metadata": {
        "id": "4UzcFimuaa27",
        "colab": {
          "base_uri": "https://localhost:8080/",
          "height": 206
        },
        "outputId": "47168073-0045-462d-f0cf-ff596b94f3db"
      },
      "source": [
        "#first death in SD\n",
        "first_sd_death = sd_df[sd_df['deaths']!=0]\n",
        "first_sd_death.head()"
      ],
      "execution_count": null,
      "outputs": [
        {
          "output_type": "execute_result",
          "data": {
            "text/html": [
              "<div>\n",
              "<style scoped>\n",
              "    .dataframe tbody tr th:only-of-type {\n",
              "        vertical-align: middle;\n",
              "    }\n",
              "\n",
              "    .dataframe tbody tr th {\n",
              "        vertical-align: top;\n",
              "    }\n",
              "\n",
              "    .dataframe thead th {\n",
              "        text-align: right;\n",
              "    }\n",
              "</style>\n",
              "<table border=\"1\" class=\"dataframe\">\n",
              "  <thead>\n",
              "    <tr style=\"text-align: right;\">\n",
              "      <th></th>\n",
              "      <th>date</th>\n",
              "      <th>state</th>\n",
              "      <th>fips</th>\n",
              "      <th>cases</th>\n",
              "      <th>deaths</th>\n",
              "    </tr>\n",
              "  </thead>\n",
              "  <tbody>\n",
              "    <tr>\n",
              "      <th>486</th>\n",
              "      <td>2020-03-10</td>\n",
              "      <td>South Dakota</td>\n",
              "      <td>46</td>\n",
              "      <td>5</td>\n",
              "      <td>1</td>\n",
              "    </tr>\n",
              "    <tr>\n",
              "      <th>530</th>\n",
              "      <td>2020-03-11</td>\n",
              "      <td>South Dakota</td>\n",
              "      <td>46</td>\n",
              "      <td>8</td>\n",
              "      <td>1</td>\n",
              "    </tr>\n",
              "    <tr>\n",
              "      <th>577</th>\n",
              "      <td>2020-03-12</td>\n",
              "      <td>South Dakota</td>\n",
              "      <td>46</td>\n",
              "      <td>8</td>\n",
              "      <td>1</td>\n",
              "    </tr>\n",
              "    <tr>\n",
              "      <th>628</th>\n",
              "      <td>2020-03-13</td>\n",
              "      <td>South Dakota</td>\n",
              "      <td>46</td>\n",
              "      <td>9</td>\n",
              "      <td>1</td>\n",
              "    </tr>\n",
              "    <tr>\n",
              "      <th>679</th>\n",
              "      <td>2020-03-14</td>\n",
              "      <td>South Dakota</td>\n",
              "      <td>46</td>\n",
              "      <td>9</td>\n",
              "      <td>1</td>\n",
              "    </tr>\n",
              "  </tbody>\n",
              "</table>\n",
              "</div>"
            ],
            "text/plain": [
              "           date         state  fips  cases  deaths\n",
              "486  2020-03-10  South Dakota    46      5       1\n",
              "530  2020-03-11  South Dakota    46      8       1\n",
              "577  2020-03-12  South Dakota    46      8       1\n",
              "628  2020-03-13  South Dakota    46      9       1\n",
              "679  2020-03-14  South Dakota    46      9       1"
            ]
          },
          "metadata": {
            "tags": []
          },
          "execution_count": 8
        }
      ]
    },
    {
      "cell_type": "code",
      "metadata": {
        "id": "uMI7gN8daax4",
        "colab": {
          "base_uri": "https://localhost:8080/"
        },
        "outputId": "d76fedd2-9880-4264-e398-082c24868789"
      },
      "source": [
        "#total number of cases\n",
        "sd_df['cases'].max()"
      ],
      "execution_count": null,
      "outputs": [
        {
          "output_type": "execute_result",
          "data": {
            "text/plain": [
              "104937"
            ]
          },
          "metadata": {
            "tags": []
          },
          "execution_count": 9
        }
      ]
    },
    {
      "cell_type": "code",
      "metadata": {
        "colab": {
          "base_uri": "https://localhost:8080/"
        },
        "id": "TgfEzc5lY9tN",
        "outputId": "c7546f87-2f0f-4eb4-9d62-2adc2946587f"
      },
      "source": [
        "#total number of deaths\n",
        "sd_df['deaths'].max()"
      ],
      "execution_count": null,
      "outputs": [
        {
          "output_type": "execute_result",
          "data": {
            "text/plain": [
              "1629"
            ]
          },
          "metadata": {
            "tags": []
          },
          "execution_count": 10
        }
      ]
    },
    {
      "cell_type": "code",
      "metadata": {
        "id": "Q9gnXx4Vaasz",
        "colab": {
          "base_uri": "https://localhost:8080/"
        },
        "outputId": "d4f20329-5d10-4816-e558-ed1e13c87fb0"
      },
      "source": [
        "# not a correct way of calculating total count bcoz data is cumulative\n",
        "sd_df['cases'].sum()"
      ],
      "execution_count": null,
      "outputs": [
        {
          "output_type": "execute_result",
          "data": {
            "text/plain": [
              "8754478"
            ]
          },
          "metadata": {
            "tags": []
          },
          "execution_count": 11
        }
      ]
    },
    {
      "cell_type": "code",
      "metadata": {
        "id": "Laqt0Vf0aan9",
        "colab": {
          "base_uri": "https://localhost:8080/"
        },
        "outputId": "cd16e0b3-def0-4894-8095-e5a3eb59537a"
      },
      "source": [
        "#new cases for SD\n",
        "type(sd_df['cases'])\n",
        "\n",
        "newcase = []\n",
        "previuos_case = 0\n",
        "for index, row in sd_df.iterrows():\n",
        "  current_case = row['cases']\n",
        "  newcase_count = current_case - previuos_case\n",
        "  previuos_case = current_case\n",
        "  newcase.append(newcase_count)\n",
        "print(newcase_count)"
      ],
      "execution_count": null,
      "outputs": [
        {
          "output_type": "stream",
          "text": [
            "425\n"
          ],
          "name": "stdout"
        }
      ]
    },
    {
      "cell_type": "code",
      "metadata": {
        "id": "UMtb8Ju6aakg",
        "colab": {
          "base_uri": "https://localhost:8080/"
        },
        "outputId": "58481462-ff27-4654-9f09-8acc1a9ffc1f"
      },
      "source": [
        "sd_df['new_cases'] = newcase"
      ],
      "execution_count": null,
      "outputs": [
        {
          "output_type": "stream",
          "text": [
            "/usr/local/lib/python3.6/dist-packages/ipykernel_launcher.py:1: SettingWithCopyWarning: \n",
            "A value is trying to be set on a copy of a slice from a DataFrame.\n",
            "Try using .loc[row_indexer,col_indexer] = value instead\n",
            "\n",
            "See the caveats in the documentation: https://pandas.pydata.org/pandas-docs/stable/user_guide/indexing.html#returning-a-view-versus-a-copy\n",
            "  \"\"\"Entry point for launching an IPython kernel.\n"
          ],
          "name": "stderr"
        }
      ]
    },
    {
      "cell_type": "markdown",
      "metadata": {
        "id": "6Byaw9B3b5TQ"
      },
      "source": [
        "/usr/local/lib/python3.6/dist-packages/ipykernel_launcher.py:1: SettingWithCopyWarning: \n",
        "A value is trying to be set on a copy of a slice from a DataFrame.\n",
        "Try using .loc[row_indexer,col_indexer] = value instead\n",
        "\n",
        "See the caveats in the documentation: https://pandas.pydata.org/pandas-docs/stable/user_guide/indexing.html#returning-a-view-versus-a-copy\n",
        "  \"\"\"Entry point for launching an IPython kernel."
      ]
    },
    {
      "cell_type": "code",
      "metadata": {
        "id": "j0mUIHkBaahT",
        "colab": {
          "base_uri": "https://localhost:8080/",
          "height": 362
        },
        "outputId": "c172b750-8950-4087-9663-c0f8f73dfba9"
      },
      "source": [
        "sd_df.head(10)"
      ],
      "execution_count": null,
      "outputs": [
        {
          "output_type": "execute_result",
          "data": {
            "text/html": [
              "<div>\n",
              "<style scoped>\n",
              "    .dataframe tbody tr th:only-of-type {\n",
              "        vertical-align: middle;\n",
              "    }\n",
              "\n",
              "    .dataframe tbody tr th {\n",
              "        vertical-align: top;\n",
              "    }\n",
              "\n",
              "    .dataframe thead th {\n",
              "        text-align: right;\n",
              "    }\n",
              "</style>\n",
              "<table border=\"1\" class=\"dataframe\">\n",
              "  <thead>\n",
              "    <tr style=\"text-align: right;\">\n",
              "      <th></th>\n",
              "      <th>date</th>\n",
              "      <th>state</th>\n",
              "      <th>fips</th>\n",
              "      <th>cases</th>\n",
              "      <th>deaths</th>\n",
              "      <th>new_cases</th>\n",
              "    </tr>\n",
              "  </thead>\n",
              "  <tbody>\n",
              "    <tr>\n",
              "      <th>486</th>\n",
              "      <td>2020-03-10</td>\n",
              "      <td>South Dakota</td>\n",
              "      <td>46</td>\n",
              "      <td>5</td>\n",
              "      <td>1</td>\n",
              "      <td>5</td>\n",
              "    </tr>\n",
              "    <tr>\n",
              "      <th>530</th>\n",
              "      <td>2020-03-11</td>\n",
              "      <td>South Dakota</td>\n",
              "      <td>46</td>\n",
              "      <td>8</td>\n",
              "      <td>1</td>\n",
              "      <td>3</td>\n",
              "    </tr>\n",
              "    <tr>\n",
              "      <th>577</th>\n",
              "      <td>2020-03-12</td>\n",
              "      <td>South Dakota</td>\n",
              "      <td>46</td>\n",
              "      <td>8</td>\n",
              "      <td>1</td>\n",
              "      <td>0</td>\n",
              "    </tr>\n",
              "    <tr>\n",
              "      <th>628</th>\n",
              "      <td>2020-03-13</td>\n",
              "      <td>South Dakota</td>\n",
              "      <td>46</td>\n",
              "      <td>9</td>\n",
              "      <td>1</td>\n",
              "      <td>1</td>\n",
              "    </tr>\n",
              "    <tr>\n",
              "      <th>679</th>\n",
              "      <td>2020-03-14</td>\n",
              "      <td>South Dakota</td>\n",
              "      <td>46</td>\n",
              "      <td>9</td>\n",
              "      <td>1</td>\n",
              "      <td>0</td>\n",
              "    </tr>\n",
              "    <tr>\n",
              "      <th>732</th>\n",
              "      <td>2020-03-15</td>\n",
              "      <td>South Dakota</td>\n",
              "      <td>46</td>\n",
              "      <td>9</td>\n",
              "      <td>1</td>\n",
              "      <td>0</td>\n",
              "    </tr>\n",
              "    <tr>\n",
              "      <th>785</th>\n",
              "      <td>2020-03-16</td>\n",
              "      <td>South Dakota</td>\n",
              "      <td>46</td>\n",
              "      <td>10</td>\n",
              "      <td>1</td>\n",
              "      <td>1</td>\n",
              "    </tr>\n",
              "    <tr>\n",
              "      <th>838</th>\n",
              "      <td>2020-03-17</td>\n",
              "      <td>South Dakota</td>\n",
              "      <td>46</td>\n",
              "      <td>11</td>\n",
              "      <td>1</td>\n",
              "      <td>1</td>\n",
              "    </tr>\n",
              "    <tr>\n",
              "      <th>892</th>\n",
              "      <td>2020-03-18</td>\n",
              "      <td>South Dakota</td>\n",
              "      <td>46</td>\n",
              "      <td>11</td>\n",
              "      <td>1</td>\n",
              "      <td>0</td>\n",
              "    </tr>\n",
              "    <tr>\n",
              "      <th>946</th>\n",
              "      <td>2020-03-19</td>\n",
              "      <td>South Dakota</td>\n",
              "      <td>46</td>\n",
              "      <td>14</td>\n",
              "      <td>1</td>\n",
              "      <td>3</td>\n",
              "    </tr>\n",
              "  </tbody>\n",
              "</table>\n",
              "</div>"
            ],
            "text/plain": [
              "           date         state  fips  cases  deaths  new_cases\n",
              "486  2020-03-10  South Dakota    46      5       1          5\n",
              "530  2020-03-11  South Dakota    46      8       1          3\n",
              "577  2020-03-12  South Dakota    46      8       1          0\n",
              "628  2020-03-13  South Dakota    46      9       1          1\n",
              "679  2020-03-14  South Dakota    46      9       1          0\n",
              "732  2020-03-15  South Dakota    46      9       1          0\n",
              "785  2020-03-16  South Dakota    46     10       1          1\n",
              "838  2020-03-17  South Dakota    46     11       1          1\n",
              "892  2020-03-18  South Dakota    46     11       1          0\n",
              "946  2020-03-19  South Dakota    46     14       1          3"
            ]
          },
          "metadata": {
            "tags": []
          },
          "execution_count": 14
        }
      ]
    },
    {
      "cell_type": "code",
      "metadata": {
        "id": "ihNTPc49aae2",
        "colab": {
          "base_uri": "https://localhost:8080/"
        },
        "outputId": "98c7a164-d1ec-4bff-fb99-ee36eb0d5e03"
      },
      "source": [
        "sd_df['new_cases'].sum()"
      ],
      "execution_count": null,
      "outputs": [
        {
          "output_type": "execute_result",
          "data": {
            "text/plain": [
              "104937"
            ]
          },
          "metadata": {
            "tags": []
          },
          "execution_count": 15
        }
      ]
    },
    {
      "cell_type": "code",
      "metadata": {
        "id": "c-MoyZuiaacZ"
      },
      "source": [
        "sd_cases = sd_df['cases']\n",
        "sd_deaths = sd_df['deaths']\n",
        "sd_dates = sd_df['date']\n",
        "sd_new_cases = sd_df['new_cases']"
      ],
      "execution_count": null,
      "outputs": []
    },
    {
      "cell_type": "code",
      "metadata": {
        "id": "AV6VgPr4aaaG",
        "colab": {
          "base_uri": "https://localhost:8080/"
        },
        "outputId": "f1d994fe-84f4-4ead-c02d-002bce7f177a"
      },
      "source": [
        "type(sd_new_cases)"
      ],
      "execution_count": null,
      "outputs": [
        {
          "output_type": "execute_result",
          "data": {
            "text/plain": [
              "pandas.core.series.Series"
            ]
          },
          "metadata": {
            "tags": []
          },
          "execution_count": 17
        }
      ]
    },
    {
      "cell_type": "code",
      "metadata": {
        "id": "HWFLRioAaaX2",
        "colab": {
          "base_uri": "https://localhost:8080/",
          "height": 317
        },
        "outputId": "aea70558-0639-4dec-912c-013802ca2893"
      },
      "source": [
        "sd_df['new_cases'].plot(kind='line')\n",
        "plt.title ('New Cases')\n",
        "plt.xlabel('Time')\n",
        "plt.ylabel('Cases')\n",
        "plt.grid(axis='x')\n",
        "plt.xticks(rotation=90)\n",
        "\n",
        "plt.show()"
      ],
      "execution_count": null,
      "outputs": [
        {
          "output_type": "display_data",
          "data": {
            "image/png": "[encoded data removed]",
            "text/plain": [
              "<Figure size 432x288 with 1 Axes>"
            ]
          },
          "metadata": {
            "tags": [],
            "needs_background": "light"
          }
        }
      ]
    },
    {
      "cell_type": "code",
      "metadata": {
        "id": "jFFr5IpuaaVj",
        "colab": {
          "base_uri": "https://localhost:8080/",
          "height": 414
        },
        "outputId": "ddb4c73c-8382-42b0-e96c-53fe2c204f6e"
      },
      "source": [
        "sd_df.loc[:, 'date'] = pd.to_datetime(sd_df.loc[:, 'date'])\n",
        "\n",
        "sd_df['month'] = sd_df['date'].dt.month\n",
        "\n",
        "sd_df.head()"
      ],
      "execution_count": null,
      "outputs": [
        {
          "output_type": "stream",
          "text": [
            "/usr/local/lib/python3.6/dist-packages/pandas/core/indexing.py:1743: SettingWithCopyWarning: \n",
            "A value is trying to be set on a copy of a slice from a DataFrame.\n",
            "Try using .loc[row_indexer,col_indexer] = value instead\n",
            "\n",
            "See the caveats in the documentation: https://pandas.pydata.org/pandas-docs/stable/user_guide/indexing.html#returning-a-view-versus-a-copy\n",
            "  isetter(ilocs[0], value)\n",
            "/usr/local/lib/python3.6/dist-packages/ipykernel_launcher.py:3: SettingWithCopyWarning: \n",
            "A value is trying to be set on a copy of a slice from a DataFrame.\n",
            "Try using .loc[row_indexer,col_indexer] = value instead\n",
            "\n",
            "See the caveats in the documentation: https://pandas.pydata.org/pandas-docs/stable/user_guide/indexing.html#returning-a-view-versus-a-copy\n",
            "  This is separate from the ipykernel package so we can avoid doing imports until\n"
          ],
          "name": "stderr"
        },
        {
          "output_type": "execute_result",
          "data": {
            "text/html": [
              "<div>\n",
              "<style scoped>\n",
              "    .dataframe tbody tr th:only-of-type {\n",
              "        vertical-align: middle;\n",
              "    }\n",
              "\n",
              "    .dataframe tbody tr th {\n",
              "        vertical-align: top;\n",
              "    }\n",
              "\n",
              "    .dataframe thead th {\n",
              "        text-align: right;\n",
              "    }\n",
              "</style>\n",
              "<table border=\"1\" class=\"dataframe\">\n",
              "  <thead>\n",
              "    <tr style=\"text-align: right;\">\n",
              "      <th></th>\n",
              "      <th>date</th>\n",
              "      <th>state</th>\n",
              "      <th>fips</th>\n",
              "      <th>cases</th>\n",
              "      <th>deaths</th>\n",
              "      <th>new_cases</th>\n",
              "      <th>month</th>\n",
              "    </tr>\n",
              "  </thead>\n",
              "  <tbody>\n",
              "    <tr>\n",
              "      <th>486</th>\n",
              "      <td>2020-03-10</td>\n",
              "      <td>South Dakota</td>\n",
              "      <td>46</td>\n",
              "      <td>5</td>\n",
              "      <td>1</td>\n",
              "      <td>5</td>\n",
              "      <td>3</td>\n",
              "    </tr>\n",
              "    <tr>\n",
              "      <th>530</th>\n",
              "      <td>2020-03-11</td>\n",
              "      <td>South Dakota</td>\n",
              "      <td>46</td>\n",
              "      <td>8</td>\n",
              "      <td>1</td>\n",
              "      <td>3</td>\n",
              "      <td>3</td>\n",
              "    </tr>\n",
              "    <tr>\n",
              "      <th>577</th>\n",
              "      <td>2020-03-12</td>\n",
              "      <td>South Dakota</td>\n",
              "      <td>46</td>\n",
              "      <td>8</td>\n",
              "      <td>1</td>\n",
              "      <td>0</td>\n",
              "      <td>3</td>\n",
              "    </tr>\n",
              "    <tr>\n",
              "      <th>628</th>\n",
              "      <td>2020-03-13</td>\n",
              "      <td>South Dakota</td>\n",
              "      <td>46</td>\n",
              "      <td>9</td>\n",
              "      <td>1</td>\n",
              "      <td>1</td>\n",
              "      <td>3</td>\n",
              "    </tr>\n",
              "    <tr>\n",
              "      <th>679</th>\n",
              "      <td>2020-03-14</td>\n",
              "      <td>South Dakota</td>\n",
              "      <td>46</td>\n",
              "      <td>9</td>\n",
              "      <td>1</td>\n",
              "      <td>0</td>\n",
              "      <td>3</td>\n",
              "    </tr>\n",
              "  </tbody>\n",
              "</table>\n",
              "</div>"
            ],
            "text/plain": [
              "          date         state  fips  cases  deaths  new_cases  month\n",
              "486 2020-03-10  South Dakota    46      5       1          5      3\n",
              "530 2020-03-11  South Dakota    46      8       1          3      3\n",
              "577 2020-03-12  South Dakota    46      8       1          0      3\n",
              "628 2020-03-13  South Dakota    46      9       1          1      3\n",
              "679 2020-03-14  South Dakota    46      9       1          0      3"
            ]
          },
          "metadata": {
            "tags": []
          },
          "execution_count": 19
        }
      ]
    },
    {
      "cell_type": "code",
      "metadata": {
        "id": "RygsmLaZighy",
        "colab": {
          "base_uri": "https://localhost:8080/",
          "height": 424
        },
        "outputId": "521efddf-62f7-4a1d-b410-8339a939f085"
      },
      "source": [
        "sd_df.loc[(sd_df['month'] == 8) |\\\n",
        "          (sd_df['month'] == 9)]"
      ],
      "execution_count": null,
      "outputs": [
        {
          "output_type": "execute_result",
          "data": {
            "text/html": [
              "<div>\n",
              "<style scoped>\n",
              "    .dataframe tbody tr th:only-of-type {\n",
              "        vertical-align: middle;\n",
              "    }\n",
              "\n",
              "    .dataframe tbody tr th {\n",
              "        vertical-align: top;\n",
              "    }\n",
              "\n",
              "    .dataframe thead th {\n",
              "        text-align: right;\n",
              "    }\n",
              "</style>\n",
              "<table border=\"1\" class=\"dataframe\">\n",
              "  <thead>\n",
              "    <tr style=\"text-align: right;\">\n",
              "      <th></th>\n",
              "      <th>date</th>\n",
              "      <th>state</th>\n",
              "      <th>fips</th>\n",
              "      <th>cases</th>\n",
              "      <th>deaths</th>\n",
              "      <th>new_cases</th>\n",
              "      <th>month</th>\n",
              "    </tr>\n",
              "  </thead>\n",
              "  <tbody>\n",
              "    <tr>\n",
              "      <th>8363</th>\n",
              "      <td>2020-08-01</td>\n",
              "      <td>South Dakota</td>\n",
              "      <td>46</td>\n",
              "      <td>8867</td>\n",
              "      <td>134</td>\n",
              "      <td>103</td>\n",
              "      <td>8</td>\n",
              "    </tr>\n",
              "    <tr>\n",
              "      <th>8418</th>\n",
              "      <td>2020-08-02</td>\n",
              "      <td>South Dakota</td>\n",
              "      <td>46</td>\n",
              "      <td>8955</td>\n",
              "      <td>135</td>\n",
              "      <td>88</td>\n",
              "      <td>8</td>\n",
              "    </tr>\n",
              "    <tr>\n",
              "      <th>8473</th>\n",
              "      <td>2020-08-03</td>\n",
              "      <td>South Dakota</td>\n",
              "      <td>46</td>\n",
              "      <td>9020</td>\n",
              "      <td>135</td>\n",
              "      <td>65</td>\n",
              "      <td>8</td>\n",
              "    </tr>\n",
              "    <tr>\n",
              "      <th>8528</th>\n",
              "      <td>2020-08-04</td>\n",
              "      <td>South Dakota</td>\n",
              "      <td>46</td>\n",
              "      <td>9079</td>\n",
              "      <td>136</td>\n",
              "      <td>59</td>\n",
              "      <td>8</td>\n",
              "    </tr>\n",
              "    <tr>\n",
              "      <th>8583</th>\n",
              "      <td>2020-08-05</td>\n",
              "      <td>South Dakota</td>\n",
              "      <td>46</td>\n",
              "      <td>9168</td>\n",
              "      <td>137</td>\n",
              "      <td>89</td>\n",
              "      <td>8</td>\n",
              "    </tr>\n",
              "    <tr>\n",
              "      <th>...</th>\n",
              "      <td>...</td>\n",
              "      <td>...</td>\n",
              "      <td>...</td>\n",
              "      <td>...</td>\n",
              "      <td>...</td>\n",
              "      <td>...</td>\n",
              "      <td>...</td>\n",
              "    </tr>\n",
              "    <tr>\n",
              "      <th>11443</th>\n",
              "      <td>2020-09-26</td>\n",
              "      <td>South Dakota</td>\n",
              "      <td>46</td>\n",
              "      <td>21133</td>\n",
              "      <td>218</td>\n",
              "      <td>579</td>\n",
              "      <td>9</td>\n",
              "    </tr>\n",
              "    <tr>\n",
              "      <th>11498</th>\n",
              "      <td>2020-09-27</td>\n",
              "      <td>South Dakota</td>\n",
              "      <td>46</td>\n",
              "      <td>21541</td>\n",
              "      <td>218</td>\n",
              "      <td>408</td>\n",
              "      <td>9</td>\n",
              "    </tr>\n",
              "    <tr>\n",
              "      <th>11553</th>\n",
              "      <td>2020-09-28</td>\n",
              "      <td>South Dakota</td>\n",
              "      <td>46</td>\n",
              "      <td>21738</td>\n",
              "      <td>218</td>\n",
              "      <td>197</td>\n",
              "      <td>9</td>\n",
              "    </tr>\n",
              "    <tr>\n",
              "      <th>11608</th>\n",
              "      <td>2020-09-29</td>\n",
              "      <td>South Dakota</td>\n",
              "      <td>46</td>\n",
              "      <td>21997</td>\n",
              "      <td>223</td>\n",
              "      <td>259</td>\n",
              "      <td>9</td>\n",
              "    </tr>\n",
              "    <tr>\n",
              "      <th>11663</th>\n",
              "      <td>2020-09-30</td>\n",
              "      <td>South Dakota</td>\n",
              "      <td>46</td>\n",
              "      <td>22389</td>\n",
              "      <td>223</td>\n",
              "      <td>392</td>\n",
              "      <td>9</td>\n",
              "    </tr>\n",
              "  </tbody>\n",
              "</table>\n",
              "<p>61 rows × 7 columns</p>\n",
              "</div>"
            ],
            "text/plain": [
              "            date         state  fips  cases  deaths  new_cases  month\n",
              "8363  2020-08-01  South Dakota    46   8867     134        103      8\n",
              "8418  2020-08-02  South Dakota    46   8955     135         88      8\n",
              "8473  2020-08-03  South Dakota    46   9020     135         65      8\n",
              "8528  2020-08-04  South Dakota    46   9079     136         59      8\n",
              "8583  2020-08-05  South Dakota    46   9168     137         89      8\n",
              "...          ...           ...   ...    ...     ...        ...    ...\n",
              "11443 2020-09-26  South Dakota    46  21133     218        579      9\n",
              "11498 2020-09-27  South Dakota    46  21541     218        408      9\n",
              "11553 2020-09-28  South Dakota    46  21738     218        197      9\n",
              "11608 2020-09-29  South Dakota    46  21997     223        259      9\n",
              "11663 2020-09-30  South Dakota    46  22389     223        392      9\n",
              "\n",
              "[61 rows x 7 columns]"
            ]
          },
          "metadata": {
            "tags": []
          },
          "execution_count": 20
        }
      ]
    },
    {
      "cell_type": "code",
      "metadata": {
        "id": "9L8EdbOvigdw"
      },
      "source": [
        "aug_dec = sd_df.loc[(sd_df['month'] == 8) |\\\n",
        "                    (sd_df['month'] == 12)].reset_index()\n"
      ],
      "execution_count": null,
      "outputs": []
    },
    {
      "cell_type": "code",
      "metadata": {
        "colab": {
          "base_uri": "https://localhost:8080/",
          "height": 342
        },
        "id": "M9JXxBOlgc9G",
        "outputId": "33c6522e-010b-48f3-f20e-2b7ac74d5d90"
      },
      "source": [
        "dates = aug_sep.loc[:, 'date']\n",
        "new_cases = aug_sep.loc[:, 'new_cases']\n",
        "\n",
        "plt.plot(dates, new_cases)\n",
        "plt.title(\"August to September New Cases\")\n",
        "plt.xlabel('Dates')\n",
        "plt.ylabel('New Cases')\n",
        "plt.xticks(rotation=90)\n",
        "plt.grid(axis='x')\n",
        "plt.show()"
      ],
      "execution_count": null,
      "outputs": [
        {
          "output_type": "display_data",
          "data": {
            "image/png": "[encoded data removed]",
            "text/plain": [
              "<Figure size 432x288 with 1 Axes>"
            ]
          },
          "metadata": {
            "tags": [],
            "needs_background": "light"
          }
        }
      ]
    },
    {
      "cell_type": "code",
      "metadata": {
        "colab": {
          "base_uri": "https://localhost:8080/",
          "height": 236
        },
        "id": "lbBtcMIyTwo0",
        "outputId": "28d64f21-d363-4f68-a361-b94df7ab85e8"
      },
      "source": [
        "\n",
        "\n",
        "plt.plot(days, new_cases)\n",
        "plt.title(\"2020 New Cases\")\n",
        "plt.xlabel('Dates')\n",
        "plt.ylabel('New Cases')\n",
        "plt.xticks(rotation=90)\n",
        "plt.grid(axis='x')\n",
        "plt.show()"
      ],
      "execution_count": null,
      "outputs": [
        {
          "output_type": "error",
          "ename": "NameError",
          "evalue": "ignored",
          "traceback": [
            "\u001b[0;31m---------------------------------------------------------------------------\u001b[0m",
            "\u001b[0;31mNameError\u001b[0m                                 Traceback (most recent call last)",
            "\u001b[0;32m<ipython-input-23-b34664c677bc>\u001b[0m in \u001b[0;36m<module>\u001b[0;34m()\u001b[0m\n\u001b[1;32m      1\u001b[0m \u001b[0;34m\u001b[0m\u001b[0m\n\u001b[1;32m      2\u001b[0m \u001b[0;34m\u001b[0m\u001b[0m\n\u001b[0;32m----> 3\u001b[0;31m \u001b[0mplt\u001b[0m\u001b[0;34m.\u001b[0m\u001b[0mplot\u001b[0m\u001b[0;34m(\u001b[0m\u001b[0mdays\u001b[0m\u001b[0;34m,\u001b[0m \u001b[0mnew_cases\u001b[0m\u001b[0;34m)\u001b[0m\u001b[0;34m\u001b[0m\u001b[0;34m\u001b[0m\u001b[0m\n\u001b[0m\u001b[1;32m      4\u001b[0m \u001b[0mplt\u001b[0m\u001b[0;34m.\u001b[0m\u001b[0mtitle\u001b[0m\u001b[0;34m(\u001b[0m\u001b[0;34m\"2020 New Cases\"\u001b[0m\u001b[0;34m)\u001b[0m\u001b[0;34m\u001b[0m\u001b[0;34m\u001b[0m\u001b[0m\n\u001b[1;32m      5\u001b[0m \u001b[0mplt\u001b[0m\u001b[0;34m.\u001b[0m\u001b[0mxlabel\u001b[0m\u001b[0;34m(\u001b[0m\u001b[0;34m'Dates'\u001b[0m\u001b[0;34m)\u001b[0m\u001b[0;34m\u001b[0m\u001b[0;34m\u001b[0m\u001b[0m\n",
            "\u001b[0;31mNameError\u001b[0m: name 'days' is not defined"
          ]
        }
      ]
    },
    {
      "cell_type": "code",
      "metadata": {
        "id": "bM5QEWTmigZy",
        "colab": {
          "base_uri": "https://localhost:8080/",
          "height": 342
        },
        "outputId": "aa1b9c61-fcdc-4d60-dd4e-5242a10087b1"
      },
      "source": [
        "plt.bar(dates, new_cases)\n",
        "plt.title(\"August to September New Cases\")\n",
        "plt.xlabel('Dates')\n",
        "plt.ylabel('New Cases')\n",
        "plt.xticks(rotation=90)\n",
        "plt.show()"
      ],
      "execution_count": null,
      "outputs": [
        {
          "output_type": "display_data",
          "data": {
            "image/png": "[encoded data removed]",
            "text/plain": [
              "<Figure size 432x288 with 1 Axes>"
            ]
          },
          "metadata": {
            "tags": [],
            "needs_background": "light"
          }
        }
      ]
    },
    {
      "cell_type": "code",
      "metadata": {
        "id": "vH7gLR3pigKd",
        "colab": {
          "base_uri": "https://localhost:8080/",
          "height": 294
        },
        "outputId": "1d4138ee-968b-4ca3-a097-38323cfcb3e9"
      },
      "source": [
        "sd_cases = sd_df['cases']\n",
        "sd_deaths = sd_df['deaths']\n",
        "sd_dates = sd_df['date']\n",
        "sd_new_cases = sd_df['new_cases']\n",
        "\n",
        "days = range(len(sd_df.iloc[:, 0])) \n",
        "\n",
        "plt.plot(days, sd_cases)\n",
        "plt.title('South Dakota Covid Total Cases')\n",
        "plt.xlabel('Day   01-03-2020  to  03-05-2021')\n",
        "plt.ylabel('Million Cases')\n",
        "plt.show()\n"
      ],
      "execution_count": null,
      "outputs": [
        {
          "output_type": "display_data",
          "data": {
            "image/png": "[encoded data removed]",
            "text/plain": [
              "<Figure size 432x288 with 1 Axes>"
            ]
          },
          "metadata": {
            "tags": [],
            "needs_background": "light"
          }
        }
      ]
    },
    {
      "cell_type": "code",
      "metadata": {
        "id": "7LYae3Lliw0w",
        "colab": {
          "base_uri": "https://localhost:8080/",
          "height": 294
        },
        "outputId": "7cb05218-bdd5-4fe3-d247-e652876a161b"
      },
      "source": [
        "\n",
        "\n",
        "plt.plot(days, sd_df['deaths'], color='brown')\n",
        "plt.title('South Dakota Covid Total Deaths')\n",
        "plt.xlabel('January 2020 to January 2021')\n",
        "plt.ylabel('Deaths')\n",
        "plt.show()"
      ],
      "execution_count": null,
      "outputs": [
        {
          "output_type": "display_data",
          "data": {
            "image/png": "[encoded data removed]",
            "text/plain": [
              "<Figure size 432x288 with 1 Axes>"
            ]
          },
          "metadata": {
            "tags": [],
            "needs_background": "light"
          }
        }
      ]
    },
    {
      "cell_type": "code",
      "metadata": {
        "id": "6-GbVgtijBkF",
        "colab": {
          "base_uri": "https://localhost:8080/",
          "height": 294
        },
        "outputId": "ddfc40f9-223b-414c-aef1-2d3c1d140e03"
      },
      "source": [
        "plt.plot(days, sd_df['cases'], label='cases')\n",
        "\n",
        "plt.plot(days, sd_df['deaths'], label='deaths')\n",
        "\n",
        "plt.title('South Dakota Covid Total Cases & Deaths')\n",
        "plt.xlabel('Day   01-03-2020  to  03-05-2021')\n",
        "plt.ylabel('Million')\n",
        "plt.legend()\n",
        "\n",
        "plt.show()"
      ],
      "execution_count": null,
      "outputs": [
        {
          "output_type": "display_data",
          "data": {
            "image/png": "[encoded data removed]",
            "text/plain": [
              "<Figure size 432x288 with 1 Axes>"
            ]
          },
          "metadata": {
            "tags": [],
            "needs_background": "light"
          }
        }
      ]
    },
    {
      "cell_type": "code",
      "metadata": {
        "colab": {
          "base_uri": "https://localhost:8080/",
          "height": 206
        },
        "id": "Q00Lg9vNYFeG",
        "outputId": "092baf42-028a-4664-f8b3-55f9cc26185a"
      },
      "source": [
        "sd_df.head()"
      ],
      "execution_count": null,
      "outputs": [
        {
          "output_type": "execute_result",
          "data": {
            "text/html": [
              "<div>\n",
              "<style scoped>\n",
              "    .dataframe tbody tr th:only-of-type {\n",
              "        vertical-align: middle;\n",
              "    }\n",
              "\n",
              "    .dataframe tbody tr th {\n",
              "        vertical-align: top;\n",
              "    }\n",
              "\n",
              "    .dataframe thead th {\n",
              "        text-align: right;\n",
              "    }\n",
              "</style>\n",
              "<table border=\"1\" class=\"dataframe\">\n",
              "  <thead>\n",
              "    <tr style=\"text-align: right;\">\n",
              "      <th></th>\n",
              "      <th>date</th>\n",
              "      <th>state</th>\n",
              "      <th>fips</th>\n",
              "      <th>cases</th>\n",
              "      <th>deaths</th>\n",
              "      <th>new_cases</th>\n",
              "      <th>month</th>\n",
              "    </tr>\n",
              "  </thead>\n",
              "  <tbody>\n",
              "    <tr>\n",
              "      <th>486</th>\n",
              "      <td>2020-03-10</td>\n",
              "      <td>South Dakota</td>\n",
              "      <td>46</td>\n",
              "      <td>5</td>\n",
              "      <td>1</td>\n",
              "      <td>5</td>\n",
              "      <td>3</td>\n",
              "    </tr>\n",
              "    <tr>\n",
              "      <th>530</th>\n",
              "      <td>2020-03-11</td>\n",
              "      <td>South Dakota</td>\n",
              "      <td>46</td>\n",
              "      <td>8</td>\n",
              "      <td>1</td>\n",
              "      <td>3</td>\n",
              "      <td>3</td>\n",
              "    </tr>\n",
              "    <tr>\n",
              "      <th>577</th>\n",
              "      <td>2020-03-12</td>\n",
              "      <td>South Dakota</td>\n",
              "      <td>46</td>\n",
              "      <td>8</td>\n",
              "      <td>1</td>\n",
              "      <td>0</td>\n",
              "      <td>3</td>\n",
              "    </tr>\n",
              "    <tr>\n",
              "      <th>628</th>\n",
              "      <td>2020-03-13</td>\n",
              "      <td>South Dakota</td>\n",
              "      <td>46</td>\n",
              "      <td>9</td>\n",
              "      <td>1</td>\n",
              "      <td>1</td>\n",
              "      <td>3</td>\n",
              "    </tr>\n",
              "    <tr>\n",
              "      <th>679</th>\n",
              "      <td>2020-03-14</td>\n",
              "      <td>South Dakota</td>\n",
              "      <td>46</td>\n",
              "      <td>9</td>\n",
              "      <td>1</td>\n",
              "      <td>0</td>\n",
              "      <td>3</td>\n",
              "    </tr>\n",
              "  </tbody>\n",
              "</table>\n",
              "</div>"
            ],
            "text/plain": [
              "          date         state  fips  cases  deaths  new_cases  month\n",
              "486 2020-03-10  South Dakota    46      5       1          5      3\n",
              "530 2020-03-11  South Dakota    46      8       1          3      3\n",
              "577 2020-03-12  South Dakota    46      8       1          0      3\n",
              "628 2020-03-13  South Dakota    46      9       1          1      3\n",
              "679 2020-03-14  South Dakota    46      9       1          0      3"
            ]
          },
          "metadata": {
            "tags": []
          },
          "execution_count": 28
        }
      ]
    },
    {
      "cell_type": "code",
      "metadata": {
        "id": "dk_JdxaYY0rO"
      },
      "source": [
        "days = range(len(sd_df.iloc[:,0]))"
      ],
      "execution_count": null,
      "outputs": []
    },
    {
      "cell_type": "code",
      "metadata": {
        "id": "FGSusXdFjbvq",
        "colab": {
          "base_uri": "https://localhost:8080/",
          "height": 289
        },
        "outputId": "0a72b109-8053-4455-e41d-685ee64820ed"
      },
      "source": [
        "plt.plot(days, sd_new_cases)\n",
        "plt.title('South Dakota Covid New Cases')\n",
        "plt.xticks(rotation='vertical')\n",
        "plt.ylabel('Cases')\n",
        "plt.show()"
      ],
      "execution_count": null,
      "outputs": [
        {
          "output_type": "display_data",
          "data": {
            "image/png": "[encoded data removed]",
            "text/plain": [
              "<Figure size 432x288 with 1 Axes>"
            ]
          },
          "metadata": {
            "tags": [],
            "needs_background": "light"
          }
        }
      ]
    },
    {
      "cell_type": "code",
      "metadata": {
        "colab": {
          "base_uri": "https://localhost:8080/",
          "height": 289
        },
        "id": "g4VyxNePiAEv",
        "outputId": "87025a57-8829-4f2b-c353-45f096d6888c"
      },
      "source": [
        "plt.plot(days, sd_cases)\n",
        "plt.title('South Dakota Covid Total Cases')\n",
        "plt.xticks(rotation='vertical')\n",
        "plt.ylabel('Total Cases')\n",
        "plt.show()"
      ],
      "execution_count": null,
      "outputs": [
        {
          "output_type": "display_data",
          "data": {
            "image/png": "[encoded data removed]",
            "text/plain": [
              "<Figure size 432x288 with 1 Axes>"
            ]
          },
          "metadata": {
            "tags": [],
            "needs_background": "light"
          }
        }
      ]
    },
    {
      "cell_type": "code",
      "metadata": {
        "colab": {
          "base_uri": "https://localhost:8080/",
          "height": 304
        },
        "id": "kryT9WlbfSQ1",
        "outputId": "2422a598-a44c-4edc-fd00-0038a07e03ab"
      },
      "source": [
        "plt.plot(days, sd_new_cases)\n",
        "plt.title ('New Cases')\n",
        "plt.xlabel('Time')\n",
        "plt.ylabel('Cases')\n",
        "plt.grid(axis='x')\n",
        "plt.xticks(rotation=90)\n",
        "\n",
        "plt.show()"
      ],
      "execution_count": null,
      "outputs": [
        {
          "output_type": "display_data",
          "data": {
            "image/png": "[encoded data removed]",
            "text/plain": [
              "<Figure size 432x288 with 1 Axes>"
            ]
          },
          "metadata": {
            "tags": [],
            "needs_background": "light"
          }
        }
      ]
    },
    {
      "cell_type": "code",
      "metadata": {
        "colab": {
          "base_uri": "https://localhost:8080/",
          "height": 304
        },
        "id": "2zXY7vjEdw0o",
        "outputId": "b8dc4ea2-e77f-423e-973b-39820477caa8"
      },
      "source": [
        "plt.plot(days, sd_deaths)\n",
        "plt.title ('New Cases')\n",
        "plt.xlabel('Time')\n",
        "plt.ylabel('Cases')\n",
        "plt.grid(axis='x')\n",
        "plt.xticks(rotation=90)\n",
        "\n",
        "plt.show()"
      ],
      "execution_count": null,
      "outputs": [
        {
          "output_type": "display_data",
          "data": {
            "image/png": "[encoded data removed]",
            "text/plain": [
              "<Figure size 432x288 with 1 Axes>"
            ]
          },
          "metadata": {
            "tags": [],
            "needs_background": "light"
          }
        }
      ]
    },
    {
      "cell_type": "code",
      "metadata": {
        "id": "rPO_EX3Djbp5",
        "colab": {
          "base_uri": "https://localhost:8080/",
          "height": 206
        },
        "outputId": "6863b208-2ddc-42ee-9b79-ab4054eb7843"
      },
      "source": [
        "sd_df.head()"
      ],
      "execution_count": null,
      "outputs": [
        {
          "output_type": "execute_result",
          "data": {
            "text/html": [
              "<div>\n",
              "<style scoped>\n",
              "    .dataframe tbody tr th:only-of-type {\n",
              "        vertical-align: middle;\n",
              "    }\n",
              "\n",
              "    .dataframe tbody tr th {\n",
              "        vertical-align: top;\n",
              "    }\n",
              "\n",
              "    .dataframe thead th {\n",
              "        text-align: right;\n",
              "    }\n",
              "</style>\n",
              "<table border=\"1\" class=\"dataframe\">\n",
              "  <thead>\n",
              "    <tr style=\"text-align: right;\">\n",
              "      <th></th>\n",
              "      <th>date</th>\n",
              "      <th>state</th>\n",
              "      <th>fips</th>\n",
              "      <th>cases</th>\n",
              "      <th>deaths</th>\n",
              "      <th>new_cases</th>\n",
              "      <th>month</th>\n",
              "    </tr>\n",
              "  </thead>\n",
              "  <tbody>\n",
              "    <tr>\n",
              "      <th>486</th>\n",
              "      <td>2020-03-10</td>\n",
              "      <td>South Dakota</td>\n",
              "      <td>46</td>\n",
              "      <td>5</td>\n",
              "      <td>1</td>\n",
              "      <td>5</td>\n",
              "      <td>3</td>\n",
              "    </tr>\n",
              "    <tr>\n",
              "      <th>530</th>\n",
              "      <td>2020-03-11</td>\n",
              "      <td>South Dakota</td>\n",
              "      <td>46</td>\n",
              "      <td>8</td>\n",
              "      <td>1</td>\n",
              "      <td>3</td>\n",
              "      <td>3</td>\n",
              "    </tr>\n",
              "    <tr>\n",
              "      <th>577</th>\n",
              "      <td>2020-03-12</td>\n",
              "      <td>South Dakota</td>\n",
              "      <td>46</td>\n",
              "      <td>8</td>\n",
              "      <td>1</td>\n",
              "      <td>0</td>\n",
              "      <td>3</td>\n",
              "    </tr>\n",
              "    <tr>\n",
              "      <th>628</th>\n",
              "      <td>2020-03-13</td>\n",
              "      <td>South Dakota</td>\n",
              "      <td>46</td>\n",
              "      <td>9</td>\n",
              "      <td>1</td>\n",
              "      <td>1</td>\n",
              "      <td>3</td>\n",
              "    </tr>\n",
              "    <tr>\n",
              "      <th>679</th>\n",
              "      <td>2020-03-14</td>\n",
              "      <td>South Dakota</td>\n",
              "      <td>46</td>\n",
              "      <td>9</td>\n",
              "      <td>1</td>\n",
              "      <td>0</td>\n",
              "      <td>3</td>\n",
              "    </tr>\n",
              "  </tbody>\n",
              "</table>\n",
              "</div>"
            ],
            "text/plain": [
              "          date         state  fips  cases  deaths  new_cases  month\n",
              "486 2020-03-10  South Dakota    46      5       1          5      3\n",
              "530 2020-03-11  South Dakota    46      8       1          3      3\n",
              "577 2020-03-12  South Dakota    46      8       1          0      3\n",
              "628 2020-03-13  South Dakota    46      9       1          1      3\n",
              "679 2020-03-14  South Dakota    46      9       1          0      3"
            ]
          },
          "metadata": {
            "tags": []
          },
          "execution_count": 46
        }
      ]
    },
    {
      "cell_type": "code",
      "metadata": {
        "colab": {
          "base_uri": "https://localhost:8080/",
          "height": 528
        },
        "id": "env5ZtgZm3fa",
        "outputId": "1a49cd61-7ba2-4c82-8fa1-801ee1c459a9"
      },
      "source": [
        "sd_df['month_year'] = sd_df['date'].dt.to_period('M')\n",
        "sd_df"
      ],
      "execution_count": null,
      "outputs": [
        {
          "output_type": "stream",
          "text": [
            "/usr/local/lib/python3.6/dist-packages/ipykernel_launcher.py:1: SettingWithCopyWarning: \n",
            "A value is trying to be set on a copy of a slice from a DataFrame.\n",
            "Try using .loc[row_indexer,col_indexer] = value instead\n",
            "\n",
            "See the caveats in the documentation: https://pandas.pydata.org/pandas-docs/stable/user_guide/indexing.html#returning-a-view-versus-a-copy\n",
            "  \"\"\"Entry point for launching an IPython kernel.\n"
          ],
          "name": "stderr"
        },
        {
          "output_type": "execute_result",
          "data": {
            "text/html": [
              "<div>\n",
              "<style scoped>\n",
              "    .dataframe tbody tr th:only-of-type {\n",
              "        vertical-align: middle;\n",
              "    }\n",
              "\n",
              "    .dataframe tbody tr th {\n",
              "        vertical-align: top;\n",
              "    }\n",
              "\n",
              "    .dataframe thead th {\n",
              "        text-align: right;\n",
              "    }\n",
              "</style>\n",
              "<table border=\"1\" class=\"dataframe\">\n",
              "  <thead>\n",
              "    <tr style=\"text-align: right;\">\n",
              "      <th></th>\n",
              "      <th>date</th>\n",
              "      <th>state</th>\n",
              "      <th>fips</th>\n",
              "      <th>cases</th>\n",
              "      <th>deaths</th>\n",
              "      <th>new_cases</th>\n",
              "      <th>month</th>\n",
              "      <th>month_year</th>\n",
              "    </tr>\n",
              "  </thead>\n",
              "  <tbody>\n",
              "    <tr>\n",
              "      <th>486</th>\n",
              "      <td>2020-03-10</td>\n",
              "      <td>South Dakota</td>\n",
              "      <td>46</td>\n",
              "      <td>5</td>\n",
              "      <td>1</td>\n",
              "      <td>5</td>\n",
              "      <td>3</td>\n",
              "      <td>2020-03</td>\n",
              "    </tr>\n",
              "    <tr>\n",
              "      <th>530</th>\n",
              "      <td>2020-03-11</td>\n",
              "      <td>South Dakota</td>\n",
              "      <td>46</td>\n",
              "      <td>8</td>\n",
              "      <td>1</td>\n",
              "      <td>3</td>\n",
              "      <td>3</td>\n",
              "      <td>2020-03</td>\n",
              "    </tr>\n",
              "    <tr>\n",
              "      <th>577</th>\n",
              "      <td>2020-03-12</td>\n",
              "      <td>South Dakota</td>\n",
              "      <td>46</td>\n",
              "      <td>8</td>\n",
              "      <td>1</td>\n",
              "      <td>0</td>\n",
              "      <td>3</td>\n",
              "      <td>2020-03</td>\n",
              "    </tr>\n",
              "    <tr>\n",
              "      <th>628</th>\n",
              "      <td>2020-03-13</td>\n",
              "      <td>South Dakota</td>\n",
              "      <td>46</td>\n",
              "      <td>9</td>\n",
              "      <td>1</td>\n",
              "      <td>1</td>\n",
              "      <td>3</td>\n",
              "      <td>2020-03</td>\n",
              "    </tr>\n",
              "    <tr>\n",
              "      <th>679</th>\n",
              "      <td>2020-03-14</td>\n",
              "      <td>South Dakota</td>\n",
              "      <td>46</td>\n",
              "      <td>9</td>\n",
              "      <td>1</td>\n",
              "      <td>0</td>\n",
              "      <td>3</td>\n",
              "      <td>2020-03</td>\n",
              "    </tr>\n",
              "    <tr>\n",
              "      <th>...</th>\n",
              "      <td>...</td>\n",
              "      <td>...</td>\n",
              "      <td>...</td>\n",
              "      <td>...</td>\n",
              "      <td>...</td>\n",
              "      <td>...</td>\n",
              "      <td>...</td>\n",
              "      <td>...</td>\n",
              "    </tr>\n",
              "    <tr>\n",
              "      <th>17328</th>\n",
              "      <td>2021-01-11</td>\n",
              "      <td>South Dakota</td>\n",
              "      <td>46</td>\n",
              "      <td>103499</td>\n",
              "      <td>1585</td>\n",
              "      <td>181</td>\n",
              "      <td>1</td>\n",
              "      <td>2021-01</td>\n",
              "    </tr>\n",
              "    <tr>\n",
              "      <th>17383</th>\n",
              "      <td>2021-01-12</td>\n",
              "      <td>South Dakota</td>\n",
              "      <td>46</td>\n",
              "      <td>103743</td>\n",
              "      <td>1585</td>\n",
              "      <td>244</td>\n",
              "      <td>1</td>\n",
              "      <td>2021-01</td>\n",
              "    </tr>\n",
              "    <tr>\n",
              "      <th>17438</th>\n",
              "      <td>2021-01-13</td>\n",
              "      <td>South Dakota</td>\n",
              "      <td>46</td>\n",
              "      <td>104195</td>\n",
              "      <td>1604</td>\n",
              "      <td>452</td>\n",
              "      <td>1</td>\n",
              "      <td>2021-01</td>\n",
              "    </tr>\n",
              "    <tr>\n",
              "      <th>17493</th>\n",
              "      <td>2021-01-14</td>\n",
              "      <td>South Dakota</td>\n",
              "      <td>46</td>\n",
              "      <td>104512</td>\n",
              "      <td>1614</td>\n",
              "      <td>317</td>\n",
              "      <td>1</td>\n",
              "      <td>2021-01</td>\n",
              "    </tr>\n",
              "    <tr>\n",
              "      <th>17548</th>\n",
              "      <td>2021-01-15</td>\n",
              "      <td>South Dakota</td>\n",
              "      <td>46</td>\n",
              "      <td>104937</td>\n",
              "      <td>1629</td>\n",
              "      <td>425</td>\n",
              "      <td>1</td>\n",
              "      <td>2021-01</td>\n",
              "    </tr>\n",
              "  </tbody>\n",
              "</table>\n",
              "<p>312 rows × 8 columns</p>\n",
              "</div>"
            ],
            "text/plain": [
              "            date         state  fips  ...  new_cases  month  month_year\n",
              "486   2020-03-10  South Dakota    46  ...          5      3     2020-03\n",
              "530   2020-03-11  South Dakota    46  ...          3      3     2020-03\n",
              "577   2020-03-12  South Dakota    46  ...          0      3     2020-03\n",
              "628   2020-03-13  South Dakota    46  ...          1      3     2020-03\n",
              "679   2020-03-14  South Dakota    46  ...          0      3     2020-03\n",
              "...          ...           ...   ...  ...        ...    ...         ...\n",
              "17328 2021-01-11  South Dakota    46  ...        181      1     2021-01\n",
              "17383 2021-01-12  South Dakota    46  ...        244      1     2021-01\n",
              "17438 2021-01-13  South Dakota    46  ...        452      1     2021-01\n",
              "17493 2021-01-14  South Dakota    46  ...        317      1     2021-01\n",
              "17548 2021-01-15  South Dakota    46  ...        425      1     2021-01\n",
              "\n",
              "[312 rows x 8 columns]"
            ]
          },
          "metadata": {
            "tags": []
          },
          "execution_count": 47
        }
      ]
    },
    {
      "cell_type": "code",
      "metadata": {
        "colab": {
          "base_uri": "https://localhost:8080/",
          "height": 394
        },
        "id": "G8xF_Md7m_e1",
        "outputId": "2464103e-40e4-4a19-d7b6-c6fcd2a2ed17"
      },
      "source": [
        "sd_df.groupby('month_year')['new_cases'].sum().reset_index()"
      ],
      "execution_count": null,
      "outputs": [
        {
          "output_type": "execute_result",
          "data": {
            "text/html": [
              "<div>\n",
              "<style scoped>\n",
              "    .dataframe tbody tr th:only-of-type {\n",
              "        vertical-align: middle;\n",
              "    }\n",
              "\n",
              "    .dataframe tbody tr th {\n",
              "        vertical-align: top;\n",
              "    }\n",
              "\n",
              "    .dataframe thead th {\n",
              "        text-align: right;\n",
              "    }\n",
              "</style>\n",
              "<table border=\"1\" class=\"dataframe\">\n",
              "  <thead>\n",
              "    <tr style=\"text-align: right;\">\n",
              "      <th></th>\n",
              "      <th>month_year</th>\n",
              "      <th>new_cases</th>\n",
              "    </tr>\n",
              "  </thead>\n",
              "  <tbody>\n",
              "    <tr>\n",
              "      <th>0</th>\n",
              "      <td>2020-03</td>\n",
              "      <td>107</td>\n",
              "    </tr>\n",
              "    <tr>\n",
              "      <th>1</th>\n",
              "      <td>2020-04</td>\n",
              "      <td>2343</td>\n",
              "    </tr>\n",
              "    <tr>\n",
              "      <th>2</th>\n",
              "      <td>2020-05</td>\n",
              "      <td>2543</td>\n",
              "    </tr>\n",
              "    <tr>\n",
              "      <th>3</th>\n",
              "      <td>2020-06</td>\n",
              "      <td>1771</td>\n",
              "    </tr>\n",
              "    <tr>\n",
              "      <th>4</th>\n",
              "      <td>2020-07</td>\n",
              "      <td>2000</td>\n",
              "    </tr>\n",
              "    <tr>\n",
              "      <th>5</th>\n",
              "      <td>2020-08</td>\n",
              "      <td>4745</td>\n",
              "    </tr>\n",
              "    <tr>\n",
              "      <th>6</th>\n",
              "      <td>2020-09</td>\n",
              "      <td>8880</td>\n",
              "    </tr>\n",
              "    <tr>\n",
              "      <th>7</th>\n",
              "      <td>2020-10</td>\n",
              "      <td>23603</td>\n",
              "    </tr>\n",
              "    <tr>\n",
              "      <th>8</th>\n",
              "      <td>2020-11</td>\n",
              "      <td>34472</td>\n",
              "    </tr>\n",
              "    <tr>\n",
              "      <th>9</th>\n",
              "      <td>2020-12</td>\n",
              "      <td>18700</td>\n",
              "    </tr>\n",
              "    <tr>\n",
              "      <th>10</th>\n",
              "      <td>2021-01</td>\n",
              "      <td>5773</td>\n",
              "    </tr>\n",
              "  </tbody>\n",
              "</table>\n",
              "</div>"
            ],
            "text/plain": [
              "   month_year  new_cases\n",
              "0     2020-03        107\n",
              "1     2020-04       2343\n",
              "2     2020-05       2543\n",
              "3     2020-06       1771\n",
              "4     2020-07       2000\n",
              "5     2020-08       4745\n",
              "6     2020-09       8880\n",
              "7     2020-10      23603\n",
              "8     2020-11      34472\n",
              "9     2020-12      18700\n",
              "10    2021-01       5773"
            ]
          },
          "metadata": {
            "tags": []
          },
          "execution_count": 48
        }
      ]
    },
    {
      "cell_type": "code",
      "metadata": {
        "colab": {
          "base_uri": "https://localhost:8080/",
          "height": 326
        },
        "id": "AWAzAD8nnum0",
        "outputId": "3958cf6a-c7c1-47f5-e95f-cc7a9c4308bc"
      },
      "source": [
        "sum_months = sd_df.groupby('month_year')['new_cases'].sum().reset_index()\n",
        "\n",
        "sum_months.drop(index=10, inplace=True)\n",
        "\n",
        "months = sum_months.loc[:, 'month_year'].dt.strftime('%Y-%m')\n",
        "cases = sum_months.loc[:, 'new_cases']\n",
        "\n",
        "plt.bar(months, cases)\n",
        "plt.title(\"Total New Cases by Month\")\n",
        "plt.xlabel('Month')\n",
        "plt.ylabel('Total New Cases')\n",
        "plt.xticks(rotation=90)\n",
        "plt.show()"
      ],
      "execution_count": null,
      "outputs": [
        {
          "output_type": "display_data",
          "data": {
            "image/png": "[encoded data removed]",
            "text/plain": [
              "<Figure size 432x288 with 1 Axes>"
            ]
          },
          "metadata": {
            "tags": [],
            "needs_background": "light"
          }
        }
      ]
    },
    {
      "cell_type": "code",
      "metadata": {
        "colab": {
          "base_uri": "https://localhost:8080/",
          "height": 326
        },
        "id": "h-G9QfWSphCb",
        "outputId": "045c1d3e-1786-43d0-fe33-178a904faec0"
      },
      "source": [
        "mean_months = sd_df.groupby('month_year')['new_cases'].mean().reset_index()\n",
        "\n",
        "mean_months.drop(index=10, inplace=True)\n",
        "\n",
        "months = mean_months.loc[:, 'month_year'].dt.strftime('%Y-%m')\n",
        "cases = mean_months.loc[:, 'new_cases']\n",
        "\n",
        "plt.bar(months, cases)\n",
        "plt.title(\"Daily Averge New Cases by Month\")\n",
        "plt.xlabel('Month')\n",
        "plt.ylabel('Averge New Cases')\n",
        "plt.xticks(rotation=90)\n",
        "plt.show()"
      ],
      "execution_count": null,
      "outputs": [
        {
          "output_type": "display_data",
          "data": {
            "image/png": "[encoded data removed]",
            "text/plain": [
              "<Figure size 432x288 with 1 Axes>"
            ]
          },
          "metadata": {
            "tags": [],
            "needs_background": "light"
          }
        }
      ]
    },
    {
      "cell_type": "code",
      "metadata": {
        "id": "KLX4UrEwigAZ",
        "colab": {
          "base_uri": "https://localhost:8080/",
          "height": 385
        },
        "outputId": "7975ba12-ceff-4839-a3cb-1bb775927350"
      },
      "source": [
        "import seaborn as sns\n",
        "\n",
        "sns.displot(sd_deaths, kde=True)\\\n",
        ".set(title='Daily New Cases Distribution')\n",
        "plt.show()"
      ],
      "execution_count": null,
      "outputs": [
        {
          "output_type": "display_data",
          "data": {
            "image/png": "[encoded data removed]",
            "text/plain": [
              "<Figure size 360x360 with 1 Axes>"
            ]
          },
          "metadata": {
            "tags": [],
            "needs_background": "light"
          }
        }
      ]
    },
    {
      "cell_type": "markdown",
      "metadata": {
        "id": "fxvmzv85bU9i"
      },
      "source": [
        "# Last 30 Days"
      ]
    },
    {
      "cell_type": "code",
      "metadata": {
        "id": "0J3Txdorbchc"
      },
      "source": [
        "sd_cases_30 = sd_df['cases'][-31:-1]\n",
        "sd_deaths_30 = sd_df['deaths'] [-31:-1]\n",
        "sd_dates_30 = sd_df['date'][-31:-1]\n",
        "sd_new_cases_30 = sd_df['new_cases'][-31:-1]"
      ],
      "execution_count": null,
      "outputs": []
    },
    {
      "cell_type": "code",
      "metadata": {
        "id": "0pj1ebo2aaS0",
        "colab": {
          "base_uri": "https://localhost:8080/",
          "height": 492
        },
        "outputId": "aa05732c-7fc5-426c-eec7-47ed3d188bac"
      },
      "source": [
        "plt.figure(figsize=(15,7))\n",
        "plt.bar(x=sd_dates_30, height=sd_new_cases_30, color='red')\n",
        "plt.xticks(rotation=90)\n",
        "plt.title('New Cases: Last 30 Days')\n",
        "\n",
        "plt.ylabel('New Cases')\n",
        "plt.show()"
      ],
      "execution_count": null,
      "outputs": [
        {
          "output_type": "display_data",
          "data": {
            "image/png": "[encoded data removed]",
            "text/plain": [
              "<Figure size 1080x504 with 1 Axes>"
            ]
          },
          "metadata": {
            "tags": [],
            "needs_background": "light"
          }
        }
      ]
    },
    {
      "cell_type": "code",
      "metadata": {
        "id": "Zfs3xGK4aaQT",
        "colab": {
          "base_uri": "https://localhost:8080/",
          "height": 492
        },
        "outputId": "cdfd839a-024c-422c-f344-aed45b394440"
      },
      "source": [
        "plt.figure(figsize=(15,7))\n",
        "plt.bar(x=sd_dates_30, height=sd_deaths_30, color='blue')\n",
        "plt.xticks(rotation=90)\n",
        "plt.title('Rise of Total Deaths: Last 30 Days')\n",
        "\n",
        "plt.ylabel('Deaths')\n",
        "plt.show()"
      ],
      "execution_count": null,
      "outputs": [
        {
          "output_type": "display_data",
          "data": {
            "image/png": "[encoded data removed]",
            "text/plain": [
              "<Figure size 1080x504 with 1 Axes>"
            ]
          },
          "metadata": {
            "tags": [],
            "needs_background": "light"
          }
        }
      ]
    },
    {
      "cell_type": "markdown",
      "metadata": {
        "id": "sNCwb1XPa4YF"
      },
      "source": [
        "# Comparing with different States\n"
      ]
    },
    {
      "cell_type": "code",
      "metadata": {
        "id": "IRQ1vJhaaaNR"
      },
      "source": [
        "states = ['Minnesota', 'North Dakota','Oklahoma', 'South Dakota', 'Wyoming']"
      ],
      "execution_count": null,
      "outputs": []
    },
    {
      "cell_type": "code",
      "metadata": {
        "id": "wMyriOccaaIB",
        "colab": {
          "base_uri": "https://localhost:8080/",
          "height": 476
        },
        "outputId": "ba29113a-2715-4e26-cab6-e065702fc1d3"
      },
      "source": [
        "plt.figure(figsize=(15,7))\n",
        "for state in states:\n",
        "  df_st = df[(df['state']==state) & (df['date']>='2020-08-07') & (df['date']<'2020-09-30')]\n",
        "  plt.plot(df_st['date'],\n",
        "           df_st['cases'],\n",
        "           linewidth=2\n",
        "           )\n",
        "  plt.xticks(rotation=90)\n",
        "plt.legend(states)\n",
        "plt.show()\n"
      ],
      "execution_count": null,
      "outputs": [
        {
          "output_type": "display_data",
          "data": {
            "image/png": "[encoded data removed]",
            "text/plain": [
              "<Figure size 1080x504 with 1 Axes>"
            ]
          },
          "metadata": {
            "tags": [],
            "needs_background": "light"
          }
        }
      ]
    },
    {
      "cell_type": "code",
      "metadata": {
        "id": "oECpPqSM3MWc"
      },
      "source": [
        ""
      ],
      "execution_count": null,
      "outputs": []
    },
    {
      "cell_type": "markdown",
      "metadata": {
        "id": "pgtQ4JXhsBpD"
      },
      "source": [
        "## Conclusions: \n",
        "- South dakota's total COVID cases began to spike around September, which suggests a super spreeader event occurred in the summer that caused an increase in infections. \n",
        "\n",
        "- Spikes around the holidays may be due to tracel and family gatherings. Colder weather forces people insode where COVID is more likely to spread \n",
        "\n",
        "- South Dakota hits its worst point in the pandemic in November, with the highest number of total new cases and the highest dailt average new cases. \n",
        "\n",
        "- South Dakota, less densely populated, has had fewer cases than Florida, New York and Arizona.\n",
        "\n",
        "- South Dakota does not have a state-wide mask mandate. Therefore, while it may look like there is a decline in the last 30 days, compared to the last four months, with a highly contagious new strain identified in the US, there is a likely chance of cases rising again. "
      ]
    }
  ]
}
