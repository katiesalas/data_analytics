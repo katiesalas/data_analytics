{
  "nbformat": 4,
  "nbformat_minor": 0,
  "metadata": {
    "colab": {
      "name": "Copy of Unit2_Mini_Project.ipynb",
      "provenance": [],
      "collapsed_sections": [],
      "toc_visible": true,
      "include_colab_link": true
    },
    "kernelspec": {
      "name": "python3",
      "display_name": "Python 3"
    }
  },
  "cells": [
    {
      "cell_type": "markdown",
      "metadata": {
        "id": "view-in-github",
        "colab_type": "text"
      },
      "source": [
        "<a href=\"https://colab.research.google.com/github/katiesalas/data_analytics_2/blob/main/Copy_of_Unit2_Mini_Project.ipynb\" target=\"_parent\"><img src=\"https://colab.research.google.com/assets/colab-badge.svg\" alt=\"Open In Colab\"/></a>"
      ]
    },
    {
      "cell_type": "markdown",
      "metadata": {
        "id": "Vgs8Kp4TidFQ"
      },
      "source": [
        "# Intrdouction to Python - Mini Project"
      ]
    },
    {
      "cell_type": "markdown",
      "metadata": {
        "id": "_Hq7Ny79iwgD"
      },
      "source": [
        "#Python Project – Odd or Even\r\n",
        "\r\n",
        "Ask the user for a number. Depending on whether the number is even or odd, print out an appropriate message to the user. Hint: how does an even / odd number react differently when divided by 2?\r\n"
      ]
    },
    {
      "cell_type": "code",
      "metadata": {
        "id": "lotvpVpvlKsR",
        "colab": {
          "base_uri": "https://localhost:8080/"
        },
        "outputId": "357a5638-8093-408a-9226-ec5453fe49af"
      },
      "source": [
        "num = input(\"Enter any positive whole number: \")\n",
        "if int(num) % 2 == 0:\n",
        "  print (\"Your number is even!\")\n",
        "else:\n",
        "  print (\"Your number is odd!\")"
      ],
      "execution_count": null,
      "outputs": [
        {
          "output_type": "stream",
          "text": [
            "Enter any positive whole number: 45\n",
            "Your number is odd!\n"
          ],
          "name": "stdout"
        }
      ]
    },
    {
      "cell_type": "markdown",
      "metadata": {
        "id": "io_27RSlizno"
      },
      "source": [
        "# Bonus:\r\n",
        "\r\n",
        "1.\tIf the number is a multiple of 4, print out a different message.\r\n",
        "\r\n",
        "2.\tAsk the user for two numbers: one number to check (call it num) and one number to divide by (check). If check divides evenly into num, tell that to the user. If not, print a different appropriate message.\r\n"
      ]
    },
    {
      "cell_type": "code",
      "metadata": {
        "id": "vs8ppR-wlSKL",
        "colab": {
          "base_uri": "https://localhost:8080/"
        },
        "outputId": "24c11ea9-8ef7-480c-ca6f-1e5d142578d2"
      },
      "source": [
        "num = input(\"Enter any positive whole number: \")\n",
        "if int(num)%2 == 0:\n",
        "  print (\"Your number is even!\")\n",
        "  if int(num)%4 == 0:\n",
        "    print (\"Your number is divisible 4!\")\n",
        "else:\n",
        "  print (\"Your number is odd!\")"
      ],
      "execution_count": null,
      "outputs": [
        {
          "output_type": "stream",
          "text": [
            "Enter any positive whole number: 40\n",
            "Your number is even!\n",
            "Your number is divisible 4!\n"
          ],
          "name": "stdout"
        }
      ]
    },
    {
      "cell_type": "code",
      "metadata": {
        "id": "Dh1o5cAylSHB",
        "colab": {
          "base_uri": "https://localhost:8080/"
        },
        "outputId": "d839cc8f-5a1e-4558-b350-371da16efb6a"
      },
      "source": [
        "num = input(\"Pick any number: \")\n",
        "check = input(\"Now, please pick another number: \")\n",
        "if (int(num)/int(check)).is_integer():\n",
        "  print (\"Your numbers divide evenly!!\")\n",
        "else:\n",
        "  print (\"Your numbers do not divide evenly.\")"
      ],
      "execution_count": null,
      "outputs": [
        {
          "output_type": "stream",
          "text": [
            "Pick any number: 45\n",
            "Now, please pick another number: 5\n",
            "Your numbers divide evenly!!\n"
          ],
          "name": "stdout"
        }
      ]
    }
  ]
}
