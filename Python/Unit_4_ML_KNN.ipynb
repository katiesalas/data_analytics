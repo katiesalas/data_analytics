{
  "nbformat": 4,
  "nbformat_minor": 0,
  "metadata": {
    "colab": {
      "name": "Unit 4 - ML - KNN.ipynb",
      "provenance": [],
      "collapsed_sections": [],
      "include_colab_link": true
    },
    "kernelspec": {
      "name": "python3",
      "display_name": "Python 3"
    }
  },
  "cells": [
    {
      "cell_type": "markdown",
      "metadata": {
        "id": "view-in-github",
        "colab_type": "text"
      },
      "source": [
        "<a href=\"https://colab.research.google.com/github/katiesalas/data_analytics_2/blob/main/Unit_4_ML_KNN.ipynb\" target=\"_parent\"><img src=\"https://colab.research.google.com/assets/colab-badge.svg\" alt=\"Open In Colab\"/></a>"
      ]
    },
    {
      "cell_type": "markdown",
      "metadata": {
        "id": "2eh_LJlVCY0p"
      },
      "source": [
        "#KNN algorithm\n",
        "\n",
        "1. Pick a value for K.\n",
        "2. Search for the K observations in the training data that are \"nearest\" to the measurements of the unknown iris.\n",
        "3. Use the most popular response value from the K nearest neighbors as the   predicted response value for the unknown value.\n",
        "hOW KNN works?\n",
        "How we will classify an unknown fruit classifyes as a specific fruit?\n",
        "We will compare its characteristic with \n",
        "\n"
      ]
    },
    {
      "cell_type": "markdown",
      "metadata": {
        "id": "3cisB3_9xcLl"
      },
      "source": [
        "# KNN classifier"
      ]
    },
    {
      "cell_type": "markdown",
      "metadata": {
        "id": "u3k204il9-Aq"
      },
      "source": [
        "### Suppose we’ve been given a classified data set from a company! They’ve hidden the feature column names but have given you the data and the target classes. We’ll try to use KNN to create a model that directly predicts a class for a new data point based off of the features. Let’s grab it and use it.\n",
        "## Machine learning terminology\n",
        "- Each row is an **observation** (also known as: sample, example, instance, record) we will designate it with  y\n",
        "- Each column is a **feature** (also known as: predictor, attribute, independent variable, input, regressor, covariate) we will designate it as an X ,capital X (designating matrix)"
      ]
    },
    {
      "cell_type": "markdown",
      "metadata": {
        "id": "LB9ZxEBExihH"
      },
      "source": [
        "# Tasks:\r\n",
        "\r\n",
        "\r\n",
        "\r\n",
        "1.   Every step must have an explanation\r\n",
        "2.   Every plot/ chart must have an iterpretation\r\n",
        "3.   Add your observations for each section\r\n",
        "4.   Draw clear conclusions (at least 5 conclusions)"
      ]
    },
    {
      "cell_type": "code",
      "metadata": {
        "id": "mfDQuZMXxSIm"
      },
      "source": [
        "#imports most used analysis and visualization libraries "
      ],
      "execution_count": null,
      "outputs": []
    },
    {
      "cell_type": "code",
      "metadata": {
        "id": "2VctUvQHxYnp"
      },
      "source": [
        "import numpy as np\r\n",
        "import pandas as pd\r\n",
        "import seaborn as sns\r\n",
        "%matplotlib inline\r\n",
        "import matplotlib.pyplot as plt"
      ],
      "execution_count": null,
      "outputs": []
    },
    {
      "cell_type": "markdown",
      "metadata": {
        "id": "4m2DsVjDpo4J"
      },
      "source": [
        "read the data set or load it if it is encapsulated in SIlearn \n",
        "df = pd.read_csv('https...') or\n",
        "import load_iris function from datasets module\n",
        "scikit-learn comes with a few small standard datasets that do not require to download any file from some external website.some of them are:\n",
        "load_boston()\tLoad and return the boston house-prices dataset (regression).\n",
        "load_iris()\tLoad and return the iris dataset (classification).\n",
        "load_diabetes()\tLoad and return the diabetes dataset (regression)."
      ]
    },
    {
      "cell_type": "code",
      "metadata": {
        "id": "rWNi5GYo6hsl"
      },
      "source": [
        "#below we import the data to analyze and assign it a name that makes it easier to call upon, for this example we use df, which = data frame"
      ],
      "execution_count": null,
      "outputs": []
    },
    {
      "cell_type": "code",
      "metadata": {
        "id": "xCPl7IkByASb"
      },
      "source": [
        "df = pd.read_csv('https://raw.githubusercontent.com/CunyLaguardiaDataAnalytics/datasets/master/Classified%20Data')"
      ],
      "execution_count": null,
      "outputs": []
    },
    {
      "cell_type": "code",
      "metadata": {
        "colab": {
          "base_uri": "https://localhost:8080/",
          "height": 221
        },
        "id": "6HITHzn4yJqm",
        "outputId": "5e00036f-7fb1-4861-dfdd-0d4742a7be34"
      },
      "source": [
        "df.head()   #prints the first 5 elements of the data set, tail is the last 5"
      ],
      "execution_count": null,
      "outputs": [
        {
          "output_type": "execute_result",
          "data": {
            "text/html": [
              "<div>\n",
              "<style scoped>\n",
              "    .dataframe tbody tr th:only-of-type {\n",
              "        vertical-align: middle;\n",
              "    }\n",
              "\n",
              "    .dataframe tbody tr th {\n",
              "        vertical-align: top;\n",
              "    }\n",
              "\n",
              "    .dataframe thead th {\n",
              "        text-align: right;\n",
              "    }\n",
              "</style>\n",
              "<table border=\"1\" class=\"dataframe\">\n",
              "  <thead>\n",
              "    <tr style=\"text-align: right;\">\n",
              "      <th></th>\n",
              "      <th>Unnamed: 0</th>\n",
              "      <th>WTT</th>\n",
              "      <th>PTI</th>\n",
              "      <th>EQW</th>\n",
              "      <th>SBI</th>\n",
              "      <th>LQE</th>\n",
              "      <th>QWG</th>\n",
              "      <th>FDJ</th>\n",
              "      <th>PJF</th>\n",
              "      <th>HQE</th>\n",
              "      <th>NXJ</th>\n",
              "      <th>TARGET CLASS</th>\n",
              "    </tr>\n",
              "  </thead>\n",
              "  <tbody>\n",
              "    <tr>\n",
              "      <th>0</th>\n",
              "      <td>0</td>\n",
              "      <td>0.913917</td>\n",
              "      <td>1.162073</td>\n",
              "      <td>0.567946</td>\n",
              "      <td>0.755464</td>\n",
              "      <td>0.780862</td>\n",
              "      <td>0.352608</td>\n",
              "      <td>0.759697</td>\n",
              "      <td>0.643798</td>\n",
              "      <td>0.879422</td>\n",
              "      <td>1.231409</td>\n",
              "      <td>1</td>\n",
              "    </tr>\n",
              "    <tr>\n",
              "      <th>1</th>\n",
              "      <td>1</td>\n",
              "      <td>0.635632</td>\n",
              "      <td>1.003722</td>\n",
              "      <td>0.535342</td>\n",
              "      <td>0.825645</td>\n",
              "      <td>0.924109</td>\n",
              "      <td>0.648450</td>\n",
              "      <td>0.675334</td>\n",
              "      <td>1.013546</td>\n",
              "      <td>0.621552</td>\n",
              "      <td>1.492702</td>\n",
              "      <td>0</td>\n",
              "    </tr>\n",
              "    <tr>\n",
              "      <th>2</th>\n",
              "      <td>2</td>\n",
              "      <td>0.721360</td>\n",
              "      <td>1.201493</td>\n",
              "      <td>0.921990</td>\n",
              "      <td>0.855595</td>\n",
              "      <td>1.526629</td>\n",
              "      <td>0.720781</td>\n",
              "      <td>1.626351</td>\n",
              "      <td>1.154483</td>\n",
              "      <td>0.957877</td>\n",
              "      <td>1.285597</td>\n",
              "      <td>0</td>\n",
              "    </tr>\n",
              "    <tr>\n",
              "      <th>3</th>\n",
              "      <td>3</td>\n",
              "      <td>1.234204</td>\n",
              "      <td>1.386726</td>\n",
              "      <td>0.653046</td>\n",
              "      <td>0.825624</td>\n",
              "      <td>1.142504</td>\n",
              "      <td>0.875128</td>\n",
              "      <td>1.409708</td>\n",
              "      <td>1.380003</td>\n",
              "      <td>1.522692</td>\n",
              "      <td>1.153093</td>\n",
              "      <td>1</td>\n",
              "    </tr>\n",
              "    <tr>\n",
              "      <th>4</th>\n",
              "      <td>4</td>\n",
              "      <td>1.279491</td>\n",
              "      <td>0.949750</td>\n",
              "      <td>0.627280</td>\n",
              "      <td>0.668976</td>\n",
              "      <td>1.232537</td>\n",
              "      <td>0.703727</td>\n",
              "      <td>1.115596</td>\n",
              "      <td>0.646691</td>\n",
              "      <td>1.463812</td>\n",
              "      <td>1.419167</td>\n",
              "      <td>1</td>\n",
              "    </tr>\n",
              "  </tbody>\n",
              "</table>\n",
              "</div>"
            ],
            "text/plain": [
              "   Unnamed: 0       WTT       PTI  ...       HQE       NXJ  TARGET CLASS\n",
              "0           0  0.913917  1.162073  ...  0.879422  1.231409             1\n",
              "1           1  0.635632  1.003722  ...  0.621552  1.492702             0\n",
              "2           2  0.721360  1.201493  ...  0.957877  1.285597             0\n",
              "3           3  1.234204  1.386726  ...  1.522692  1.153093             1\n",
              "4           4  1.279491  0.949750  ...  1.463812  1.419167             1\n",
              "\n",
              "[5 rows x 12 columns]"
            ]
          },
          "metadata": {
            "tags": []
          },
          "execution_count": 96
        }
      ]
    },
    {
      "cell_type": "code",
      "metadata": {
        "colab": {
          "base_uri": "https://localhost:8080/"
        },
        "id": "pYyXJJjJyJ2L",
        "outputId": "c9088fee-04ae-44e6-e4c8-c764116dd49b"
      },
      "source": [
        " df.columns    #displays the column names and type"
      ],
      "execution_count": null,
      "outputs": [
        {
          "output_type": "execute_result",
          "data": {
            "text/plain": [
              "Index(['Unnamed: 0', 'WTT', 'PTI', 'EQW', 'SBI', 'LQE', 'QWG', 'FDJ', 'PJF',\n",
              "       'HQE', 'NXJ', 'TARGET CLASS'],\n",
              "      dtype='object')"
            ]
          },
          "metadata": {
            "tags": []
          },
          "execution_count": 97
        }
      ]
    },
    {
      "cell_type": "code",
      "metadata": {
        "id": "sO6ghyxUytHm"
      },
      "source": [
        "df.drop(['Unnamed: 0'], axis=1, inplace=True)  #drops column = .drop, we see that the unnamed column is superfluous\n",
        "#inplace = True , the data is modified in place, which means it will return nothing and the dataframe is now updated.\n",
        "#when inplace = False , which is the default, then the operation is performed and it returns a copy of the object. \n",
        "#you then need to save it to something."
      ],
      "execution_count": null,
      "outputs": []
    },
    {
      "cell_type": "code",
      "metadata": {
        "colab": {
          "base_uri": "https://localhost:8080/",
          "height": 221
        },
        "id": "KTt6Wl_WytKo",
        "outputId": "904bd208-ac84-490e-9def-bebe5c6e7fb8"
      },
      "source": [
        "df.head()   #displays first 5 rows, this time without the dropped column"
      ],
      "execution_count": null,
      "outputs": [
        {
          "output_type": "execute_result",
          "data": {
            "text/html": [
              "<div>\n",
              "<style scoped>\n",
              "    .dataframe tbody tr th:only-of-type {\n",
              "        vertical-align: middle;\n",
              "    }\n",
              "\n",
              "    .dataframe tbody tr th {\n",
              "        vertical-align: top;\n",
              "    }\n",
              "\n",
              "    .dataframe thead th {\n",
              "        text-align: right;\n",
              "    }\n",
              "</style>\n",
              "<table border=\"1\" class=\"dataframe\">\n",
              "  <thead>\n",
              "    <tr style=\"text-align: right;\">\n",
              "      <th></th>\n",
              "      <th>WTT</th>\n",
              "      <th>PTI</th>\n",
              "      <th>EQW</th>\n",
              "      <th>SBI</th>\n",
              "      <th>LQE</th>\n",
              "      <th>QWG</th>\n",
              "      <th>FDJ</th>\n",
              "      <th>PJF</th>\n",
              "      <th>HQE</th>\n",
              "      <th>NXJ</th>\n",
              "      <th>TARGET CLASS</th>\n",
              "    </tr>\n",
              "  </thead>\n",
              "  <tbody>\n",
              "    <tr>\n",
              "      <th>0</th>\n",
              "      <td>0.913917</td>\n",
              "      <td>1.162073</td>\n",
              "      <td>0.567946</td>\n",
              "      <td>0.755464</td>\n",
              "      <td>0.780862</td>\n",
              "      <td>0.352608</td>\n",
              "      <td>0.759697</td>\n",
              "      <td>0.643798</td>\n",
              "      <td>0.879422</td>\n",
              "      <td>1.231409</td>\n",
              "      <td>1</td>\n",
              "    </tr>\n",
              "    <tr>\n",
              "      <th>1</th>\n",
              "      <td>0.635632</td>\n",
              "      <td>1.003722</td>\n",
              "      <td>0.535342</td>\n",
              "      <td>0.825645</td>\n",
              "      <td>0.924109</td>\n",
              "      <td>0.648450</td>\n",
              "      <td>0.675334</td>\n",
              "      <td>1.013546</td>\n",
              "      <td>0.621552</td>\n",
              "      <td>1.492702</td>\n",
              "      <td>0</td>\n",
              "    </tr>\n",
              "    <tr>\n",
              "      <th>2</th>\n",
              "      <td>0.721360</td>\n",
              "      <td>1.201493</td>\n",
              "      <td>0.921990</td>\n",
              "      <td>0.855595</td>\n",
              "      <td>1.526629</td>\n",
              "      <td>0.720781</td>\n",
              "      <td>1.626351</td>\n",
              "      <td>1.154483</td>\n",
              "      <td>0.957877</td>\n",
              "      <td>1.285597</td>\n",
              "      <td>0</td>\n",
              "    </tr>\n",
              "    <tr>\n",
              "      <th>3</th>\n",
              "      <td>1.234204</td>\n",
              "      <td>1.386726</td>\n",
              "      <td>0.653046</td>\n",
              "      <td>0.825624</td>\n",
              "      <td>1.142504</td>\n",
              "      <td>0.875128</td>\n",
              "      <td>1.409708</td>\n",
              "      <td>1.380003</td>\n",
              "      <td>1.522692</td>\n",
              "      <td>1.153093</td>\n",
              "      <td>1</td>\n",
              "    </tr>\n",
              "    <tr>\n",
              "      <th>4</th>\n",
              "      <td>1.279491</td>\n",
              "      <td>0.949750</td>\n",
              "      <td>0.627280</td>\n",
              "      <td>0.668976</td>\n",
              "      <td>1.232537</td>\n",
              "      <td>0.703727</td>\n",
              "      <td>1.115596</td>\n",
              "      <td>0.646691</td>\n",
              "      <td>1.463812</td>\n",
              "      <td>1.419167</td>\n",
              "      <td>1</td>\n",
              "    </tr>\n",
              "  </tbody>\n",
              "</table>\n",
              "</div>"
            ],
            "text/plain": [
              "        WTT       PTI       EQW  ...       HQE       NXJ  TARGET CLASS\n",
              "0  0.913917  1.162073  0.567946  ...  0.879422  1.231409             1\n",
              "1  0.635632  1.003722  0.535342  ...  0.621552  1.492702             0\n",
              "2  0.721360  1.201493  0.921990  ...  0.957877  1.285597             0\n",
              "3  1.234204  1.386726  0.653046  ...  1.522692  1.153093             1\n",
              "4  1.279491  0.949750  0.627280  ...  1.463812  1.419167             1\n",
              "\n",
              "[5 rows x 11 columns]"
            ]
          },
          "metadata": {
            "tags": []
          },
          "execution_count": 99
        }
      ]
    },
    {
      "cell_type": "code",
      "metadata": {
        "colab": {
          "base_uri": "https://localhost:8080/"
        },
        "id": "ApsywnW4xNHZ",
        "outputId": "b91973b2-82cc-4bf6-9dc7-ca2951f7ee6d"
      },
      "source": [
        "type(df)    #prints the type, df is a pandas data frame"
      ],
      "execution_count": null,
      "outputs": [
        {
          "output_type": "execute_result",
          "data": {
            "text/plain": [
              "pandas.core.frame.DataFrame"
            ]
          },
          "metadata": {
            "tags": []
          },
          "execution_count": 100
        }
      ]
    },
    {
      "cell_type": "code",
      "metadata": {
        "id": "cCbPD-FZzR9w"
      },
      "source": [
        "ad_data = df    #reassigns data frame (df) to a name that is more descriptive"
      ],
      "execution_count": null,
      "outputs": []
    },
    {
      "cell_type": "code",
      "metadata": {
        "colab": {
          "base_uri": "https://localhost:8080/"
        },
        "id": "gByYgEuazc9j",
        "outputId": "98d177cf-9995-411a-9a60-acec885cbb25"
      },
      "source": [
        "print (ad_data)   #print prints! But when it is a long df it shows head and tail and shape"
      ],
      "execution_count": null,
      "outputs": [
        {
          "output_type": "stream",
          "text": [
            "          WTT       PTI       EQW  ...       HQE       NXJ  TARGET CLASS\n",
            "0    0.913917  1.162073  0.567946  ...  0.879422  1.231409             1\n",
            "1    0.635632  1.003722  0.535342  ...  0.621552  1.492702             0\n",
            "2    0.721360  1.201493  0.921990  ...  0.957877  1.285597             0\n",
            "3    1.234204  1.386726  0.653046  ...  1.522692  1.153093             1\n",
            "4    1.279491  0.949750  0.627280  ...  1.463812  1.419167             1\n",
            "..        ...       ...       ...  ...       ...       ...           ...\n",
            "995  1.010953  1.034006  0.853116  ...  1.117340  1.348517             1\n",
            "996  0.575529  0.955786  0.941835  ...  0.958684  1.663489             0\n",
            "997  1.135470  0.982462  0.781905  ...  0.919191  1.385504             1\n",
            "998  1.084894  0.861769  0.407158  ...  1.277456  1.188063             1\n",
            "999  0.837460  0.961184  0.417006  ...  1.257190  1.364837             1\n",
            "\n",
            "[1000 rows x 11 columns]\n"
          ],
          "name": "stdout"
        }
      ]
    },
    {
      "cell_type": "code",
      "metadata": {
        "id": "6vC8ikpUxvEi"
      },
      "source": [
        "#if in plottingwe see that a few of data features are not standard, we can use:\n",
        "#StandardScaler = helps to normalise the data within a particular range (to be around mean=0,std=1). \n",
        "#it also helps in speeding up the calculations in an algorithm.\n",
        "from sklearn.preprocessing import StandardScaler"
      ],
      "execution_count": null,
      "outputs": []
    },
    {
      "cell_type": "code",
      "metadata": {
        "colab": {
          "base_uri": "https://localhost:8080/",
          "height": 448
        },
        "id": "dbbH2RR9kydW",
        "outputId": "9a1cc4f0-0198-4cfc-a93f-8deb6ff88787"
      },
      "source": [
        "#sns.distplot plots distribution, below we print 3 of the columns, can manipulate color, size, etc\n",
        "sns.distplot( ad_data[\"WTT\"] , color=\"skyblue\")\n",
        "sns.distplot( ad_data[\"PTI\"] , color=\"red\")\n",
        "sns.distplot( ad_data[\"EQW\"] , color=\"yellow\")\n",
        "sns.distplot( ad_data[\"HQE\"] , color=\"red\")\n",
        "\n"
      ],
      "execution_count": null,
      "outputs": [
        {
          "output_type": "stream",
          "text": [
            "/usr/local/lib/python3.6/dist-packages/seaborn/distributions.py:2557: FutureWarning: `distplot` is a deprecated function and will be removed in a future version. Please adapt your code to use either `displot` (a figure-level function with similar flexibility) or `histplot` (an axes-level function for histograms).\n",
            "  warnings.warn(msg, FutureWarning)\n",
            "/usr/local/lib/python3.6/dist-packages/seaborn/distributions.py:2557: FutureWarning: `distplot` is a deprecated function and will be removed in a future version. Please adapt your code to use either `displot` (a figure-level function with similar flexibility) or `histplot` (an axes-level function for histograms).\n",
            "  warnings.warn(msg, FutureWarning)\n",
            "/usr/local/lib/python3.6/dist-packages/seaborn/distributions.py:2557: FutureWarning: `distplot` is a deprecated function and will be removed in a future version. Please adapt your code to use either `displot` (a figure-level function with similar flexibility) or `histplot` (an axes-level function for histograms).\n",
            "  warnings.warn(msg, FutureWarning)\n",
            "/usr/local/lib/python3.6/dist-packages/seaborn/distributions.py:2557: FutureWarning: `distplot` is a deprecated function and will be removed in a future version. Please adapt your code to use either `displot` (a figure-level function with similar flexibility) or `histplot` (an axes-level function for histograms).\n",
            "  warnings.warn(msg, FutureWarning)\n"
          ],
          "name": "stderr"
        },
        {
          "output_type": "execute_result",
          "data": {
            "text/plain": [
              "<matplotlib.axes._subplots.AxesSubplot at 0x7f5244fb2828>"
            ]
          },
          "metadata": {
            "tags": []
          },
          "execution_count": 104
        },
        {
          "output_type": "display_data",
          "data": {
            "image/png": "[encoded data removed]",
            "text/plain": [
              "<Figure size 432x288 with 1 Axes>"
            ]
          },
          "metadata": {
            "tags": [],
            "needs_background": "light"
          }
        }
      ]
    },
    {
      "cell_type": "markdown",
      "metadata": {
        "id": "9zwi38sv4Shb"
      },
      "source": [
        "#Standardization and Normalization of data\n",
        "\n",
        "https://benalexkeen.com/feature-scaling-with-scikit-learn/\n",
        "\n",
        " Since the range of values of raw data varies widely, in some machine learning algorithms, objective functions do not work correctly without normalization or standardization. \n",
        "\n",
        "There are 4 types of scaling in sicikit\n",
        "\n",
        " StandardScaler, MinMaxScaler, RobustScaler, Normalizer\n",
        "Two most common used is Normalization (help to scale your features 0 to 1 ) and (standarization , Standardizing a dataset involves rescaling the distribution of values so that the mean of observed values is 0 and the standard deviation is 1) \n",
        "\n",
        "we are standardizing the data now   \n",
        "\n",
        "\n",
        " ![kk.png](data:image/png;base64,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)\n"
      ]
    },
    {
      "cell_type": "code",
      "metadata": {
        "id": "fnle_pHuGK2T"
      },
      "source": [
        "#imports StandardScaler library\n",
        "from sklearn.preprocessing import StandardScaler"
      ],
      "execution_count": null,
      "outputs": []
    },
    {
      "cell_type": "code",
      "metadata": {
        "id": "B0D7ON5lx4pe"
      },
      "source": [
        "#redefines scaler, call it whatever you like, scalar is as descriptive as you can get\n",
        "scalar = StandardScaler()"
      ],
      "execution_count": null,
      "outputs": []
    },
    {
      "cell_type": "code",
      "metadata": {
        "colab": {
          "base_uri": "https://localhost:8080/"
        },
        "id": "Ev0nPvWkx7b7",
        "outputId": "5389898b-b41c-4c12-da58-fdfaba382977"
      },
      "source": [
        "#.fit() calculates the parameters (𝜇,std,var) when StandardScaler used, we are dropping the target class bc that is the outcome\n",
        "\n",
        "scalar.fit(df.drop('TARGET CLASS', axis=1))"
      ],
      "execution_count": null,
      "outputs": [
        {
          "output_type": "execute_result",
          "data": {
            "text/plain": [
              "StandardScaler(copy=True, with_mean=True, with_std=True)"
            ]
          },
          "metadata": {
            "tags": []
          },
          "execution_count": 107
        }
      ]
    },
    {
      "cell_type": "code",
      "metadata": {
        "id": "31OaX4IMzWM7"
      },
      "source": [
        "#transformed data\n",
        "scaled_features = scalar.transform(df.drop('TARGET CLASS', axis=1))\n"
      ],
      "execution_count": null,
      "outputs": []
    },
    {
      "cell_type": "code",
      "metadata": {
        "id": "lQoEL0gSzj9O"
      },
      "source": [
        "#applies dataframe on all columns of scaled data, renaming the scaled data set, [:-1] means from the beginning all the way to the end\n",
        "df_feature = pd.DataFrame(scaled_features, columns=df.columns[:-1])"
      ],
      "execution_count": null,
      "outputs": []
    },
    {
      "cell_type": "code",
      "metadata": {
        "id": "a-5CGaVCf_wm"
      },
      "source": [
        "X = df.drop('TARGET CLASS',axis=1).values   #X is the input, this creates a new variable for it\n"
      ],
      "execution_count": null,
      "outputs": []
    },
    {
      "cell_type": "code",
      "metadata": {
        "colab": {
          "base_uri": "https://localhost:8080/",
          "height": 221
        },
        "id": "fUwKwv0dzuQ6",
        "outputId": "242e0a6e-580e-4792-8ec1-b6e82d3cc4d0"
      },
      "source": [
        "\n",
        "# we can see now the scaled values\n",
        "df_feature.head()"
      ],
      "execution_count": null,
      "outputs": [
        {
          "output_type": "execute_result",
          "data": {
            "text/html": [
              "<div>\n",
              "<style scoped>\n",
              "    .dataframe tbody tr th:only-of-type {\n",
              "        vertical-align: middle;\n",
              "    }\n",
              "\n",
              "    .dataframe tbody tr th {\n",
              "        vertical-align: top;\n",
              "    }\n",
              "\n",
              "    .dataframe thead th {\n",
              "        text-align: right;\n",
              "    }\n",
              "</style>\n",
              "<table border=\"1\" class=\"dataframe\">\n",
              "  <thead>\n",
              "    <tr style=\"text-align: right;\">\n",
              "      <th></th>\n",
              "      <th>WTT</th>\n",
              "      <th>PTI</th>\n",
              "      <th>EQW</th>\n",
              "      <th>SBI</th>\n",
              "      <th>LQE</th>\n",
              "      <th>QWG</th>\n",
              "      <th>FDJ</th>\n",
              "      <th>PJF</th>\n",
              "      <th>HQE</th>\n",
              "      <th>NXJ</th>\n",
              "    </tr>\n",
              "  </thead>\n",
              "  <tbody>\n",
              "    <tr>\n",
              "      <th>0</th>\n",
              "      <td>-0.123542</td>\n",
              "      <td>0.185907</td>\n",
              "      <td>-0.913431</td>\n",
              "      <td>0.319629</td>\n",
              "      <td>-1.033637</td>\n",
              "      <td>-2.308375</td>\n",
              "      <td>-0.798951</td>\n",
              "      <td>-1.482368</td>\n",
              "      <td>-0.949719</td>\n",
              "      <td>-0.643314</td>\n",
              "    </tr>\n",
              "    <tr>\n",
              "      <th>1</th>\n",
              "      <td>-1.084836</td>\n",
              "      <td>-0.430348</td>\n",
              "      <td>-1.025313</td>\n",
              "      <td>0.625388</td>\n",
              "      <td>-0.444847</td>\n",
              "      <td>-1.152706</td>\n",
              "      <td>-1.129797</td>\n",
              "      <td>-0.202240</td>\n",
              "      <td>-1.828051</td>\n",
              "      <td>0.636759</td>\n",
              "    </tr>\n",
              "    <tr>\n",
              "      <th>2</th>\n",
              "      <td>-0.788702</td>\n",
              "      <td>0.339318</td>\n",
              "      <td>0.301511</td>\n",
              "      <td>0.755873</td>\n",
              "      <td>2.031693</td>\n",
              "      <td>-0.870156</td>\n",
              "      <td>2.599818</td>\n",
              "      <td>0.285707</td>\n",
              "      <td>-0.682494</td>\n",
              "      <td>-0.377850</td>\n",
              "    </tr>\n",
              "    <tr>\n",
              "      <th>3</th>\n",
              "      <td>0.982841</td>\n",
              "      <td>1.060193</td>\n",
              "      <td>-0.621399</td>\n",
              "      <td>0.625299</td>\n",
              "      <td>0.452820</td>\n",
              "      <td>-0.267220</td>\n",
              "      <td>1.750208</td>\n",
              "      <td>1.066491</td>\n",
              "      <td>1.241325</td>\n",
              "      <td>-1.026987</td>\n",
              "    </tr>\n",
              "    <tr>\n",
              "      <th>4</th>\n",
              "      <td>1.139275</td>\n",
              "      <td>-0.640392</td>\n",
              "      <td>-0.709819</td>\n",
              "      <td>-0.057175</td>\n",
              "      <td>0.822886</td>\n",
              "      <td>-0.936773</td>\n",
              "      <td>0.596782</td>\n",
              "      <td>-1.472352</td>\n",
              "      <td>1.040772</td>\n",
              "      <td>0.276510</td>\n",
              "    </tr>\n",
              "  </tbody>\n",
              "</table>\n",
              "</div>"
            ],
            "text/plain": [
              "        WTT       PTI       EQW  ...       PJF       HQE       NXJ\n",
              "0 -0.123542  0.185907 -0.913431  ... -1.482368 -0.949719 -0.643314\n",
              "1 -1.084836 -0.430348 -1.025313  ... -0.202240 -1.828051  0.636759\n",
              "2 -0.788702  0.339318  0.301511  ...  0.285707 -0.682494 -0.377850\n",
              "3  0.982841  1.060193 -0.621399  ...  1.066491  1.241325 -1.026987\n",
              "4  1.139275 -0.640392 -0.709819  ... -1.472352  1.040772  0.276510\n",
              "\n",
              "[5 rows x 10 columns]"
            ]
          },
          "metadata": {
            "tags": []
          },
          "execution_count": 111
        }
      ]
    },
    {
      "cell_type": "code",
      "metadata": {
        "colab": {
          "base_uri": "https://localhost:8080/",
          "height": 448
        },
        "id": "iSWVwWAHjtiL",
        "outputId": "b424e527-bcd1-49cb-aa68-57cb7668a057"
      },
      "source": [
        "# after scaling let's compare the columns, visualization after scaling, we see that is more uniform and closer to the mean\n",
        "sns.distplot( df_feature[\"WTT\"] , color=\"skyblue\")\n",
        "sns.distplot( df_feature[\"PTI\"] , color=\"red\")\n",
        "sns.distplot( df_feature[\"EQW\"] , color=\"yellow\")\n",
        "sns.distplot( df_feature[\"HQE\"] , color=\"red\")\n"
      ],
      "execution_count": null,
      "outputs": [
        {
          "output_type": "stream",
          "text": [
            "/usr/local/lib/python3.6/dist-packages/seaborn/distributions.py:2557: FutureWarning: `distplot` is a deprecated function and will be removed in a future version. Please adapt your code to use either `displot` (a figure-level function with similar flexibility) or `histplot` (an axes-level function for histograms).\n",
            "  warnings.warn(msg, FutureWarning)\n",
            "/usr/local/lib/python3.6/dist-packages/seaborn/distributions.py:2557: FutureWarning: `distplot` is a deprecated function and will be removed in a future version. Please adapt your code to use either `displot` (a figure-level function with similar flexibility) or `histplot` (an axes-level function for histograms).\n",
            "  warnings.warn(msg, FutureWarning)\n",
            "/usr/local/lib/python3.6/dist-packages/seaborn/distributions.py:2557: FutureWarning: `distplot` is a deprecated function and will be removed in a future version. Please adapt your code to use either `displot` (a figure-level function with similar flexibility) or `histplot` (an axes-level function for histograms).\n",
            "  warnings.warn(msg, FutureWarning)\n",
            "/usr/local/lib/python3.6/dist-packages/seaborn/distributions.py:2557: FutureWarning: `distplot` is a deprecated function and will be removed in a future version. Please adapt your code to use either `displot` (a figure-level function with similar flexibility) or `histplot` (an axes-level function for histograms).\n",
            "  warnings.warn(msg, FutureWarning)\n"
          ],
          "name": "stderr"
        },
        {
          "output_type": "execute_result",
          "data": {
            "text/plain": [
              "<matplotlib.axes._subplots.AxesSubplot at 0x7f5244851a90>"
            ]
          },
          "metadata": {
            "tags": []
          },
          "execution_count": 112
        },
        {
          "output_type": "display_data",
          "data": {
            "image/png": "[encoded data removed]",
            "text/plain": [
              "<Figure size 432x288 with 1 Axes>"
            ]
          },
          "metadata": {
            "tags": [],
            "needs_background": "light"
          }
        }
      ]
    },
    {
      "cell_type": "markdown",
      "metadata": {
        "id": "3Ks1GGGUHepC"
      },
      "source": [
        "## scikit-learn 4-step modeling pattern\n"
      ]
    },
    {
      "cell_type": "markdown",
      "metadata": {
        "id": "hrJqP_DgKI_x"
      },
      "source": [
        "Step 1 train and test your model\n",
        "Import the library"
      ]
    },
    {
      "cell_type": "markdown",
      "metadata": {
        "id": "ySTchiHEOma7"
      },
      "source": [
        "\n",
        "With sklearn.model_selection.train_test_split you are creating 4 portions of data which will be used for fitting & predicting values.\n",
        "\n",
        "X_train, X_test, y_train, y_test = train_test_split(X, y, test_size = 0.4,random_state=42) \n",
        "\n",
        "X_train, X_test, y_train, y_test\n",
        "Now\n",
        "\n",
        "1). X_train - This includes your all independent variables,these will be used to train the model, also as we have specified the test_size = 0.4, this means 60% of observations from your complete data will be used to train/fit the model and rest 40% will be used to test the model.\n",
        "\n",
        "2). X_test - This is remaining 40% portion of the independent variables from the data which will not be used in the training phase and will be used to make predictions to test the accuracy of the model.\n",
        "\n",
        "3). y_train - This is your dependent variable which needs to be predicted by this model, this includes category labels against your independent variables, we need to specify our dependent variable while training/fitting the model.\n",
        "\n",
        "4). y_test - This data has category labels for your test data, these labels will be used to test the accuracy between actual and predicted categories.\n",
        "\n",
        "Now you can fit a model on this data, let's fit sklearn.linear_model.LogisticRegression\n",
        "\n"
      ]
    },
    {
      "cell_type": "code",
      "metadata": {
        "id": "-YTu4jr-0BrN"
      },
      "source": [
        "from sklearn.model_selection import train_test_split    #imports more from sklearn for prediction\n",
        "\n",
        "#the code below is the standard for splitting data for testing and predicting, in this case, scaled features(input) \n",
        "#and the target class(output), test size =.3 which means 30% of data, so train size is 70%"
      ],
      "execution_count": null,
      "outputs": []
    },
    {
      "cell_type": "code",
      "metadata": {
        "id": "Z9RKgY940BuO"
      },
      "source": [
        "X_train, X_test, y_train, y_test  = train_test_split(scaled_features, df['TARGET CLASS'], test_size =0.3)"
      ],
      "execution_count": null,
      "outputs": []
    },
    {
      "cell_type": "code",
      "metadata": {
        "colab": {
          "base_uri": "https://localhost:8080/"
        },
        "id": "eiqSZsW1LaSj",
        "outputId": "2d2b2282-6192-4398-bc08-3d6c9fac9fd8"
      },
      "source": [
        "print (\"X_train: \", X_train)\n",
        "print (\"y_train: \", y_train)\n",
        "\n",
        "print (\"y_test: \", y_test)"
      ],
      "execution_count": null,
      "outputs": [
        {
          "output_type": "stream",
          "text": [
            "X_train:  [[ 0.47005882 -0.72316829  2.210923   ... -1.5984759   1.21483919\n",
            "   0.25058364]\n",
            " [-0.07648263 -0.53093973 -1.0593043  ... -0.12347641  0.84926287\n",
            "  -0.47430297]\n",
            " [ 0.54821581 -0.45737012 -1.83231202 ... -0.67404019 -0.32925607\n",
            "  -1.39457191]\n",
            " ...\n",
            " [ 0.50871144 -0.50116641  1.07015057 ...  1.07978351 -1.50200883\n",
            "   1.36467511]\n",
            " [-0.91924416 -0.09825576  0.80249573 ...  0.80261192 -1.6429345\n",
            "  -1.00266799]\n",
            " [-0.45465423  1.37103342  0.21786116 ...  2.083538   -0.72331775\n",
            "   0.18329331]]\n",
            "y_train:  229    0\n",
            "831    1\n",
            "82     1\n",
            "497    0\n",
            "123    1\n",
            "      ..\n",
            "44     0\n",
            "697    0\n",
            "917    0\n",
            "838    0\n",
            "778    0\n",
            "Name: TARGET CLASS, Length: 700, dtype: int64\n",
            "y_test:  900    1\n",
            "51     1\n",
            "925    0\n",
            "42     1\n",
            "88     1\n",
            "      ..\n",
            "850    1\n",
            "485    0\n",
            "257    0\n",
            "318    1\n",
            "809    1\n",
            "Name: TARGET CLASS, Length: 300, dtype: int64\n"
          ],
          "name": "stdout"
        }
      ]
    },
    {
      "cell_type": "markdown",
      "metadata": {
        "id": "dFy06R1WJYnt"
      },
      "source": [
        "Name of the object does not matter\n",
        "Can specify tuning parameters (aka \"hyperparameters\") during this step\n",
        "All parameters not specified are set to their defaults"
      ]
    },
    {
      "cell_type": "code",
      "metadata": {
        "id": "kcONFQA3zvtu"
      },
      "source": [
        "from sklearn.neighbors import  KNeighborsClassifier     #this imports the library for fit using the k, or neighbor"
      ],
      "execution_count": null,
      "outputs": []
    },
    {
      "cell_type": "code",
      "metadata": {
        "id": "dPUYq0GTz89Q"
      },
      "source": [
        "knn = KNeighborsClassifier(n_neighbors=1)   #renaming to make it easier to call, the value k passed, n_neighbors = 1, means k = 1"
      ],
      "execution_count": null,
      "outputs": []
    },
    {
      "cell_type": "code",
      "metadata": {
        "colab": {
          "base_uri": "https://localhost:8080/"
        },
        "id": "jTurxKHvz-TM",
        "outputId": "b7944ec6-4a65-4d07-d9c5-409e81597a99"
      },
      "source": [
        "knn.fit(X_train,y_train)      #Curve fitting involves finding the optimal parameters to a function that maps examples of inputs to outputs."
      ],
      "execution_count": null,
      "outputs": [
        {
          "output_type": "execute_result",
          "data": {
            "text/plain": [
              "KNeighborsClassifier(algorithm='auto', leaf_size=30, metric='minkowski',\n",
              "                     metric_params=None, n_jobs=None, n_neighbors=1, p=2,\n",
              "                     weights='uniform')"
            ]
          },
          "metadata": {
            "tags": []
          },
          "execution_count": 118
        }
      ]
    },
    {
      "cell_type": "code",
      "metadata": {
        "id": "oHd48aqf0gYV"
      },
      "source": [
        "predict = knn.predict(X_test)  #reassigning to predict for easier call, also apt name, X_test, must use x, bc that is the input"
      ],
      "execution_count": null,
      "outputs": []
    },
    {
      "cell_type": "code",
      "metadata": {
        "colab": {
          "base_uri": "https://localhost:8080/"
        },
        "id": "k9q-OTab0kLM",
        "outputId": "dcead86b-e400-43a3-8101-321850084c0c"
      },
      "source": [
        "#predict\n",
        "#print (predict)\n",
        "predict     #output of the matrix, True= 1, False= 0"
      ],
      "execution_count": null,
      "outputs": [
        {
          "output_type": "execute_result",
          "data": {
            "text/plain": [
              "array([1, 1, 0, 0, 1, 1, 0, 1, 0, 0, 1, 0, 0, 1, 0, 0, 0, 0, 1, 0, 0, 1,\n",
              "       0, 1, 0, 0, 1, 1, 1, 1, 1, 0, 0, 0, 0, 1, 1, 0, 1, 1, 0, 1, 0, 1,\n",
              "       1, 0, 1, 1, 0, 1, 1, 1, 1, 1, 0, 0, 0, 1, 0, 0, 1, 0, 0, 1, 0, 1,\n",
              "       1, 0, 0, 1, 0, 0, 0, 1, 0, 0, 0, 0, 1, 0, 1, 1, 1, 0, 1, 0, 1, 0,\n",
              "       0, 1, 1, 1, 1, 1, 1, 1, 1, 1, 0, 1, 1, 0, 1, 0, 1, 1, 0, 1, 0, 0,\n",
              "       1, 0, 0, 1, 1, 0, 0, 0, 0, 1, 1, 0, 0, 1, 0, 1, 1, 0, 1, 1, 1, 1,\n",
              "       1, 1, 0, 1, 1, 0, 1, 1, 0, 1, 1, 0, 1, 0, 1, 1, 0, 1, 0, 0, 1, 1,\n",
              "       0, 1, 0, 0, 0, 1, 0, 0, 0, 0, 0, 1, 0, 0, 0, 0, 1, 0, 1, 0, 1, 0,\n",
              "       1, 1, 1, 0, 1, 1, 0, 0, 0, 0, 1, 0, 0, 0, 0, 1, 1, 0, 1, 0, 1, 1,\n",
              "       1, 1, 0, 1, 0, 0, 1, 0, 0, 1, 1, 1, 1, 1, 1, 0, 0, 0, 1, 0, 1, 0,\n",
              "       0, 0, 0, 1, 0, 0, 1, 1, 1, 1, 0, 0, 1, 1, 1, 1, 0, 1, 1, 0, 1, 1,\n",
              "       1, 0, 1, 0, 0, 0, 1, 0, 1, 1, 1, 0, 1, 1, 1, 0, 1, 0, 1, 0, 1, 0,\n",
              "       0, 0, 0, 1, 0, 1, 0, 1, 1, 0, 1, 1, 1, 1, 0, 0, 0, 1, 1, 1, 0, 1,\n",
              "       1, 0, 0, 1, 1, 1, 1, 0, 1, 1, 1, 0, 1, 1])"
            ]
          },
          "metadata": {
            "tags": []
          },
          "execution_count": 120
        }
      ]
    },
    {
      "cell_type": "code",
      "metadata": {
        "id": "dfhWGCeI0mEs"
      },
      "source": [
        "#imports classification_report, confusion_matrix objects within sklearn.metrics, can import multiple funtions from sklearn at once with comma\n",
        "from sklearn.metrics import  classification_report, confusion_matrix"
      ],
      "execution_count": null,
      "outputs": []
    },
    {
      "cell_type": "code",
      "metadata": {
        "colab": {
          "base_uri": "https://localhost:8080/"
        },
        "id": "-Br0Lg4Y0v7x",
        "outputId": "1a033450-a402-44b6-8e64-e910a0380a94"
      },
      "source": [
        "#confusion matrix is an N x N matrix used for evaluating the performance of a classification model, \n",
        "#where N is the number of target classes, the matrix compares the actual target values (output) with those predicted\n",
        "print(confusion_matrix(y_test,predict))"
      ],
      "execution_count": null,
      "outputs": [
        {
          "output_type": "stream",
          "text": [
            "[[121  19]\n",
            " [ 20 140]]\n"
          ],
          "name": "stdout"
        }
      ]
    },
    {
      "cell_type": "code",
      "metadata": {
        "colab": {
          "base_uri": "https://localhost:8080/",
          "height": 546
        },
        "id": "9TC9-OLH4MWY",
        "outputId": "2d5753ca-e58f-47d6-c9f8-b50992af0ce0"
      },
      "source": [
        "plt.figure(figsize=(9,9))     #heatmap of conf matrix is more visual presentation, plt.figure adjust the size, the default is smaller\r\n",
        "sns.heatmap(confusion_matrix(y_test, predict), annot=True, fmt=\".3f\", linewidths=.5, square = True, cmap = 'Blues_r');\r\n",
        "# above after the matrix input is adjustments for color, size, etc\r\n",
        "plt.ylabel('Actual label');\r\n",
        "plt.xlabel('Predicted label');      #labels axis\r\n",
        "all_sample_title = 'Accuracy Score: {0}'.format(knn.score(X_test, y_test))    #concatenating with whatever the calculation for the score is\r\n",
        "plt.title(all_sample_title, size = 15);                                       #labeling title using concatenation from above"
      ],
      "execution_count": null,
      "outputs": [
        {
          "output_type": "display_data",
          "data": {
            "image/png": "[encoded data removed]",
            "text/plain": [
              "<Figure size 648x648 with 2 Axes>"
            ]
          },
          "metadata": {
            "tags": [],
            "needs_background": "light"
          }
        }
      ]
    },
    {
      "cell_type": "code",
      "metadata": {
        "colab": {
          "base_uri": "https://localhost:8080/"
        },
        "id": "_74q_q5j00dx",
        "outputId": "4df7d6cc-afc2-4c57-a743-9601409b3522"
      },
      "source": [
        "#Precision = What percent of your predictions were correct?\n",
        "#Recall = What percent of the positive cases did you catch?\n",
        "#F1 score = What percent of positive predictions were correct?\n",
        "#The F1 score is a weighted harmonic mean of precision and recall such that the best score is 1.0 and the worst is 0.0\n",
        "#Recall is the ability of a classifier to find all positive instances.\n",
        "\n",
        "print(classification_report(y_test,predict))"
      ],
      "execution_count": null,
      "outputs": [
        {
          "output_type": "stream",
          "text": [
            "              precision    recall  f1-score   support\n",
            "\n",
            "           0       0.86      0.86      0.86       140\n",
            "           1       0.88      0.88      0.88       160\n",
            "\n",
            "    accuracy                           0.87       300\n",
            "   macro avg       0.87      0.87      0.87       300\n",
            "weighted avg       0.87      0.87      0.87       300\n",
            "\n"
          ],
          "name": "stdout"
        }
      ]
    },
    {
      "cell_type": "code",
      "metadata": {
        "id": "n2O0ajKc05_x",
        "colab": {
          "base_uri": "https://localhost:8080/"
        },
        "outputId": "cbaf8c8e-b9f2-4d5d-fd98-10098f4b2ef0"
      },
      "source": [
        "#sklearn metrics module implements several loss, score, and utility functions to measure classification performance\n",
        "#calculating the acuracy score (y_test vs y_predict)\n",
        "from sklearn import metrics\n",
        "first_trial = []\n",
        "first_trial.append(metrics.accuracy_score(y_test,predict))\n",
        "print(first_trial)"
      ],
      "execution_count": null,
      "outputs": [
        {
          "output_type": "stream",
          "text": [
            "[0.87]\n"
          ],
          "name": "stdout"
        }
      ]
    },
    {
      "cell_type": "markdown",
      "metadata": {
        "id": "HKQ_Ddd_4f6M"
      },
      "source": [
        "# Repeat above steps for K = 5, see what happens with Accuracy"
      ]
    },
    {
      "cell_type": "code",
      "metadata": {
        "id": "z-eCkmGO4mp0",
        "colab": {
          "base_uri": "https://localhost:8080/"
        },
        "outputId": "2a4f2c4c-01ca-4b2d-fde7-e6638b56345a"
      },
      "source": [
        "knn = KNeighborsClassifier(n_neighbors=5)     #here is where we change the k to = 5 (n_neighbors = k)\n",
        "knn.fit(X_train,y_train)"
      ],
      "execution_count": null,
      "outputs": [
        {
          "output_type": "execute_result",
          "data": {
            "text/plain": [
              "KNeighborsClassifier(algorithm='auto', leaf_size=30, metric='minkowski',\n",
              "                     metric_params=None, n_jobs=None, n_neighbors=5, p=2,\n",
              "                     weights='uniform')"
            ]
          },
          "metadata": {
            "tags": []
          },
          "execution_count": 126
        }
      ]
    },
    {
      "cell_type": "code",
      "metadata": {
        "id": "M2hFjUez4msT",
        "colab": {
          "base_uri": "https://localhost:8080/"
        },
        "outputId": "1aed8bc2-8e9c-4468-e269-c2994751c12b"
      },
      "source": [
        "predict = knn.predict(X_test)\n",
        "print(confusion_matrix(y_test,predict))"
      ],
      "execution_count": null,
      "outputs": [
        {
          "output_type": "stream",
          "text": [
            "[[131   9]\n",
            " [ 13 147]]\n"
          ],
          "name": "stdout"
        }
      ]
    },
    {
      "cell_type": "code",
      "metadata": {
        "id": "d8UoZk5i4mvJ",
        "colab": {
          "base_uri": "https://localhost:8080/",
          "height": 540
        },
        "outputId": "deec9375-01a3-41a0-aea4-ebec2576eb9d"
      },
      "source": [
        "plt.figure(figsize=(9,9))     #heatmap of conf matrix is more visual presentation, plt.figure adjust the size, the default is smaller\n",
        "sns.heatmap(confusion_matrix(y_test, predict), annot=True, fmt=\".3f\", linewidths=.5, square = True, cmap = 'Blues_r');\n",
        "# above after the matrix input is adjustments for color, size, etc\n",
        "plt.ylabel('Actual label');\n",
        "plt.xlabel('Predicted label');      #labels axis\n",
        "all_sample_title = 'Accuracy Score: {0}'.format(knn.score(X_test, y_test))    #concatenating with whatever the calculation for the score is\n",
        "plt.title(all_sample_title, size = 15);      "
      ],
      "execution_count": null,
      "outputs": [
        {
          "output_type": "display_data",
          "data": {
            "image/png": "[encoded data removed]",
            "text/plain": [
              "<Figure size 648x648 with 2 Axes>"
            ]
          },
          "metadata": {
            "tags": [],
            "needs_background": "light"
          }
        }
      ]
    },
    {
      "cell_type": "code",
      "metadata": {
        "id": "M5mFEQqQ4mzh",
        "colab": {
          "base_uri": "https://localhost:8080/"
        },
        "outputId": "e0689dc8-3143-4df1-c816-3e67a53b9f05"
      },
      "source": [
        "print(classification_report(y_test,predict))"
      ],
      "execution_count": null,
      "outputs": [
        {
          "output_type": "stream",
          "text": [
            "              precision    recall  f1-score   support\n",
            "\n",
            "           0       0.91      0.94      0.92       140\n",
            "           1       0.94      0.92      0.93       160\n",
            "\n",
            "    accuracy                           0.93       300\n",
            "   macro avg       0.93      0.93      0.93       300\n",
            "weighted avg       0.93      0.93      0.93       300\n",
            "\n"
          ],
          "name": "stdout"
        }
      ]
    },
    {
      "cell_type": "code",
      "metadata": {
        "id": "biNZkTVB4m2G",
        "colab": {
          "base_uri": "https://localhost:8080/"
        },
        "outputId": "cde4359d-51a8-4b5b-f26d-b5dc46318997"
      },
      "source": [
        "from sklearn import metrics\n",
        "first_trial = []\n",
        "first_trial.append(metrics.accuracy_score(y_test,predict))\n",
        "print(first_trial)"
      ],
      "execution_count": null,
      "outputs": [
        {
          "output_type": "stream",
          "text": [
            "[0.9266666666666666]\n"
          ],
          "name": "stdout"
        }
      ]
    },
    {
      "cell_type": "markdown",
      "metadata": {
        "id": "LQp7CSNm1DyX"
      },
      "source": [
        "# K Value and Accuracy\n",
        "Selecting the optimal K value to achieve the maximum accuracy of the model \n",
        "Initialize a random K value and start computing.\n",
        "Derive a plot between error rate and K denoting values in a defined range. Then choose the K value as having a minimum error rate.\n"
      ]
    },
    {
      "cell_type": "code",
      "metadata": {
        "id": "ShxwaWEk1eBp"
      },
      "source": [
        "import numpy as np"
      ],
      "execution_count": null,
      "outputs": []
    },
    {
      "cell_type": "markdown",
      "metadata": {
        "id": "n5cJE1Sc8L9s"
      },
      "source": [
        "Now it’s time to improve the model and find out the optimal k value.\n"
      ]
    },
    {
      "cell_type": "code",
      "metadata": {
        "id": "BvtiNxNC3Rd7"
      },
      "source": [
        "#sklearn metrics module implements several loss, score, and utility functions to measure classification performance\n",
        "from sklearn import metrics"
      ],
      "execution_count": null,
      "outputs": []
    },
    {
      "cell_type": "code",
      "metadata": {
        "id": "tA22-2R21FUl"
      },
      "source": [
        "score =[]   #holds the values for the outcome"
      ],
      "execution_count": null,
      "outputs": []
    },
    {
      "cell_type": "code",
      "metadata": {
        "colab": {
          "base_uri": "https://localhost:8080/"
        },
        "id": "yHyk9B7-1HP3",
        "outputId": "7aed0fb0-496c-49b0-c524-e02da97f8310"
      },
      "source": [
        "#runs k from 1 to 39, passes the value of K to KNeighborsClassifier and calculates the accuracy score (y_test vs y_predect)\r\n",
        "for i in range(1,40):\r\n",
        "  knn = KNeighborsClassifier(n_neighbors=i)\r\n",
        "  knn.fit(X_train, y_train)\r\n",
        "  y_pred = knn.predict(X_test)\r\n",
        "  score.append(metrics.accuracy_score(y_test,y_pred)) #output tested, and output predicted\r\n",
        "\r\n",
        "print(score)"
      ],
      "execution_count": null,
      "outputs": [
        {
          "output_type": "stream",
          "text": [
            "[0.87, 0.8933333333333333, 0.92, 0.92, 0.9266666666666666, 0.9233333333333333, 0.94, 0.94, 0.94, 0.9266666666666666, 0.9466666666666667, 0.9366666666666666, 0.9466666666666667, 0.9333333333333333, 0.9366666666666666, 0.93, 0.9366666666666666, 0.94, 0.94, 0.9433333333333334, 0.9433333333333334, 0.9433333333333334, 0.9366666666666666, 0.94, 0.94, 0.9466666666666667, 0.9466666666666667, 0.95, 0.9466666666666667, 0.95, 0.9466666666666667, 0.95, 0.9466666666666667, 0.9466666666666667, 0.9433333333333334, 0.95, 0.95, 0.9466666666666667, 0.9533333333333334]\n"
          ],
          "name": "stdout"
        }
      ]
    },
    {
      "cell_type": "code",
      "metadata": {
        "colab": {
          "base_uri": "https://localhost:8080/",
          "height": 425
        },
        "id": "bs714lUa1qcc",
        "outputId": "8fee95fc-d15c-43e3-b2d6-199531ac4a59"
      },
      "source": [
        "plt.figure(figsize=(15,6))     #(height, length)\r\n",
        "plt.plot(range(1,40),score, color='blue',linestyle='dashed',  #score = variable that is being plotted\r\n",
        "         marker='o',markerfacecolor='red', markersize=10)     #general manipulation of visuals\r\n",
        "plt.xlabel('Value of K for KNN')\r\n",
        "plt.ylabel('Testing Accuracy')\r\n"
      ],
      "execution_count": null,
      "outputs": [
        {
          "output_type": "execute_result",
          "data": {
            "text/plain": [
              "Text(0, 0.5, 'Testing Accuracy')"
            ]
          },
          "metadata": {
            "tags": []
          },
          "execution_count": 135
        },
        {
          "output_type": "display_data",
          "data": {
            "image/png": "[encoded data removed]",
            "text/plain": [
              "<Figure size 1080x432 with 1 Axes>"
            ]
          },
          "metadata": {
            "tags": [],
            "needs_background": "light"
          }
        }
      ]
    },
    {
      "cell_type": "markdown",
      "metadata": {
        "id": "Nckn1ecS-XI-"
      },
      "source": [
        "#Error Rate and K value"
      ]
    },
    {
      "cell_type": "code",
      "metadata": {
        "id": "qKNHtJCk2Avi"
      },
      "source": [
        "error_rate = []\r\n",
        "#might take some time, lots of math\r\n",
        "for i in range(1,40):\r\n",
        "    \r\n",
        "    knn = KNeighborsClassifier(n_neighbors=i)\r\n",
        "    knn.fit(X_train,y_train)\r\n",
        "    pred_i = knn.predict(X_test)\r\n",
        "    error_rate.append(np.mean(pred_i != y_test))"
      ],
      "execution_count": null,
      "outputs": []
    },
    {
      "cell_type": "code",
      "metadata": {
        "colab": {
          "base_uri": "https://localhost:8080/",
          "height": 458
        },
        "id": "_46eQo8o-bZW",
        "outputId": "6d339e63-fdab-4231-9e02-51ccf743a88d"
      },
      "source": [
        "plt.figure(figsize=(15,6))\r\n",
        "plt.plot(range(1,40),error_rate,color='pink', linestyle='dashed', marker='o',\r\n",
        "         markerfacecolor='gray', markersize=10)\r\n",
        "plt.title('Error Rate vs. K Value')\r\n",
        "plt.xlabel('K')\r\n",
        "plt.ylabel('Error Rate')\r\n",
        "print(\"Minimum error:-\",min(error_rate),\"at K =\",error_rate.index(min(error_rate))) #gives minumum value of errors\r\n",
        "print(\"Maximum error:-\",max(error_rate),\"at K =\",error_rate.index(max(error_rate))) #gives maximum value at different K's\r\n",
        "#print(\"Minimum error:-\",min(error_rate),\"at K =\",error_rate.index(min(error_rate)))"
      ],
      "execution_count": null,
      "outputs": [
        {
          "output_type": "stream",
          "text": [
            "Minimum error:- 0.04666666666666667 at K = 38\n",
            "Maximum error:- 0.13 at K = 0\n"
          ],
          "name": "stdout"
        },
        {
          "output_type": "display_data",
          "data": {
            "image/png": "[encoded data removed]",
            "text/plain": [
              "<Figure size 1080x432 with 1 Axes>"
            ]
          },
          "metadata": {
            "tags": [],
            "needs_background": "light"
          }
        }
      ]
    },
    {
      "cell_type": "code",
      "metadata": {
        "id": "DTnySkcp-bc5"
      },
      "source": [
        ""
      ],
      "execution_count": null,
      "outputs": []
    },
    {
      "cell_type": "markdown",
      "metadata": {
        "id": "EmJt7wg34wMN"
      },
      "source": [
        "# Conclusion"
      ]
    },
    {
      "cell_type": "code",
      "metadata": {
        "id": "gUi4-SZC4yiy"
      },
      "source": [
        ""
      ],
      "execution_count": null,
      "outputs": []
    },
    {
      "cell_type": "markdown",
      "metadata": {
        "id": "zOIiDu5f7qtt"
      },
      "source": [
        "Before we scale the data, the information is not consistent. After using the scalar function, the data is much more uniform and the info and the charts align to the mean and with eachother. After splitting the data between testing and training info we are able to use predictive functions to see how well we can predict the output, the target class. In this case the target case is binary, 0 and 1 or no and yes. We run the classification report and make a confusion matrix to better understand and visualize our prediction. The KNN (K-Nearest Neighbor) algorithm assumes that similar things exist in close proximity. We use this algorithm for better accuracy. For the first confusion matrix, we choose our K, or number of neighboring data, to be 1, and the second matrix, our K is equal to 5. We know that increasing the K does not always mean more accuracy. However in this case, it does, from 87% to 93%.  When the K is 5 our F1 score improves as well, we go from 88 to 93, which means we have a higher chance for true positives, meaning we guessed yes and it was yes. \n",
        "In the last two sections we test for accuracy by running the data and adjusting the K from 1 to 39. When we plot the data the accuracy increases. When the error rate is checked similiarly and plotted we see that it decreases. "
      ]
    }
  ]
}
